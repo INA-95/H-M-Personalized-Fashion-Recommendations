{
 "cells": [
  {
   "cell_type": "code",
   "execution_count": 1,
   "id": "77e90348",
   "metadata": {
    "_cell_guid": "b1076dfc-b9ad-4769-8c92-a6c4dae69d19",
    "_uuid": "8f2839f25d086af736a60e9eeb907d3b93b6e0e5",
    "execution": {
     "iopub.execute_input": "2022-11-23T13:04:43.069659Z",
     "iopub.status.busy": "2022-11-23T13:04:43.069012Z",
     "iopub.status.idle": "2022-11-23T13:04:43.090788Z",
     "shell.execute_reply": "2022-11-23T13:04:43.089479Z"
    },
    "papermill": {
     "duration": 0.030493,
     "end_time": "2022-11-23T13:04:43.093842",
     "exception": false,
     "start_time": "2022-11-23T13:04:43.063349",
     "status": "completed"
    },
    "tags": []
   },
   "outputs": [
    {
     "name": "stdout",
     "output_type": "stream",
     "text": [
      "/kaggle/input/movielens-20m-dataset/rating.csv\n",
      "/kaggle/input/movielens-20m-dataset/link.csv\n",
      "/kaggle/input/movielens-20m-dataset/genome_tags.csv\n",
      "/kaggle/input/movielens-20m-dataset/genome_scores.csv\n",
      "/kaggle/input/movielens-20m-dataset/tag.csv\n",
      "/kaggle/input/movielens-20m-dataset/movie.csv\n"
     ]
    }
   ],
   "source": [
    "import numpy as np # linear algebra\n",
    "import pandas as pd # data processing, CSV file I/O (e.g. pd.read_csv)\n",
    "\n",
    "import os\n",
    "for dirname, _, filenames in os.walk('/kaggle/input'):\n",
    "    for filename in filenames:\n",
    "        print(os.path.join(dirname, filename))"
   ]
  },
  {
   "cell_type": "code",
   "execution_count": 2,
   "id": "b2c492d6",
   "metadata": {
    "execution": {
     "iopub.execute_input": "2022-11-23T13:04:43.100185Z",
     "iopub.status.busy": "2022-11-23T13:04:43.099809Z",
     "iopub.status.idle": "2022-11-23T13:05:09.145810Z",
     "shell.execute_reply": "2022-11-23T13:05:09.144540Z"
    },
    "papermill": {
     "duration": 26.051871,
     "end_time": "2022-11-23T13:05:09.148358",
     "exception": false,
     "start_time": "2022-11-23T13:04:43.096487",
     "status": "completed"
    },
    "tags": []
   },
   "outputs": [],
   "source": [
    "# import dataset\n",
    "\n",
    "df = pd.read_csv('/kaggle/input/movielens-20m-dataset/rating.csv')"
   ]
  },
  {
   "cell_type": "code",
   "execution_count": 3,
   "id": "92f21f74",
   "metadata": {
    "execution": {
     "iopub.execute_input": "2022-11-23T13:05:09.154735Z",
     "iopub.status.busy": "2022-11-23T13:05:09.154358Z",
     "iopub.status.idle": "2022-11-23T13:05:09.182218Z",
     "shell.execute_reply": "2022-11-23T13:05:09.181136Z"
    },
    "papermill": {
     "duration": 0.0337,
     "end_time": "2022-11-23T13:05:09.184602",
     "exception": false,
     "start_time": "2022-11-23T13:05:09.150902",
     "status": "completed"
    },
    "tags": []
   },
   "outputs": [
    {
     "data": {
      "text/html": [
       "<div>\n",
       "<style scoped>\n",
       "    .dataframe tbody tr th:only-of-type {\n",
       "        vertical-align: middle;\n",
       "    }\n",
       "\n",
       "    .dataframe tbody tr th {\n",
       "        vertical-align: top;\n",
       "    }\n",
       "\n",
       "    .dataframe thead th {\n",
       "        text-align: right;\n",
       "    }\n",
       "</style>\n",
       "<table border=\"1\" class=\"dataframe\">\n",
       "  <thead>\n",
       "    <tr style=\"text-align: right;\">\n",
       "      <th></th>\n",
       "      <th>userId</th>\n",
       "      <th>movieId</th>\n",
       "      <th>rating</th>\n",
       "      <th>timestamp</th>\n",
       "    </tr>\n",
       "  </thead>\n",
       "  <tbody>\n",
       "    <tr>\n",
       "      <th>0</th>\n",
       "      <td>1</td>\n",
       "      <td>2</td>\n",
       "      <td>3.5</td>\n",
       "      <td>2005-04-02 23:53:47</td>\n",
       "    </tr>\n",
       "    <tr>\n",
       "      <th>1</th>\n",
       "      <td>1</td>\n",
       "      <td>29</td>\n",
       "      <td>3.5</td>\n",
       "      <td>2005-04-02 23:31:16</td>\n",
       "    </tr>\n",
       "    <tr>\n",
       "      <th>2</th>\n",
       "      <td>1</td>\n",
       "      <td>32</td>\n",
       "      <td>3.5</td>\n",
       "      <td>2005-04-02 23:33:39</td>\n",
       "    </tr>\n",
       "    <tr>\n",
       "      <th>3</th>\n",
       "      <td>1</td>\n",
       "      <td>47</td>\n",
       "      <td>3.5</td>\n",
       "      <td>2005-04-02 23:32:07</td>\n",
       "    </tr>\n",
       "    <tr>\n",
       "      <th>4</th>\n",
       "      <td>1</td>\n",
       "      <td>50</td>\n",
       "      <td>3.5</td>\n",
       "      <td>2005-04-02 23:29:40</td>\n",
       "    </tr>\n",
       "  </tbody>\n",
       "</table>\n",
       "</div>"
      ],
      "text/plain": [
       "   userId  movieId  rating            timestamp\n",
       "0       1        2     3.5  2005-04-02 23:53:47\n",
       "1       1       29     3.5  2005-04-02 23:31:16\n",
       "2       1       32     3.5  2005-04-02 23:33:39\n",
       "3       1       47     3.5  2005-04-02 23:32:07\n",
       "4       1       50     3.5  2005-04-02 23:29:40"
      ]
     },
     "execution_count": 3,
     "metadata": {},
     "output_type": "execute_result"
    }
   ],
   "source": [
    "df.head()"
   ]
  },
  {
   "cell_type": "code",
   "execution_count": 4,
   "id": "b6d67c6a",
   "metadata": {
    "execution": {
     "iopub.execute_input": "2022-11-23T13:05:09.191450Z",
     "iopub.status.busy": "2022-11-23T13:05:09.191074Z",
     "iopub.status.idle": "2022-11-23T13:05:10.182943Z",
     "shell.execute_reply": "2022-11-23T13:05:10.181899Z"
    },
    "papermill": {
     "duration": 0.998515,
     "end_time": "2022-11-23T13:05:10.185743",
     "exception": false,
     "start_time": "2022-11-23T13:05:09.187228",
     "status": "completed"
    },
    "tags": []
   },
   "outputs": [],
   "source": [
    "# Definition\n",
    "# Weighting Ratings : cosine similarity\n",
    "\n",
    "from typing import List, Set, Dict, Tuple\n",
    "import sklearn\n",
    "from numpy.linalg import norm\n",
    "\n",
    "def cosine_similarity(df:pd.DataFrame, userid_1:int, userid_2:int) -> List[int]:\n",
    "    _df_1 = df[df['userId'] == userid_1]\n",
    "    _df_2 = df[df['userId'] == userid_2]\n",
    "    \n",
    "    _ids_1 = [_id for _id in _df_1['movieId'][:10]]\n",
    "    _ids_2 = [_id for _id in _df_2['movieId'][:10]]\n",
    "    \n",
    "    _ratings_1 = [_rate for _rate in _df_1['rating'][:10]]\n",
    "    _ratings_2 = [_rate for _rate in _df_2['rating'][:10]]\n",
    "\n",
    "    res_1 = pd.DataFrame({'movie_id' : _ids_1, 'rating' : _ratings_1}).to_numpy()\n",
    "    res_2 = pd.DataFrame({'movie_id' : _ids_2, 'rating' : _ratings_2}).to_numpy()\n",
    "    \n",
    "    cosine = np.sum(res_1 * res_2, axis = 1) / (norm(res_1, axis = 1)*norm(res_2, axis = 1))\n",
    "    print(cosine)"
   ]
  },
  {
   "cell_type": "code",
   "execution_count": 5,
   "id": "5803b223",
   "metadata": {
    "execution": {
     "iopub.execute_input": "2022-11-23T13:05:10.193066Z",
     "iopub.status.busy": "2022-11-23T13:05:10.191890Z",
     "iopub.status.idle": "2022-11-23T13:05:10.292127Z",
     "shell.execute_reply": "2022-11-23T13:05:10.290616Z"
    },
    "papermill": {
     "duration": 0.106463,
     "end_time": "2022-11-23T13:05:10.294788",
     "exception": false,
     "start_time": "2022-11-23T13:05:10.188325",
     "status": "completed"
    },
    "tags": []
   },
   "outputs": [
    {
     "name": "stdout",
     "output_type": "stream",
     "text": [
      "[0.2838526  0.5636624  0.98916215 0.98862624 0.98726907 0.99574304\n",
      " 0.98864669 0.99648569 0.99885099 0.99982687]\n"
     ]
    }
   ],
   "source": [
    "cosine_similarity(df, 131026, 95267)"
   ]
  }
 ],
 "metadata": {
  "kernelspec": {
   "display_name": "Python 3",
   "language": "python",
   "name": "python3"
  },
  "language_info": {
   "codemirror_mode": {
    "name": "ipython",
    "version": 3
   },
   "file_extension": ".py",
   "mimetype": "text/x-python",
   "name": "python",
   "nbconvert_exporter": "python",
   "pygments_lexer": "ipython3",
   "version": "3.7.12"
  },
  "papermill": {
   "default_parameters": {},
   "duration": 39.179672,
   "end_time": "2022-11-23T13:05:13.723234",
   "environment_variables": {},
   "exception": null,
   "input_path": "__notebook__.ipynb",
   "output_path": "__notebook__.ipynb",
   "parameters": {},
   "start_time": "2022-11-23T13:04:34.543562",
   "version": "2.3.4"
  }
 },
 "nbformat": 4,
 "nbformat_minor": 5
}
