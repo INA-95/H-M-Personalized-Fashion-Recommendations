{
 "cells": [
  {
   "cell_type": "code",
   "execution_count": 1,
   "id": "b0d95e9e",
   "metadata": {
    "_cell_guid": "b1076dfc-b9ad-4769-8c92-a6c4dae69d19",
    "_uuid": "8f2839f25d086af736a60e9eeb907d3b93b6e0e5",
    "execution": {
     "iopub.execute_input": "2022-12-01T15:37:11.078200Z",
     "iopub.status.busy": "2022-12-01T15:37:11.077760Z",
     "iopub.status.idle": "2022-12-01T15:37:11.100339Z",
     "shell.execute_reply": "2022-12-01T15:37:11.099548Z"
    },
    "papermill": {
     "duration": 0.029324,
     "end_time": "2022-12-01T15:37:11.102739",
     "exception": false,
     "start_time": "2022-12-01T15:37:11.073415",
     "status": "completed"
    },
    "tags": []
   },
   "outputs": [],
   "source": [
    "import numpy as np\n",
    "import pandas as pd\n",
    "import os\n",
    "\n",
    "for dirname, _, filenames in os.walk('/kaggle/input'):\n",
    "    for filename in filenames:\n",
    "        os.path.join(dirname, filename)"
   ]
  },
  {
   "cell_type": "code",
   "execution_count": 2,
   "id": "31c05bdb",
   "metadata": {
    "execution": {
     "iopub.execute_input": "2022-12-01T15:37:11.108402Z",
     "iopub.status.busy": "2022-12-01T15:37:11.108066Z",
     "iopub.status.idle": "2022-12-01T15:37:34.245934Z",
     "shell.execute_reply": "2022-12-01T15:37:34.244489Z"
    },
    "papermill": {
     "duration": 23.143673,
     "end_time": "2022-12-01T15:37:34.248646",
     "exception": false,
     "start_time": "2022-12-01T15:37:11.104973",
     "status": "completed"
    },
    "tags": []
   },
   "outputs": [
    {
     "data": {
      "text/html": [
       "<div>\n",
       "<style scoped>\n",
       "    .dataframe tbody tr th:only-of-type {\n",
       "        vertical-align: middle;\n",
       "    }\n",
       "\n",
       "    .dataframe tbody tr th {\n",
       "        vertical-align: top;\n",
       "    }\n",
       "\n",
       "    .dataframe thead th {\n",
       "        text-align: right;\n",
       "    }\n",
       "</style>\n",
       "<table border=\"1\" class=\"dataframe\">\n",
       "  <thead>\n",
       "    <tr style=\"text-align: right;\">\n",
       "      <th></th>\n",
       "      <th>userId</th>\n",
       "      <th>movieId</th>\n",
       "      <th>rating</th>\n",
       "      <th>timestamp</th>\n",
       "    </tr>\n",
       "  </thead>\n",
       "  <tbody>\n",
       "    <tr>\n",
       "      <th>0</th>\n",
       "      <td>1</td>\n",
       "      <td>2</td>\n",
       "      <td>3.5</td>\n",
       "      <td>2005-04-02 23:53:47</td>\n",
       "    </tr>\n",
       "    <tr>\n",
       "      <th>1</th>\n",
       "      <td>1</td>\n",
       "      <td>29</td>\n",
       "      <td>3.5</td>\n",
       "      <td>2005-04-02 23:31:16</td>\n",
       "    </tr>\n",
       "    <tr>\n",
       "      <th>2</th>\n",
       "      <td>1</td>\n",
       "      <td>32</td>\n",
       "      <td>3.5</td>\n",
       "      <td>2005-04-02 23:33:39</td>\n",
       "    </tr>\n",
       "    <tr>\n",
       "      <th>3</th>\n",
       "      <td>1</td>\n",
       "      <td>47</td>\n",
       "      <td>3.5</td>\n",
       "      <td>2005-04-02 23:32:07</td>\n",
       "    </tr>\n",
       "    <tr>\n",
       "      <th>4</th>\n",
       "      <td>1</td>\n",
       "      <td>50</td>\n",
       "      <td>3.5</td>\n",
       "      <td>2005-04-02 23:29:40</td>\n",
       "    </tr>\n",
       "  </tbody>\n",
       "</table>\n",
       "</div>"
      ],
      "text/plain": [
       "   userId  movieId  rating            timestamp\n",
       "0       1        2     3.5  2005-04-02 23:53:47\n",
       "1       1       29     3.5  2005-04-02 23:31:16\n",
       "2       1       32     3.5  2005-04-02 23:33:39\n",
       "3       1       47     3.5  2005-04-02 23:32:07\n",
       "4       1       50     3.5  2005-04-02 23:29:40"
      ]
     },
     "execution_count": 2,
     "metadata": {},
     "output_type": "execute_result"
    }
   ],
   "source": [
    "# import dataset\n",
    "\n",
    "df = pd.read_csv('/kaggle/input/movielens-20m-dataset/rating.csv')\n",
    "df.head()"
   ]
  },
  {
   "cell_type": "code",
   "execution_count": 3,
   "id": "c3386df1",
   "metadata": {
    "execution": {
     "iopub.execute_input": "2022-12-01T15:37:34.254351Z",
     "iopub.status.busy": "2022-12-01T15:37:34.254015Z",
     "iopub.status.idle": "2022-12-01T15:37:42.663283Z",
     "shell.execute_reply": "2022-12-01T15:37:42.661787Z"
    },
    "papermill": {
     "duration": 8.414887,
     "end_time": "2022-12-01T15:37:42.665743",
     "exception": false,
     "start_time": "2022-12-01T15:37:34.250856",
     "status": "completed"
    },
    "tags": []
   },
   "outputs": [],
   "source": [
    "import sklearn\n",
    "from typing import List, Set, Dict, Tuple\n",
    "from numpy.linalg import norm\n",
    "from numpy import dot\n",
    "from sklearn.model_selection import train_test_split\n",
    "\n",
    "# split dataset : train(70) vs test(30)\n",
    "\n",
    "train, test = train_test_split(df, test_size = 0.3, random_state = 25)\n",
    "\n",
    "# calculate weights using train set\n",
    "# userId 1, userId 2 => cosine similarity\n",
    "\n",
    "def cosine_similarity(df:pd.DataFrame, id_1:int, id_2:int):\n",
    "    target = df[(df['userId'] == id_1) | (df['userId'] == id_2)]\n",
    "    pivot = pd.pivot_table(target, values = 'rating', index = 'userId', columns = 'movieId')\n",
    "    pivot = pivot.rename_axis(None).rename_axis(None, axis = 1).fillna(0)\n",
    "\n",
    "    a = pivot.iloc[0]\n",
    "    b = pivot.iloc[1]\n",
    "    \n",
    "    a = [v for v in a]\n",
    "    b = [v for v in b]\n",
    "    \n",
    "    cos_sim = round(dot(a,b) / (norm(a) * norm(b)), 3)\n",
    "    return cos_sim\n",
    "\n",
    "# make a prediction\n"
   ]
  },
  {
   "cell_type": "code",
   "execution_count": 4,
   "id": "15a15a1f",
   "metadata": {
    "execution": {
     "iopub.execute_input": "2022-12-01T15:37:42.673399Z",
     "iopub.status.busy": "2022-12-01T15:37:42.671405Z",
     "iopub.status.idle": "2022-12-01T15:37:42.685817Z",
     "shell.execute_reply": "2022-12-01T15:37:42.684290Z"
    },
    "papermill": {
     "duration": 0.02031,
     "end_time": "2022-12-01T15:37:42.688313",
     "exception": false,
     "start_time": "2022-12-01T15:37:42.668003",
     "status": "completed"
    },
    "tags": []
   },
   "outputs": [],
   "source": [
    "# 2, 29, 32,47 이들사이에 유사도를 구해서 각자가 안본 영화에 대한 평점을 내려보자\n",
    "\n",
    "# 2번을 기준으로 29, 32, 47과의 유사도를 구하자\n",
    "# 코사인 유사도\n",
    "\n",
    "import itertools\n",
    "\n",
    "def create_df(df:pd.DataFrame, ids:List[int]) -> pd.DataFrame:\n",
    "    dfs = []\n",
    "    for _id in ids:\n",
    "        _df = df[df['userId'] == _id]\n",
    "        dfs.append(_df)\n",
    "        \n",
    "    frames = [_df for _df in dfs]\n",
    "    res_df = pd.concat(frames)\n",
    "    return res_df\n",
    "\n",
    "def pivoting(df:pd.DataFrame) -> pd.DataFrame:\n",
    "    df = pd.pivot_table(df, values = 'rating', index = 'userId', columns = 'movieId')\n",
    "    df = df.rename_axis(None).rename_axis(None, axis = 1).fillna(0)\n",
    "    return df\n",
    "\n",
    "def cos_sim(df:pd.DataFrame) -> List:\n",
    "    iterable = df.index\n",
    "    users = list(itertools.combinations(iterable, 2))\n",
    "    \n",
    "    users_cos_sim = []\n",
    "    for user in users:\n",
    "        a = df[df.index == user[0]]\n",
    "        b = df[df.index == user[1]]\n",
    "        \n",
    "        a = [rating for v in a.values for rating in v]\n",
    "        b = [rating for v in b.values for rating in v]\n",
    "        \n",
    "        cos_sim = round(dot(a,b) / (norm(a) * norm(b)), 3)\n",
    "        result = [user, cos_sim]\n",
    "        users_cos_sim.append(result)\n",
    "    return users_cos_sim\n",
    "        \n",
    "# 특정 유저가 가지게 되는 weighted average approach 구하기\n",
    "def weighted_avg(df:pd.DataFrame, user_id:int):\n",
    "    rating = [rating for ratings in df[df.index == user_id].values for rating in ratings]\n",
    "    avg = round(np.mean(rating), 3)\n",
    "    return avg\n",
    "\n",
    "# 유사도와 weighted average를 이용해서 2번이 아직 평가하지 않은 영화에 대한 평점을 예측해보자"
   ]
  }
 ],
 "metadata": {
  "kernelspec": {
   "display_name": "Python 3",
   "language": "python",
   "name": "python3"
  },
  "language_info": {
   "codemirror_mode": {
    "name": "ipython",
    "version": 3
   },
   "file_extension": ".py",
   "mimetype": "text/x-python",
   "name": "python",
   "nbconvert_exporter": "python",
   "pygments_lexer": "ipython3",
   "version": "3.7.12"
  },
  "papermill": {
   "default_parameters": {},
   "duration": 42.213188,
   "end_time": "2022-12-01T15:37:44.316840",
   "environment_variables": {},
   "exception": null,
   "input_path": "__notebook__.ipynb",
   "output_path": "__notebook__.ipynb",
   "parameters": {},
   "start_time": "2022-12-01T15:37:02.103652",
   "version": "2.3.4"
  }
 },
 "nbformat": 4,
 "nbformat_minor": 5
}
