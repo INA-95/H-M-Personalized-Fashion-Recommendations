{
 "cells": [
  {
   "cell_type": "code",
   "execution_count": 1,
   "id": "e3924ece",
   "metadata": {
    "_cell_guid": "b1076dfc-b9ad-4769-8c92-a6c4dae69d19",
    "_uuid": "8f2839f25d086af736a60e9eeb907d3b93b6e0e5",
    "execution": {
     "iopub.execute_input": "2022-11-28T13:23:55.762043Z",
     "iopub.status.busy": "2022-11-28T13:23:55.760428Z",
     "iopub.status.idle": "2022-11-28T13:23:55.785438Z",
     "shell.execute_reply": "2022-11-28T13:23:55.784239Z"
    },
    "papermill": {
     "duration": 0.033269,
     "end_time": "2022-11-28T13:23:55.788417",
     "exception": false,
     "start_time": "2022-11-28T13:23:55.755148",
     "status": "completed"
    },
    "tags": []
   },
   "outputs": [],
   "source": [
    "import numpy as np\n",
    "import pandas as pd\n",
    "import os\n",
    "\n",
    "for dirname, _, filenames in os.walk('/kaggle/input'):\n",
    "    for filename in filenames:\n",
    "        os.path.join(dirname, filename)"
   ]
  },
  {
   "cell_type": "code",
   "execution_count": 2,
   "id": "a0474bf6",
   "metadata": {
    "execution": {
     "iopub.execute_input": "2022-11-28T13:23:55.796972Z",
     "iopub.status.busy": "2022-11-28T13:23:55.795579Z",
     "iopub.status.idle": "2022-11-28T13:24:23.137534Z",
     "shell.execute_reply": "2022-11-28T13:24:23.136489Z"
    },
    "papermill": {
     "duration": 27.348887,
     "end_time": "2022-11-28T13:24:23.140065",
     "exception": false,
     "start_time": "2022-11-28T13:23:55.791178",
     "status": "completed"
    },
    "tags": []
   },
   "outputs": [],
   "source": [
    "# import dataset\n",
    "\n",
    "df = pd.read_csv('/kaggle/input/movielens-20m-dataset/rating.csv')"
   ]
  },
  {
   "cell_type": "code",
   "execution_count": 3,
   "id": "9f939013",
   "metadata": {
    "execution": {
     "iopub.execute_input": "2022-11-28T13:24:23.146419Z",
     "iopub.status.busy": "2022-11-28T13:24:23.146039Z",
     "iopub.status.idle": "2022-11-28T13:24:23.173063Z",
     "shell.execute_reply": "2022-11-28T13:24:23.171853Z"
    },
    "papermill": {
     "duration": 0.033181,
     "end_time": "2022-11-28T13:24:23.175904",
     "exception": false,
     "start_time": "2022-11-28T13:24:23.142723",
     "status": "completed"
    },
    "tags": []
   },
   "outputs": [
    {
     "data": {
      "text/html": [
       "<div>\n",
       "<style scoped>\n",
       "    .dataframe tbody tr th:only-of-type {\n",
       "        vertical-align: middle;\n",
       "    }\n",
       "\n",
       "    .dataframe tbody tr th {\n",
       "        vertical-align: top;\n",
       "    }\n",
       "\n",
       "    .dataframe thead th {\n",
       "        text-align: right;\n",
       "    }\n",
       "</style>\n",
       "<table border=\"1\" class=\"dataframe\">\n",
       "  <thead>\n",
       "    <tr style=\"text-align: right;\">\n",
       "      <th></th>\n",
       "      <th>userId</th>\n",
       "      <th>movieId</th>\n",
       "      <th>rating</th>\n",
       "      <th>timestamp</th>\n",
       "    </tr>\n",
       "  </thead>\n",
       "  <tbody>\n",
       "    <tr>\n",
       "      <th>0</th>\n",
       "      <td>1</td>\n",
       "      <td>2</td>\n",
       "      <td>3.5</td>\n",
       "      <td>2005-04-02 23:53:47</td>\n",
       "    </tr>\n",
       "    <tr>\n",
       "      <th>1</th>\n",
       "      <td>1</td>\n",
       "      <td>29</td>\n",
       "      <td>3.5</td>\n",
       "      <td>2005-04-02 23:31:16</td>\n",
       "    </tr>\n",
       "    <tr>\n",
       "      <th>2</th>\n",
       "      <td>1</td>\n",
       "      <td>32</td>\n",
       "      <td>3.5</td>\n",
       "      <td>2005-04-02 23:33:39</td>\n",
       "    </tr>\n",
       "    <tr>\n",
       "      <th>3</th>\n",
       "      <td>1</td>\n",
       "      <td>47</td>\n",
       "      <td>3.5</td>\n",
       "      <td>2005-04-02 23:32:07</td>\n",
       "    </tr>\n",
       "    <tr>\n",
       "      <th>4</th>\n",
       "      <td>1</td>\n",
       "      <td>50</td>\n",
       "      <td>3.5</td>\n",
       "      <td>2005-04-02 23:29:40</td>\n",
       "    </tr>\n",
       "  </tbody>\n",
       "</table>\n",
       "</div>"
      ],
      "text/plain": [
       "   userId  movieId  rating            timestamp\n",
       "0       1        2     3.5  2005-04-02 23:53:47\n",
       "1       1       29     3.5  2005-04-02 23:31:16\n",
       "2       1       32     3.5  2005-04-02 23:33:39\n",
       "3       1       47     3.5  2005-04-02 23:32:07\n",
       "4       1       50     3.5  2005-04-02 23:29:40"
      ]
     },
     "execution_count": 3,
     "metadata": {},
     "output_type": "execute_result"
    }
   ],
   "source": [
    "df.head()"
   ]
  },
  {
   "cell_type": "code",
   "execution_count": 4,
   "id": "d4c38b8b",
   "metadata": {
    "execution": {
     "iopub.execute_input": "2022-11-28T13:24:23.183599Z",
     "iopub.status.busy": "2022-11-28T13:24:23.182891Z",
     "iopub.status.idle": "2022-11-28T13:24:24.151037Z",
     "shell.execute_reply": "2022-11-28T13:24:24.149939Z"
    },
    "papermill": {
     "duration": 0.975386,
     "end_time": "2022-11-28T13:24:24.154012",
     "exception": false,
     "start_time": "2022-11-28T13:24:23.178626",
     "status": "completed"
    },
    "tags": []
   },
   "outputs": [],
   "source": [
    "# userId 1, userId 2 => cosine similarity\n",
    "\n",
    "from typing import List, Set, Dict, Tuple\n",
    "from numpy.linalg import norm\n",
    "from numpy import dot\n",
    "import sklearn\n",
    "\n",
    "def cosine_similarity(df:pd.DataFrame, id_1:int, id_2:int):\n",
    "    target = df[(df['userId'] == id_1) | (df['userId'] == id_2)]\n",
    "    pivot = pd.pivot_table(target, values = 'rating', index = 'userId', columns = 'movieId')\n",
    "    pivot = pivot.rename_axis(None).rename_axis(None, axis = 1).fillna(0)\n",
    "\n",
    "    a = pivot.iloc[0]\n",
    "    b = pivot.iloc[1]\n",
    "    \n",
    "    a = [v for v in a]\n",
    "    b = [v for v in b]\n",
    "    \n",
    "    cos_sim = round(dot(a,b) / (norm(a) * norm(b)), 3)\n",
    "    return cos_sim"
   ]
  },
  {
   "cell_type": "code",
   "execution_count": 5,
   "id": "69d056a4",
   "metadata": {
    "execution": {
     "iopub.execute_input": "2022-11-28T13:24:24.162207Z",
     "iopub.status.busy": "2022-11-28T13:24:24.160803Z",
     "iopub.status.idle": "2022-11-28T13:24:24.301854Z",
     "shell.execute_reply": "2022-11-28T13:24:24.300653Z"
    },
    "papermill": {
     "duration": 0.147944,
     "end_time": "2022-11-28T13:24:24.304746",
     "exception": false,
     "start_time": "2022-11-28T13:24:24.156802",
     "status": "completed"
    },
    "tags": []
   },
   "outputs": [
    {
     "data": {
      "text/plain": [
       "0.103"
      ]
     },
     "execution_count": 5,
     "metadata": {},
     "output_type": "execute_result"
    }
   ],
   "source": [
    "# implementation\n",
    "\n",
    "cosine_similarity(df, 1, 2)"
   ]
  }
 ],
 "metadata": {
  "kernelspec": {
   "display_name": "Python 3",
   "language": "python",
   "name": "python3"
  },
  "language_info": {
   "codemirror_mode": {
    "name": "ipython",
    "version": 3
   },
   "file_extension": ".py",
   "mimetype": "text/x-python",
   "name": "python",
   "nbconvert_exporter": "python",
   "pygments_lexer": "ipython3",
   "version": "3.7.12"
  },
  "papermill": {
   "default_parameters": {},
   "duration": 40.17483,
   "end_time": "2022-11-28T13:24:27.216703",
   "environment_variables": {},
   "exception": null,
   "input_path": "__notebook__.ipynb",
   "output_path": "__notebook__.ipynb",
   "parameters": {},
   "start_time": "2022-11-28T13:23:47.041873",
   "version": "2.3.4"
  }
 },
 "nbformat": 4,
 "nbformat_minor": 5
}
