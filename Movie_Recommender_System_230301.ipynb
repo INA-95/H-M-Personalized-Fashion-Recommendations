{
  "nbformat": 4,
  "nbformat_minor": 0,
  "metadata": {
    "colab": {
      "provenance": [],
      "authorship_tag": "ABX9TyN3WVK4LYEj4KMQ3Fe4pxjb",
      "include_colab_link": true
    },
    "kernelspec": {
      "name": "python3",
      "display_name": "Python 3"
    },
    "language_info": {
      "name": "python"
    }
  },
  "cells": [
    {
      "cell_type": "markdown",
      "metadata": {
        "id": "view-in-github",
        "colab_type": "text"
      },
      "source": [
        "<a href=\"https://colab.research.google.com/github/INA-95/H-M-Personalized-Fashion-Recommendations/blob/main/Movie_Recommender_System_230301.ipynb\" target=\"_parent\"><img src=\"https://colab.research.google.com/assets/colab-badge.svg\" alt=\"Open In Colab\"/></a>"
      ]
    },
    {
      "cell_type": "code",
      "execution_count": 1,
      "metadata": {
        "id": "xJGOdSd0vX43"
      },
      "outputs": [],
      "source": [
        "import pandas as pd\n",
        "import numpy as np\n",
        "import requests\n",
        "import os\n",
        "from sklearn.model_selection import train_test_split\n",
        "from collections import defaultdict\n",
        "from tqdm import tqdm\n",
        "from typing import Dict, List, Any"
      ]
    },
    {
      "cell_type": "code",
      "source": [
        "from google.colab import drive\n",
        "drive.mount('/content/gdrive')\n",
        "%cd /content/gdrive/MyDrive/Project/Side_Project/H&M_recommendation_system/data"
      ],
      "metadata": {
        "colab": {
          "base_uri": "https://localhost:8080/"
        },
        "id": "6UmVd5iVvt4S",
        "outputId": "b68009ee-36dd-4812-8d10-5e9e6b17caf3"
      },
      "execution_count": 4,
      "outputs": [
        {
          "output_type": "stream",
          "name": "stdout",
          "text": [
            "Mounted at /content/gdrive\n",
            "/content/gdrive/MyDrive/Project/Side_Project/H&M_recommendation_system/data\n"
          ]
        }
      ]
    },
    {
      "cell_type": "code",
      "source": [
        "from glob import glob\n",
        "files = glob('./*.csv')"
      ],
      "metadata": {
        "id": "zubOhSk2v6Yw"
      },
      "execution_count": 5,
      "outputs": []
    },
    {
      "cell_type": "code",
      "source": [
        "dfs = {file:pd.read_csv(file) for file in files}\n",
        "dfs"
      ],
      "metadata": {
        "id": "ESuBJ38vzxpB",
        "colab": {
          "base_uri": "https://localhost:8080/"
        },
        "outputId": "2b786ac9-2ed3-45c2-8179-1ce73f6ec995"
      },
      "execution_count": 6,
      "outputs": [
        {
          "output_type": "execute_result",
          "data": {
            "text/plain": [
              "{'./df_small.csv':          Unnamed: 0  Unnamed: 0.1  userId  movieId  rating  \\\n",
              " 0               960           960       5        1     4.5   \n",
              " 1               961           961       5       10     2.5   \n",
              " 2               962           962       5       19     3.5   \n",
              " 3               963           963       5       32     5.0   \n",
              " 4               964           964       5       39     4.5   \n",
              " ...             ...           ...     ...      ...     ...   \n",
              " 5392020    19998291      19998291    2704     4993     5.0   \n",
              " 5392021    19998292      19998292    2704     5349     3.0   \n",
              " 5392022    19998293      19998293    2704     5378     4.0   \n",
              " 5392023    19998295      19998295    2704     5449     4.0   \n",
              " 5392024    19998296      19998296    2704     5459     4.0   \n",
              " \n",
              "                    timestamp  movie_id_idx  \n",
              " 0        2009-01-02 01:13:41             0  \n",
              " 1        2009-01-02 01:15:59             9  \n",
              " 2        2009-01-01 04:21:44            18  \n",
              " 3        2009-01-01 04:11:35            29  \n",
              " 4        2009-01-02 01:17:12            33  \n",
              " ...                      ...           ...  \n",
              " 5392020  2002-01-17 22:26:51          1730  \n",
              " 5392021  2002-07-26 02:47:02          1769  \n",
              " 5392022  2002-07-26 02:47:55          1772  \n",
              " 5392023  2002-07-26 02:47:02          1780  \n",
              " 5392024  2002-07-26 02:47:55          1782  \n",
              " \n",
              " [5392025 rows x 7 columns]}"
            ]
          },
          "metadata": {},
          "execution_count": 6
        }
      ]
    },
    {
      "cell_type": "code",
      "source": [
        "df = dfs['./df_small.csv']"
      ],
      "metadata": {
        "id": "Dtvl5dSp8Tzy"
      },
      "execution_count": 11,
      "outputs": []
    },
    {
      "cell_type": "code",
      "source": [
        "df.drop(['Unnamed: 0', 'Unnamed: 0.1', 'movieId', 'timestamp'], axis = 1)"
      ],
      "metadata": {
        "id": "Xhi2X_WA0fey"
      },
      "execution_count": null,
      "outputs": []
    },
    {
      "cell_type": "code",
      "source": [
        "df = df[['userId', 'movie_id_idx', 'rating']]"
      ],
      "metadata": {
        "id": "RK-6oado00Ma"
      },
      "execution_count": 13,
      "outputs": []
    },
    {
      "cell_type": "code",
      "source": [
        "# Information of Dataset\n",
        "\n",
        "num_of_users = df['userId'].nunique()\n",
        "num_of_movies = df['movie_id_idx'].nunique()\n",
        "print('num_of_users:', num_of_users)\n",
        "print('num_of_movies:', num_of_movies)"
      ],
      "metadata": {
        "colab": {
          "base_uri": "https://localhost:8080/"
        },
        "id": "VFnx5mzC1AqM",
        "outputId": "b79b77ca-b576-409a-b27a-adffca926a15"
      },
      "execution_count": 14,
      "outputs": [
        {
          "output_type": "stream",
          "name": "stdout",
          "text": [
            "num_of_users: 10000\n",
            "num_of_movies: 2000\n"
          ]
        }
      ]
    },
    {
      "cell_type": "code",
      "source": [
        "# Split into train and test\n",
        "\n",
        "train, test = train_test_split(df, test_size = 0.2)"
      ],
      "metadata": {
        "id": "c1xIf_uj1uKr"
      },
      "execution_count": 15,
      "outputs": []
    },
    {
      "cell_type": "code",
      "source": [
        "# user_movie = {user_id : [movie1, movie2, ...]}\n",
        "# movie_user = {movie_idx : [user1, user2, ...]}\n",
        "# user_movie_rating = {(user, movie) : rating, (user2, movie2) : rating, ...}\n",
        "\n",
        "def create_dict_1(target_1:List) -> Dict:\n",
        "    res_dict_1 = defaultdict(list)\n",
        "    for v1, v2 in target_1:\n",
        "        res_dict_1[v1].append(v2)\n",
        "    return res_dict_1\n",
        "\n",
        "def create_dict_2(target_2:zip()) -> Dict:\n",
        "    res_dict_2 = defaultdict(int)\n",
        "    for v1, v2, v3 in target_2:\n",
        "        res_dict_2[(v1, v2)] = v3\n",
        "    return res_dict_2"
      ],
      "metadata": {
        "id": "MxHHOZ1_3BOL"
      },
      "execution_count": 26,
      "outputs": []
    },
    {
      "cell_type": "code",
      "source": [
        "user_movie = list(zip(df['userId'], df['movie_id_idx']))\n",
        "movie_user = list(zip(df['movie_id_idx'], df['userId']))\n",
        "user_movie_rating = zip(df['userId'], df['movie_id_idx'], df['rating'])\n",
        "\n",
        "user_movie_dict = create_dict_1(user_movie)\n",
        "movie_user_dict = create_dict_1(movie_user)\n",
        "user_movie_rating_dict = create_dict_2(user_movie_rating)"
      ],
      "metadata": {
        "id": "zFMd-hLn_eot"
      },
      "execution_count": 27,
      "outputs": []
    }
  ]
}