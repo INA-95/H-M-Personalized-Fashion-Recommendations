{
  "nbformat": 4,
  "nbformat_minor": 0,
  "metadata": {
    "colab": {
      "provenance": [],
      "authorship_tag": "ABX9TyNrnlSE4gGm7U04FnjR4WNB",
      "include_colab_link": true
    },
    "kernelspec": {
      "name": "python3",
      "display_name": "Python 3"
    },
    "language_info": {
      "name": "python"
    }
  },
  "cells": [
    {
      "cell_type": "markdown",
      "metadata": {
        "id": "view-in-github",
        "colab_type": "text"
      },
      "source": [
        "<a href=\"https://colab.research.google.com/github/INA-95/H-M-Personalized-Fashion-Recommendations/blob/main/Movie_Recommender_System_230301.ipynb\" target=\"_parent\"><img src=\"https://colab.research.google.com/assets/colab-badge.svg\" alt=\"Open In Colab\"/></a>"
      ]
    },
    {
      "cell_type": "code",
      "execution_count": 1,
      "metadata": {
        "id": "xJGOdSd0vX43"
      },
      "outputs": [],
      "source": [
        "import pandas as pd\n",
        "import numpy as np\n",
        "import requests\n",
        "import os\n",
        "from sklearn.model_selection import train_test_split\n",
        "from collections import defaultdict\n",
        "from tqdm import tqdm\n",
        "from typing import Dict, List, Any"
      ]
    },
    {
      "cell_type": "code",
      "source": [
        "from google.colab import drive\n",
        "drive.mount('/content/gdrive')\n",
        "%cd /content/gdrive/MyDrive/Project/Side_Project/H&M_recommendation_system/data"
      ],
      "metadata": {
        "colab": {
          "base_uri": "https://localhost:8080/"
        },
        "id": "6UmVd5iVvt4S",
        "outputId": "ea078ef7-330b-4117-dc36-958b7c3a991b"
      },
      "execution_count": 2,
      "outputs": [
        {
          "output_type": "stream",
          "name": "stdout",
          "text": [
            "Mounted at /content/gdrive\n",
            "/content/gdrive/MyDrive/Project/Side_Project/H&M_recommendation_system/data\n"
          ]
        }
      ]
    },
    {
      "cell_type": "code",
      "source": [
        "from glob import glob\n",
        "files = glob('./*.csv')"
      ],
      "metadata": {
        "id": "zubOhSk2v6Yw"
      },
      "execution_count": 3,
      "outputs": []
    },
    {
      "cell_type": "code",
      "source": [
        "dfs = {file:pd.read_csv(file) for file in files}\n",
        "dfs"
      ],
      "metadata": {
        "id": "ESuBJ38vzxpB",
        "colab": {
          "base_uri": "https://localhost:8080/"
        },
        "outputId": "796cb070-ba3a-46e1-b96f-e26d74b44656"
      },
      "execution_count": 4,
      "outputs": [
        {
          "output_type": "execute_result",
          "data": {
            "text/plain": [
              "{'./df_small.csv':          Unnamed: 0  Unnamed: 0.1  userId  movieId  rating  \\\n",
              " 0               960           960       5        1     4.5   \n",
              " 1               961           961       5       10     2.5   \n",
              " 2               962           962       5       19     3.5   \n",
              " 3               963           963       5       32     5.0   \n",
              " 4               964           964       5       39     4.5   \n",
              " ...             ...           ...     ...      ...     ...   \n",
              " 5392020    19998291      19998291    2704     4993     5.0   \n",
              " 5392021    19998292      19998292    2704     5349     3.0   \n",
              " 5392022    19998293      19998293    2704     5378     4.0   \n",
              " 5392023    19998295      19998295    2704     5449     4.0   \n",
              " 5392024    19998296      19998296    2704     5459     4.0   \n",
              " \n",
              "                    timestamp  movie_id_idx  \n",
              " 0        2009-01-02 01:13:41             0  \n",
              " 1        2009-01-02 01:15:59             9  \n",
              " 2        2009-01-01 04:21:44            18  \n",
              " 3        2009-01-01 04:11:35            29  \n",
              " 4        2009-01-02 01:17:12            33  \n",
              " ...                      ...           ...  \n",
              " 5392020  2002-01-17 22:26:51          1730  \n",
              " 5392021  2002-07-26 02:47:02          1769  \n",
              " 5392022  2002-07-26 02:47:55          1772  \n",
              " 5392023  2002-07-26 02:47:02          1780  \n",
              " 5392024  2002-07-26 02:47:55          1782  \n",
              " \n",
              " [5392025 rows x 7 columns]}"
            ]
          },
          "metadata": {},
          "execution_count": 4
        }
      ]
    },
    {
      "cell_type": "code",
      "source": [
        "df = dfs['./df_small.csv']"
      ],
      "metadata": {
        "id": "Dtvl5dSp8Tzy"
      },
      "execution_count": 5,
      "outputs": []
    },
    {
      "cell_type": "code",
      "source": [
        "df.drop(['Unnamed: 0', 'Unnamed: 0.1', 'movieId', 'timestamp'], axis = 1)"
      ],
      "metadata": {
        "id": "Xhi2X_WA0fey",
        "colab": {
          "base_uri": "https://localhost:8080/",
          "height": 424
        },
        "outputId": "ec232dd2-edab-42e4-f1fd-4de92c2d06b4"
      },
      "execution_count": 6,
      "outputs": [
        {
          "output_type": "execute_result",
          "data": {
            "text/plain": [
              "         userId  rating  movie_id_idx\n",
              "0             5     4.5             0\n",
              "1             5     2.5             9\n",
              "2             5     3.5            18\n",
              "3             5     5.0            29\n",
              "4             5     4.5            33\n",
              "...         ...     ...           ...\n",
              "5392020    2704     5.0          1730\n",
              "5392021    2704     3.0          1769\n",
              "5392022    2704     4.0          1772\n",
              "5392023    2704     4.0          1780\n",
              "5392024    2704     4.0          1782\n",
              "\n",
              "[5392025 rows x 3 columns]"
            ],
            "text/html": [
              "\n",
              "  <div id=\"df-7dcee7fd-0e27-44cb-9d12-b571d39b4972\">\n",
              "    <div class=\"colab-df-container\">\n",
              "      <div>\n",
              "<style scoped>\n",
              "    .dataframe tbody tr th:only-of-type {\n",
              "        vertical-align: middle;\n",
              "    }\n",
              "\n",
              "    .dataframe tbody tr th {\n",
              "        vertical-align: top;\n",
              "    }\n",
              "\n",
              "    .dataframe thead th {\n",
              "        text-align: right;\n",
              "    }\n",
              "</style>\n",
              "<table border=\"1\" class=\"dataframe\">\n",
              "  <thead>\n",
              "    <tr style=\"text-align: right;\">\n",
              "      <th></th>\n",
              "      <th>userId</th>\n",
              "      <th>rating</th>\n",
              "      <th>movie_id_idx</th>\n",
              "    </tr>\n",
              "  </thead>\n",
              "  <tbody>\n",
              "    <tr>\n",
              "      <th>0</th>\n",
              "      <td>5</td>\n",
              "      <td>4.5</td>\n",
              "      <td>0</td>\n",
              "    </tr>\n",
              "    <tr>\n",
              "      <th>1</th>\n",
              "      <td>5</td>\n",
              "      <td>2.5</td>\n",
              "      <td>9</td>\n",
              "    </tr>\n",
              "    <tr>\n",
              "      <th>2</th>\n",
              "      <td>5</td>\n",
              "      <td>3.5</td>\n",
              "      <td>18</td>\n",
              "    </tr>\n",
              "    <tr>\n",
              "      <th>3</th>\n",
              "      <td>5</td>\n",
              "      <td>5.0</td>\n",
              "      <td>29</td>\n",
              "    </tr>\n",
              "    <tr>\n",
              "      <th>4</th>\n",
              "      <td>5</td>\n",
              "      <td>4.5</td>\n",
              "      <td>33</td>\n",
              "    </tr>\n",
              "    <tr>\n",
              "      <th>...</th>\n",
              "      <td>...</td>\n",
              "      <td>...</td>\n",
              "      <td>...</td>\n",
              "    </tr>\n",
              "    <tr>\n",
              "      <th>5392020</th>\n",
              "      <td>2704</td>\n",
              "      <td>5.0</td>\n",
              "      <td>1730</td>\n",
              "    </tr>\n",
              "    <tr>\n",
              "      <th>5392021</th>\n",
              "      <td>2704</td>\n",
              "      <td>3.0</td>\n",
              "      <td>1769</td>\n",
              "    </tr>\n",
              "    <tr>\n",
              "      <th>5392022</th>\n",
              "      <td>2704</td>\n",
              "      <td>4.0</td>\n",
              "      <td>1772</td>\n",
              "    </tr>\n",
              "    <tr>\n",
              "      <th>5392023</th>\n",
              "      <td>2704</td>\n",
              "      <td>4.0</td>\n",
              "      <td>1780</td>\n",
              "    </tr>\n",
              "    <tr>\n",
              "      <th>5392024</th>\n",
              "      <td>2704</td>\n",
              "      <td>4.0</td>\n",
              "      <td>1782</td>\n",
              "    </tr>\n",
              "  </tbody>\n",
              "</table>\n",
              "<p>5392025 rows × 3 columns</p>\n",
              "</div>\n",
              "      <button class=\"colab-df-convert\" onclick=\"convertToInteractive('df-7dcee7fd-0e27-44cb-9d12-b571d39b4972')\"\n",
              "              title=\"Convert this dataframe to an interactive table.\"\n",
              "              style=\"display:none;\">\n",
              "        \n",
              "  <svg xmlns=\"http://www.w3.org/2000/svg\" height=\"24px\"viewBox=\"0 0 24 24\"\n",
              "       width=\"24px\">\n",
              "    <path d=\"M0 0h24v24H0V0z\" fill=\"none\"/>\n",
              "    <path d=\"M18.56 5.44l.94 2.06.94-2.06 2.06-.94-2.06-.94-.94-2.06-.94 2.06-2.06.94zm-11 1L8.5 8.5l.94-2.06 2.06-.94-2.06-.94L8.5 2.5l-.94 2.06-2.06.94zm10 10l.94 2.06.94-2.06 2.06-.94-2.06-.94-.94-2.06-.94 2.06-2.06.94z\"/><path d=\"M17.41 7.96l-1.37-1.37c-.4-.4-.92-.59-1.43-.59-.52 0-1.04.2-1.43.59L10.3 9.45l-7.72 7.72c-.78.78-.78 2.05 0 2.83L4 21.41c.39.39.9.59 1.41.59.51 0 1.02-.2 1.41-.59l7.78-7.78 2.81-2.81c.8-.78.8-2.07 0-2.86zM5.41 20L4 18.59l7.72-7.72 1.47 1.35L5.41 20z\"/>\n",
              "  </svg>\n",
              "      </button>\n",
              "      \n",
              "  <style>\n",
              "    .colab-df-container {\n",
              "      display:flex;\n",
              "      flex-wrap:wrap;\n",
              "      gap: 12px;\n",
              "    }\n",
              "\n",
              "    .colab-df-convert {\n",
              "      background-color: #E8F0FE;\n",
              "      border: none;\n",
              "      border-radius: 50%;\n",
              "      cursor: pointer;\n",
              "      display: none;\n",
              "      fill: #1967D2;\n",
              "      height: 32px;\n",
              "      padding: 0 0 0 0;\n",
              "      width: 32px;\n",
              "    }\n",
              "\n",
              "    .colab-df-convert:hover {\n",
              "      background-color: #E2EBFA;\n",
              "      box-shadow: 0px 1px 2px rgba(60, 64, 67, 0.3), 0px 1px 3px 1px rgba(60, 64, 67, 0.15);\n",
              "      fill: #174EA6;\n",
              "    }\n",
              "\n",
              "    [theme=dark] .colab-df-convert {\n",
              "      background-color: #3B4455;\n",
              "      fill: #D2E3FC;\n",
              "    }\n",
              "\n",
              "    [theme=dark] .colab-df-convert:hover {\n",
              "      background-color: #434B5C;\n",
              "      box-shadow: 0px 1px 3px 1px rgba(0, 0, 0, 0.15);\n",
              "      filter: drop-shadow(0px 1px 2px rgba(0, 0, 0, 0.3));\n",
              "      fill: #FFFFFF;\n",
              "    }\n",
              "  </style>\n",
              "\n",
              "      <script>\n",
              "        const buttonEl =\n",
              "          document.querySelector('#df-7dcee7fd-0e27-44cb-9d12-b571d39b4972 button.colab-df-convert');\n",
              "        buttonEl.style.display =\n",
              "          google.colab.kernel.accessAllowed ? 'block' : 'none';\n",
              "\n",
              "        async function convertToInteractive(key) {\n",
              "          const element = document.querySelector('#df-7dcee7fd-0e27-44cb-9d12-b571d39b4972');\n",
              "          const dataTable =\n",
              "            await google.colab.kernel.invokeFunction('convertToInteractive',\n",
              "                                                     [key], {});\n",
              "          if (!dataTable) return;\n",
              "\n",
              "          const docLinkHtml = 'Like what you see? Visit the ' +\n",
              "            '<a target=\"_blank\" href=https://colab.research.google.com/notebooks/data_table.ipynb>data table notebook</a>'\n",
              "            + ' to learn more about interactive tables.';\n",
              "          element.innerHTML = '';\n",
              "          dataTable['output_type'] = 'display_data';\n",
              "          await google.colab.output.renderOutput(dataTable, element);\n",
              "          const docLink = document.createElement('div');\n",
              "          docLink.innerHTML = docLinkHtml;\n",
              "          element.appendChild(docLink);\n",
              "        }\n",
              "      </script>\n",
              "    </div>\n",
              "  </div>\n",
              "  "
            ]
          },
          "metadata": {},
          "execution_count": 6
        }
      ]
    },
    {
      "cell_type": "code",
      "source": [
        "df = df[['userId', 'movie_id_idx', 'rating']]"
      ],
      "metadata": {
        "id": "RK-6oado00Ma"
      },
      "execution_count": 7,
      "outputs": []
    },
    {
      "cell_type": "code",
      "source": [
        "# Information of Dataset\n",
        "\n",
        "num_of_users = df['userId'].nunique()\n",
        "num_of_movies = df['movie_id_idx'].nunique()\n",
        "print('num_of_users:', num_of_users)\n",
        "print('num_of_movies:', num_of_movies)"
      ],
      "metadata": {
        "colab": {
          "base_uri": "https://localhost:8080/"
        },
        "id": "VFnx5mzC1AqM",
        "outputId": "e960cd79-5027-4ace-ab2e-76d546bca63d"
      },
      "execution_count": 8,
      "outputs": [
        {
          "output_type": "stream",
          "name": "stdout",
          "text": [
            "num_of_users: 10000\n",
            "num_of_movies: 2000\n"
          ]
        }
      ]
    },
    {
      "cell_type": "code",
      "source": [
        "# Split into train and test\n",
        "\n",
        "train, test = train_test_split(df, test_size = 0.2)"
      ],
      "metadata": {
        "id": "c1xIf_uj1uKr"
      },
      "execution_count": 9,
      "outputs": []
    },
    {
      "cell_type": "code",
      "source": [
        "# user_movie = {user_id : [movie1, movie2, ...]}\n",
        "# movie_user = {movie_idx : [user1, user2, ...]}\n",
        "# user_movie_rating = {(user, movie) : rating, (user2, movie2) : rating, ...}\n",
        "\n",
        "def create_dict_1(target_1:List) -> Dict:\n",
        "    res_dict_1 = defaultdict(list)\n",
        "    for v1, v2 in target_1:\n",
        "        res_dict_1[v1].append(v2)\n",
        "    return res_dict_1\n",
        "\n",
        "def create_dict_2(target_2:zip()) -> Dict:\n",
        "    res_dict_2 = defaultdict(int)\n",
        "    for v1, v2, v3 in target_2:\n",
        "        res_dict_2[(v1, v2)] = v3\n",
        "    return res_dict_2"
      ],
      "metadata": {
        "id": "MxHHOZ1_3BOL"
      },
      "execution_count": 10,
      "outputs": []
    },
    {
      "cell_type": "code",
      "source": [
        "user_movie = list(zip(df['userId'], df['movie_id_idx']))\n",
        "movie_user = list(zip(df['movie_id_idx'], df['userId']))\n",
        "user_movie_rating = zip(df['userId'], df['movie_id_idx'], df['rating'])\n",
        "\n",
        "user_movie_dict = create_dict_1(user_movie)\n",
        "movie_user_dict = create_dict_1(movie_user)\n",
        "user_movie_rating_dict = create_dict_2(user_movie_rating)"
      ],
      "metadata": {
        "id": "zFMd-hLn_eot"
      },
      "execution_count": 11,
      "outputs": []
    },
    {
      "cell_type": "code",
      "source": [
        "train['user_movie'] = train['userId'].apply(lambda x : user_movie_dict[x])"
      ],
      "metadata": {
        "id": "YdeBUUCznJeB"
      },
      "execution_count": 19,
      "outputs": []
    },
    {
      "cell_type": "code",
      "source": [
        "train['movie_user'] = train['movie_id_idx'].apply(lambda x : movie_user_dict[x])"
      ],
      "metadata": {
        "id": "xRCHDvXYt065"
      },
      "execution_count": 21,
      "outputs": []
    },
    {
      "cell_type": "code",
      "source": [
        "train"
      ],
      "metadata": {
        "colab": {
          "base_uri": "https://localhost:8080/",
          "height": 424
        },
        "id": "IGrsQ2PTuTNr",
        "outputId": "89bce2f2-7f71-40e6-9c99-7b581499c720"
      },
      "execution_count": 22,
      "outputs": [
        {
          "output_type": "execute_result",
          "data": {
            "text/plain": [
              "         userId  movie_id_idx  rating  \\\n",
              "4129456    2588           205     2.0   \n",
              "2161973    7096           221     3.0   \n",
              "1462376    1585          1008     4.0   \n",
              "2284870    8081           983     3.0   \n",
              "3189360    5209           681     5.0   \n",
              "...         ...           ...     ...   \n",
              "3036158    4108          1368     4.0   \n",
              "2912585    3233           681     3.5   \n",
              "5075398    9758           397     3.0   \n",
              "5149626     305          1074     4.0   \n",
              "3730560    9202          1007     3.0   \n",
              "\n",
              "                                                user_movie  \\\n",
              "4129456  [0, 1, 21, 29, 40, 43, 81, 84, 85, 96, 100, 10...   \n",
              "2161973  [0, 1, 4, 5, 9, 15, 18, 22, 24, 29, 30, 33, 42...   \n",
              "1462376  [0, 5, 13, 15, 17, 20, 22, 28, 29, 30, 31, 33,...   \n",
              "2284870  [0, 1, 2, 12, 5, 6, 8, 9, 10, 11, 13, 15, 16, ...   \n",
              "3189360  [0, 2, 9, 16, 20, 30, 40, 74, 81, 84, 85, 101,...   \n",
              "...                                                    ...   \n",
              "3036158  [0, 1, 15, 18, 20, 27, 29, 40, 80, 84, 85, 100...   \n",
              "2912585  [0, 1, 28, 29, 33, 40, 41, 43, 85, 96, 99, 100...   \n",
              "5075398  [0, 1, 9, 11, 14, 17, 20, 21, 27, 29, 30, 33, ...   \n",
              "5149626  [0, 1, 2, 4, 5, 8, 9, 14, 15, 17, 18, 19, 20, ...   \n",
              "3730560  [0, 1, 2, 4, 5, 9, 11, 18, 20, 29, 37, 40, 53,...   \n",
              "\n",
              "                                                movie_user  \n",
              "4129456  [5, 10, 15, 27, 39, 44, 56, 78, 86, 92, 95, 97...  \n",
              "2161973  [5, 10, 15, 17, 27, 30, 39, 44, 47, 56, 78, 86...  \n",
              "1462376  [5, 30, 39, 44, 78, 92, 116, 119, 139, 154, 15...  \n",
              "2284870  [15, 17, 27, 33, 47, 56, 78, 86, 102, 115, 119...  \n",
              "3189360  [10, 15, 17, 27, 30, 39, 44, 47, 56, 78, 86, 8...  \n",
              "...                                                    ...  \n",
              "3036158  [39, 88, 102, 122, 139, 192, 199, 226, 266, 26...  \n",
              "2912585  [10, 15, 17, 27, 30, 39, 44, 47, 56, 78, 86, 8...  \n",
              "5075398  [10, 17, 27, 39, 56, 78, 86, 100, 102, 115, 14...  \n",
              "5149626  [27, 78, 95, 116, 119, 133, 161, 209, 248, 259...  \n",
              "3730560  [5, 10, 27, 39, 44, 47, 56, 88, 92, 95, 100, 1...  \n",
              "\n",
              "[4313620 rows x 5 columns]"
            ],
            "text/html": [
              "\n",
              "  <div id=\"df-3a5fbfc6-3dc7-4f25-8b69-f78dfc3f78d3\">\n",
              "    <div class=\"colab-df-container\">\n",
              "      <div>\n",
              "<style scoped>\n",
              "    .dataframe tbody tr th:only-of-type {\n",
              "        vertical-align: middle;\n",
              "    }\n",
              "\n",
              "    .dataframe tbody tr th {\n",
              "        vertical-align: top;\n",
              "    }\n",
              "\n",
              "    .dataframe thead th {\n",
              "        text-align: right;\n",
              "    }\n",
              "</style>\n",
              "<table border=\"1\" class=\"dataframe\">\n",
              "  <thead>\n",
              "    <tr style=\"text-align: right;\">\n",
              "      <th></th>\n",
              "      <th>userId</th>\n",
              "      <th>movie_id_idx</th>\n",
              "      <th>rating</th>\n",
              "      <th>user_movie</th>\n",
              "      <th>movie_user</th>\n",
              "    </tr>\n",
              "  </thead>\n",
              "  <tbody>\n",
              "    <tr>\n",
              "      <th>4129456</th>\n",
              "      <td>2588</td>\n",
              "      <td>205</td>\n",
              "      <td>2.0</td>\n",
              "      <td>[0, 1, 21, 29, 40, 43, 81, 84, 85, 96, 100, 10...</td>\n",
              "      <td>[5, 10, 15, 27, 39, 44, 56, 78, 86, 92, 95, 97...</td>\n",
              "    </tr>\n",
              "    <tr>\n",
              "      <th>2161973</th>\n",
              "      <td>7096</td>\n",
              "      <td>221</td>\n",
              "      <td>3.0</td>\n",
              "      <td>[0, 1, 4, 5, 9, 15, 18, 22, 24, 29, 30, 33, 42...</td>\n",
              "      <td>[5, 10, 15, 17, 27, 30, 39, 44, 47, 56, 78, 86...</td>\n",
              "    </tr>\n",
              "    <tr>\n",
              "      <th>1462376</th>\n",
              "      <td>1585</td>\n",
              "      <td>1008</td>\n",
              "      <td>4.0</td>\n",
              "      <td>[0, 5, 13, 15, 17, 20, 22, 28, 29, 30, 31, 33,...</td>\n",
              "      <td>[5, 30, 39, 44, 78, 92, 116, 119, 139, 154, 15...</td>\n",
              "    </tr>\n",
              "    <tr>\n",
              "      <th>2284870</th>\n",
              "      <td>8081</td>\n",
              "      <td>983</td>\n",
              "      <td>3.0</td>\n",
              "      <td>[0, 1, 2, 12, 5, 6, 8, 9, 10, 11, 13, 15, 16, ...</td>\n",
              "      <td>[15, 17, 27, 33, 47, 56, 78, 86, 102, 115, 119...</td>\n",
              "    </tr>\n",
              "    <tr>\n",
              "      <th>3189360</th>\n",
              "      <td>5209</td>\n",
              "      <td>681</td>\n",
              "      <td>5.0</td>\n",
              "      <td>[0, 2, 9, 16, 20, 30, 40, 74, 81, 84, 85, 101,...</td>\n",
              "      <td>[10, 15, 17, 27, 30, 39, 44, 47, 56, 78, 86, 8...</td>\n",
              "    </tr>\n",
              "    <tr>\n",
              "      <th>...</th>\n",
              "      <td>...</td>\n",
              "      <td>...</td>\n",
              "      <td>...</td>\n",
              "      <td>...</td>\n",
              "      <td>...</td>\n",
              "    </tr>\n",
              "    <tr>\n",
              "      <th>3036158</th>\n",
              "      <td>4108</td>\n",
              "      <td>1368</td>\n",
              "      <td>4.0</td>\n",
              "      <td>[0, 1, 15, 18, 20, 27, 29, 40, 80, 84, 85, 100...</td>\n",
              "      <td>[39, 88, 102, 122, 139, 192, 199, 226, 266, 26...</td>\n",
              "    </tr>\n",
              "    <tr>\n",
              "      <th>2912585</th>\n",
              "      <td>3233</td>\n",
              "      <td>681</td>\n",
              "      <td>3.5</td>\n",
              "      <td>[0, 1, 28, 29, 33, 40, 41, 43, 85, 96, 99, 100...</td>\n",
              "      <td>[10, 15, 17, 27, 30, 39, 44, 47, 56, 78, 86, 8...</td>\n",
              "    </tr>\n",
              "    <tr>\n",
              "      <th>5075398</th>\n",
              "      <td>9758</td>\n",
              "      <td>397</td>\n",
              "      <td>3.0</td>\n",
              "      <td>[0, 1, 9, 11, 14, 17, 20, 21, 27, 29, 30, 33, ...</td>\n",
              "      <td>[10, 17, 27, 39, 56, 78, 86, 100, 102, 115, 14...</td>\n",
              "    </tr>\n",
              "    <tr>\n",
              "      <th>5149626</th>\n",
              "      <td>305</td>\n",
              "      <td>1074</td>\n",
              "      <td>4.0</td>\n",
              "      <td>[0, 1, 2, 4, 5, 8, 9, 14, 15, 17, 18, 19, 20, ...</td>\n",
              "      <td>[27, 78, 95, 116, 119, 133, 161, 209, 248, 259...</td>\n",
              "    </tr>\n",
              "    <tr>\n",
              "      <th>3730560</th>\n",
              "      <td>9202</td>\n",
              "      <td>1007</td>\n",
              "      <td>3.0</td>\n",
              "      <td>[0, 1, 2, 4, 5, 9, 11, 18, 20, 29, 37, 40, 53,...</td>\n",
              "      <td>[5, 10, 27, 39, 44, 47, 56, 88, 92, 95, 100, 1...</td>\n",
              "    </tr>\n",
              "  </tbody>\n",
              "</table>\n",
              "<p>4313620 rows × 5 columns</p>\n",
              "</div>\n",
              "      <button class=\"colab-df-convert\" onclick=\"convertToInteractive('df-3a5fbfc6-3dc7-4f25-8b69-f78dfc3f78d3')\"\n",
              "              title=\"Convert this dataframe to an interactive table.\"\n",
              "              style=\"display:none;\">\n",
              "        \n",
              "  <svg xmlns=\"http://www.w3.org/2000/svg\" height=\"24px\"viewBox=\"0 0 24 24\"\n",
              "       width=\"24px\">\n",
              "    <path d=\"M0 0h24v24H0V0z\" fill=\"none\"/>\n",
              "    <path d=\"M18.56 5.44l.94 2.06.94-2.06 2.06-.94-2.06-.94-.94-2.06-.94 2.06-2.06.94zm-11 1L8.5 8.5l.94-2.06 2.06-.94-2.06-.94L8.5 2.5l-.94 2.06-2.06.94zm10 10l.94 2.06.94-2.06 2.06-.94-2.06-.94-.94-2.06-.94 2.06-2.06.94z\"/><path d=\"M17.41 7.96l-1.37-1.37c-.4-.4-.92-.59-1.43-.59-.52 0-1.04.2-1.43.59L10.3 9.45l-7.72 7.72c-.78.78-.78 2.05 0 2.83L4 21.41c.39.39.9.59 1.41.59.51 0 1.02-.2 1.41-.59l7.78-7.78 2.81-2.81c.8-.78.8-2.07 0-2.86zM5.41 20L4 18.59l7.72-7.72 1.47 1.35L5.41 20z\"/>\n",
              "  </svg>\n",
              "      </button>\n",
              "      \n",
              "  <style>\n",
              "    .colab-df-container {\n",
              "      display:flex;\n",
              "      flex-wrap:wrap;\n",
              "      gap: 12px;\n",
              "    }\n",
              "\n",
              "    .colab-df-convert {\n",
              "      background-color: #E8F0FE;\n",
              "      border: none;\n",
              "      border-radius: 50%;\n",
              "      cursor: pointer;\n",
              "      display: none;\n",
              "      fill: #1967D2;\n",
              "      height: 32px;\n",
              "      padding: 0 0 0 0;\n",
              "      width: 32px;\n",
              "    }\n",
              "\n",
              "    .colab-df-convert:hover {\n",
              "      background-color: #E2EBFA;\n",
              "      box-shadow: 0px 1px 2px rgba(60, 64, 67, 0.3), 0px 1px 3px 1px rgba(60, 64, 67, 0.15);\n",
              "      fill: #174EA6;\n",
              "    }\n",
              "\n",
              "    [theme=dark] .colab-df-convert {\n",
              "      background-color: #3B4455;\n",
              "      fill: #D2E3FC;\n",
              "    }\n",
              "\n",
              "    [theme=dark] .colab-df-convert:hover {\n",
              "      background-color: #434B5C;\n",
              "      box-shadow: 0px 1px 3px 1px rgba(0, 0, 0, 0.15);\n",
              "      filter: drop-shadow(0px 1px 2px rgba(0, 0, 0, 0.3));\n",
              "      fill: #FFFFFF;\n",
              "    }\n",
              "  </style>\n",
              "\n",
              "      <script>\n",
              "        const buttonEl =\n",
              "          document.querySelector('#df-3a5fbfc6-3dc7-4f25-8b69-f78dfc3f78d3 button.colab-df-convert');\n",
              "        buttonEl.style.display =\n",
              "          google.colab.kernel.accessAllowed ? 'block' : 'none';\n",
              "\n",
              "        async function convertToInteractive(key) {\n",
              "          const element = document.querySelector('#df-3a5fbfc6-3dc7-4f25-8b69-f78dfc3f78d3');\n",
              "          const dataTable =\n",
              "            await google.colab.kernel.invokeFunction('convertToInteractive',\n",
              "                                                     [key], {});\n",
              "          if (!dataTable) return;\n",
              "\n",
              "          const docLinkHtml = 'Like what you see? Visit the ' +\n",
              "            '<a target=\"_blank\" href=https://colab.research.google.com/notebooks/data_table.ipynb>data table notebook</a>'\n",
              "            + ' to learn more about interactive tables.';\n",
              "          element.innerHTML = '';\n",
              "          dataTable['output_type'] = 'display_data';\n",
              "          await google.colab.output.renderOutput(dataTable, element);\n",
              "          const docLink = document.createElement('div');\n",
              "          docLink.innerHTML = docLinkHtml;\n",
              "          element.appendChild(docLink);\n",
              "        }\n",
              "      </script>\n",
              "    </div>\n",
              "  </div>\n",
              "  "
            ]
          },
          "metadata": {},
          "execution_count": 22
        }
      ]
    }
  ]
}