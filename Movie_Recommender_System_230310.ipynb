{
  "nbformat": 4,
  "nbformat_minor": 0,
  "metadata": {
    "colab": {
      "provenance": [],
      "authorship_tag": "ABX9TyPMH6suATPsfzZojPqBf4MZ",
      "include_colab_link": true
    },
    "kernelspec": {
      "name": "python3",
      "display_name": "Python 3"
    },
    "language_info": {
      "name": "python"
    }
  },
  "cells": [
    {
      "cell_type": "markdown",
      "metadata": {
        "id": "view-in-github",
        "colab_type": "text"
      },
      "source": [
        "<a href=\"https://colab.research.google.com/github/INA-95/H-M-Personalized-Fashion-Recommendations/blob/main/Movie_Recommender_System_230310.ipynb\" target=\"_parent\"><img src=\"https://colab.research.google.com/assets/colab-badge.svg\" alt=\"Open In Colab\"/></a>"
      ]
    },
    {
      "cell_type": "code",
      "execution_count": 37,
      "metadata": {
        "id": "xJGOdSd0vX43"
      },
      "outputs": [],
      "source": [
        "import pandas as pd\n",
        "import numpy as np\n",
        "import requests\n",
        "import os\n",
        "import pickle\n",
        "import json\n",
        "\n",
        "from glob import glob\n",
        "from sklearn.model_selection import train_test_split\n",
        "from collections import defaultdict\n",
        "from tqdm import tqdm\n",
        "from typing import Dict, List, Any\n",
        "from sortedcontainers import SortedList"
      ]
    },
    {
      "cell_type": "code",
      "source": [
        "from google.colab import drive\n",
        "drive.mount('/content/gdrive')\n",
        "%cd /content/gdrive/MyDrive/Project/Side_Project/H&M_recommendation_system/data"
      ],
      "metadata": {
        "colab": {
          "base_uri": "https://localhost:8080/"
        },
        "id": "6UmVd5iVvt4S",
        "outputId": "fde50f6b-5821-4b07-9ffa-287fe2f92566"
      },
      "execution_count": 38,
      "outputs": [
        {
          "output_type": "stream",
          "name": "stdout",
          "text": [
            "Drive already mounted at /content/gdrive; to attempt to forcibly remount, call drive.mount(\"/content/gdrive\", force_remount=True).\n",
            "/content/gdrive/MyDrive/Project/Side_Project/H&M_recommendation_system/data\n"
          ]
        }
      ]
    },
    {
      "cell_type": "code",
      "source": [
        "files = glob('./*.csv')"
      ],
      "metadata": {
        "id": "zubOhSk2v6Yw"
      },
      "execution_count": 39,
      "outputs": []
    },
    {
      "cell_type": "code",
      "source": [
        "dfs = {file:pd.read_csv(file) for file in files}"
      ],
      "metadata": {
        "id": "ESuBJ38vzxpB"
      },
      "execution_count": 40,
      "outputs": []
    },
    {
      "cell_type": "code",
      "source": [
        "df = dfs['./df_small.csv']"
      ],
      "metadata": {
        "id": "Dtvl5dSp8Tzy"
      },
      "execution_count": 41,
      "outputs": []
    },
    {
      "cell_type": "code",
      "source": [
        "df.drop(['Unnamed: 0', 'Unnamed: 0.1', 'movieId', 'timestamp'], axis = 1)"
      ],
      "metadata": {
        "id": "Xhi2X_WA0fey",
        "colab": {
          "base_uri": "https://localhost:8080/",
          "height": 424
        },
        "outputId": "115ea252-ca8a-4454-938b-1b0a487ee2db"
      },
      "execution_count": 42,
      "outputs": [
        {
          "output_type": "execute_result",
          "data": {
            "text/plain": [
              "         userId  rating  movie_id_idx\n",
              "0             5     4.5             0\n",
              "1             5     2.5             9\n",
              "2             5     3.5            18\n",
              "3             5     5.0            29\n",
              "4             5     4.5            33\n",
              "...         ...     ...           ...\n",
              "5392020    2704     5.0          1730\n",
              "5392021    2704     3.0          1769\n",
              "5392022    2704     4.0          1772\n",
              "5392023    2704     4.0          1780\n",
              "5392024    2704     4.0          1782\n",
              "\n",
              "[5392025 rows x 3 columns]"
            ],
            "text/html": [
              "\n",
              "  <div id=\"df-f85ffafc-c1c2-4622-b6fd-a37205b68d7f\">\n",
              "    <div class=\"colab-df-container\">\n",
              "      <div>\n",
              "<style scoped>\n",
              "    .dataframe tbody tr th:only-of-type {\n",
              "        vertical-align: middle;\n",
              "    }\n",
              "\n",
              "    .dataframe tbody tr th {\n",
              "        vertical-align: top;\n",
              "    }\n",
              "\n",
              "    .dataframe thead th {\n",
              "        text-align: right;\n",
              "    }\n",
              "</style>\n",
              "<table border=\"1\" class=\"dataframe\">\n",
              "  <thead>\n",
              "    <tr style=\"text-align: right;\">\n",
              "      <th></th>\n",
              "      <th>userId</th>\n",
              "      <th>rating</th>\n",
              "      <th>movie_id_idx</th>\n",
              "    </tr>\n",
              "  </thead>\n",
              "  <tbody>\n",
              "    <tr>\n",
              "      <th>0</th>\n",
              "      <td>5</td>\n",
              "      <td>4.5</td>\n",
              "      <td>0</td>\n",
              "    </tr>\n",
              "    <tr>\n",
              "      <th>1</th>\n",
              "      <td>5</td>\n",
              "      <td>2.5</td>\n",
              "      <td>9</td>\n",
              "    </tr>\n",
              "    <tr>\n",
              "      <th>2</th>\n",
              "      <td>5</td>\n",
              "      <td>3.5</td>\n",
              "      <td>18</td>\n",
              "    </tr>\n",
              "    <tr>\n",
              "      <th>3</th>\n",
              "      <td>5</td>\n",
              "      <td>5.0</td>\n",
              "      <td>29</td>\n",
              "    </tr>\n",
              "    <tr>\n",
              "      <th>4</th>\n",
              "      <td>5</td>\n",
              "      <td>4.5</td>\n",
              "      <td>33</td>\n",
              "    </tr>\n",
              "    <tr>\n",
              "      <th>...</th>\n",
              "      <td>...</td>\n",
              "      <td>...</td>\n",
              "      <td>...</td>\n",
              "    </tr>\n",
              "    <tr>\n",
              "      <th>5392020</th>\n",
              "      <td>2704</td>\n",
              "      <td>5.0</td>\n",
              "      <td>1730</td>\n",
              "    </tr>\n",
              "    <tr>\n",
              "      <th>5392021</th>\n",
              "      <td>2704</td>\n",
              "      <td>3.0</td>\n",
              "      <td>1769</td>\n",
              "    </tr>\n",
              "    <tr>\n",
              "      <th>5392022</th>\n",
              "      <td>2704</td>\n",
              "      <td>4.0</td>\n",
              "      <td>1772</td>\n",
              "    </tr>\n",
              "    <tr>\n",
              "      <th>5392023</th>\n",
              "      <td>2704</td>\n",
              "      <td>4.0</td>\n",
              "      <td>1780</td>\n",
              "    </tr>\n",
              "    <tr>\n",
              "      <th>5392024</th>\n",
              "      <td>2704</td>\n",
              "      <td>4.0</td>\n",
              "      <td>1782</td>\n",
              "    </tr>\n",
              "  </tbody>\n",
              "</table>\n",
              "<p>5392025 rows × 3 columns</p>\n",
              "</div>\n",
              "      <button class=\"colab-df-convert\" onclick=\"convertToInteractive('df-f85ffafc-c1c2-4622-b6fd-a37205b68d7f')\"\n",
              "              title=\"Convert this dataframe to an interactive table.\"\n",
              "              style=\"display:none;\">\n",
              "        \n",
              "  <svg xmlns=\"http://www.w3.org/2000/svg\" height=\"24px\"viewBox=\"0 0 24 24\"\n",
              "       width=\"24px\">\n",
              "    <path d=\"M0 0h24v24H0V0z\" fill=\"none\"/>\n",
              "    <path d=\"M18.56 5.44l.94 2.06.94-2.06 2.06-.94-2.06-.94-.94-2.06-.94 2.06-2.06.94zm-11 1L8.5 8.5l.94-2.06 2.06-.94-2.06-.94L8.5 2.5l-.94 2.06-2.06.94zm10 10l.94 2.06.94-2.06 2.06-.94-2.06-.94-.94-2.06-.94 2.06-2.06.94z\"/><path d=\"M17.41 7.96l-1.37-1.37c-.4-.4-.92-.59-1.43-.59-.52 0-1.04.2-1.43.59L10.3 9.45l-7.72 7.72c-.78.78-.78 2.05 0 2.83L4 21.41c.39.39.9.59 1.41.59.51 0 1.02-.2 1.41-.59l7.78-7.78 2.81-2.81c.8-.78.8-2.07 0-2.86zM5.41 20L4 18.59l7.72-7.72 1.47 1.35L5.41 20z\"/>\n",
              "  </svg>\n",
              "      </button>\n",
              "      \n",
              "  <style>\n",
              "    .colab-df-container {\n",
              "      display:flex;\n",
              "      flex-wrap:wrap;\n",
              "      gap: 12px;\n",
              "    }\n",
              "\n",
              "    .colab-df-convert {\n",
              "      background-color: #E8F0FE;\n",
              "      border: none;\n",
              "      border-radius: 50%;\n",
              "      cursor: pointer;\n",
              "      display: none;\n",
              "      fill: #1967D2;\n",
              "      height: 32px;\n",
              "      padding: 0 0 0 0;\n",
              "      width: 32px;\n",
              "    }\n",
              "\n",
              "    .colab-df-convert:hover {\n",
              "      background-color: #E2EBFA;\n",
              "      box-shadow: 0px 1px 2px rgba(60, 64, 67, 0.3), 0px 1px 3px 1px rgba(60, 64, 67, 0.15);\n",
              "      fill: #174EA6;\n",
              "    }\n",
              "\n",
              "    [theme=dark] .colab-df-convert {\n",
              "      background-color: #3B4455;\n",
              "      fill: #D2E3FC;\n",
              "    }\n",
              "\n",
              "    [theme=dark] .colab-df-convert:hover {\n",
              "      background-color: #434B5C;\n",
              "      box-shadow: 0px 1px 3px 1px rgba(0, 0, 0, 0.15);\n",
              "      filter: drop-shadow(0px 1px 2px rgba(0, 0, 0, 0.3));\n",
              "      fill: #FFFFFF;\n",
              "    }\n",
              "  </style>\n",
              "\n",
              "      <script>\n",
              "        const buttonEl =\n",
              "          document.querySelector('#df-f85ffafc-c1c2-4622-b6fd-a37205b68d7f button.colab-df-convert');\n",
              "        buttonEl.style.display =\n",
              "          google.colab.kernel.accessAllowed ? 'block' : 'none';\n",
              "\n",
              "        async function convertToInteractive(key) {\n",
              "          const element = document.querySelector('#df-f85ffafc-c1c2-4622-b6fd-a37205b68d7f');\n",
              "          const dataTable =\n",
              "            await google.colab.kernel.invokeFunction('convertToInteractive',\n",
              "                                                     [key], {});\n",
              "          if (!dataTable) return;\n",
              "\n",
              "          const docLinkHtml = 'Like what you see? Visit the ' +\n",
              "            '<a target=\"_blank\" href=https://colab.research.google.com/notebooks/data_table.ipynb>data table notebook</a>'\n",
              "            + ' to learn more about interactive tables.';\n",
              "          element.innerHTML = '';\n",
              "          dataTable['output_type'] = 'display_data';\n",
              "          await google.colab.output.renderOutput(dataTable, element);\n",
              "          const docLink = document.createElement('div');\n",
              "          docLink.innerHTML = docLinkHtml;\n",
              "          element.appendChild(docLink);\n",
              "        }\n",
              "      </script>\n",
              "    </div>\n",
              "  </div>\n",
              "  "
            ]
          },
          "metadata": {},
          "execution_count": 42
        }
      ]
    },
    {
      "cell_type": "code",
      "source": [
        "df = df[['userId', 'movie_id_idx', 'rating']]"
      ],
      "metadata": {
        "id": "RK-6oado00Ma"
      },
      "execution_count": 43,
      "outputs": []
    },
    {
      "cell_type": "code",
      "source": [
        "# Information of Dataset\n",
        "\n",
        "num_of_users = df['userId'].nunique()\n",
        "num_of_movies = df['movie_id_idx'].nunique()\n",
        "print('num_of_users:', num_of_users)\n",
        "print('num_of_movies:', num_of_movies)"
      ],
      "metadata": {
        "colab": {
          "base_uri": "https://localhost:8080/"
        },
        "id": "VFnx5mzC1AqM",
        "outputId": "b94bdac7-141f-4595-a810-390aeb1aaac2"
      },
      "execution_count": 44,
      "outputs": [
        {
          "output_type": "stream",
          "name": "stdout",
          "text": [
            "num_of_users: 10000\n",
            "num_of_movies: 2000\n"
          ]
        }
      ]
    },
    {
      "cell_type": "code",
      "source": [
        "# Split into train and test\n",
        "\n",
        "train, test = train_test_split(df, test_size = 0.2)"
      ],
      "metadata": {
        "id": "c1xIf_uj1uKr"
      },
      "execution_count": 45,
      "outputs": []
    },
    {
      "cell_type": "code",
      "source": [
        "# user_movie = {user_id : [movie1, movie2, ...]}\n",
        "# movie_user = {movie_idx : [user1, user2, ...]}\n",
        "# user_movie_rating = {(user, movie) : rating, (user2, movie2) : rating, ...}\n",
        "\n",
        "def create_dict_1(target_1:List) -> Dict:\n",
        "    res_dict_1 = defaultdict(list)\n",
        "    for v1, v2 in target_1:\n",
        "        res_dict_1[v1].append(v2)\n",
        "    return res_dict_1\n",
        "\n",
        "def create_dict_2(target_2:zip()) -> Dict:\n",
        "    res_dict_2 = defaultdict(int)\n",
        "    for v1, v2, v3 in target_2:\n",
        "        res_dict_2[(v1, v2)] = v3\n",
        "    return res_dict_2"
      ],
      "metadata": {
        "id": "MxHHOZ1_3BOL"
      },
      "execution_count": 46,
      "outputs": []
    },
    {
      "cell_type": "code",
      "source": [
        "user_movie = list(zip(df['userId'], df['movie_id_idx']))\n",
        "movie_user = list(zip(df['movie_id_idx'], df['userId']))\n",
        "user_movie_rating = zip(df['userId'], df['movie_id_idx'], df['rating'])\n",
        "\n",
        "user_movie_dict = create_dict_1(user_movie)\n",
        "movie_user_dict = create_dict_1(movie_user)\n",
        "user_movie_rating_dict = create_dict_2(user_movie_rating)"
      ],
      "metadata": {
        "id": "zFMd-hLn_eot"
      },
      "execution_count": 47,
      "outputs": []
    },
    {
      "cell_type": "code",
      "source": [
        "train['user_movie'] = train['userId'].apply(lambda x : user_movie_dict[x])\n",
        "train['movie_user'] = train['movie_id_idx'].apply(lambda x : movie_user_dict[x])"
      ],
      "metadata": {
        "id": "YdeBUUCznJeB"
      },
      "execution_count": 48,
      "outputs": []
    },
    {
      "cell_type": "code",
      "source": [
        "test['user_movie'] = list(zip(test.userId, test.movie_id_idx))"
      ],
      "metadata": {
        "id": "8bDwUlbiDE9g"
      },
      "execution_count": 49,
      "outputs": []
    },
    {
      "cell_type": "code",
      "source": [
        "test['user_movie_rating'] = test['user_movie'].apply(lambda x: user_movie_rating_dict[x])"
      ],
      "metadata": {
        "id": "6mzIW2F6tJ--"
      },
      "execution_count": 50,
      "outputs": []
    },
    {
      "cell_type": "code",
      "source": [
        "target_2 = zip(test['userId'], test['movie_id_idx'], test['rating'])\n",
        "test_uesr_movie_rating_dict = create_dict_2(target_2)"
      ],
      "metadata": {
        "id": "BD5vpPwMrX1t"
      },
      "execution_count": 51,
      "outputs": []
    },
    {
      "cell_type": "code",
      "source": [
        "# temp json file\n",
        "\n",
        "with open('user_movie_dict.json', 'wb') as f:\n",
        "    pickle.dump(user_movie_dict, f)\n",
        "\n",
        "with open('movie_user_dict.json', 'wb') as f:\n",
        "    pickle.dump(movie_user_dict, f)\n",
        "\n",
        "with open('user_movie_rating_dict.json', 'wb') as f:\n",
        "    pickle.dump(user_movie_rating_dict, f)\n",
        "\n",
        "with open('test_uesr_movie_rating_dict.json', 'wb') as f:\n",
        "    pickle.dump(test_uesr_movie_rating_dict, f)"
      ],
      "metadata": {
        "id": "962Sgh96ta_A"
      },
      "execution_count": 52,
      "outputs": []
    },
    {
      "cell_type": "code",
      "source": [
        "# load data from pickle json\n",
        "\n",
        "json_files = glob('./*.json')\n",
        "\n",
        "with open('user_movie_dict.json', 'rb') as f:\n",
        "    user_movie = pickle.load(f)\n",
        "\n",
        "with open('movie_user_dict.json', 'rb') as f:\n",
        "    movie_user = pickle.load(f)\n",
        "\n",
        "with open('user_movie_rating_dict.json', 'rb') as f:\n",
        "    user_movie_rating = pickle.load(f)\n",
        "\n",
        "with open('test_uesr_movie_rating_dict.json', 'rb') as f:\n",
        "    test_user_movie_rating = pickle.load(f)"
      ],
      "metadata": {
        "id": "TTDWB2yAuPpD"
      },
      "execution_count": 53,
      "outputs": []
    },
    {
      "cell_type": "code",
      "source": [
        "N = np.max(list(user_movie.keys())) + 1\n",
        "\n",
        "m1 = np.max(list(movie_user.keys()))\n",
        "m2 = np.max([m for (u, m), r in test_user_movie_rating.items()])\n",
        "\n",
        "M = max(m1, m2) + 1\n",
        "print('N:', N, 'M:', M)"
      ],
      "metadata": {
        "colab": {
          "base_uri": "https://localhost:8080/"
        },
        "id": "c4-R2yIFzYh0",
        "outputId": "7ee234e6-17dc-4411-e16d-50a1a3ba753a"
      },
      "execution_count": 54,
      "outputs": [
        {
          "output_type": "stream",
          "name": "stdout",
          "text": [
            "N: 10000 M: 2000\n"
          ]
        }
      ]
    },
    {
      "cell_type": "code",
      "source": [
        "from sortedcontainers import SortedList\n",
        "\n",
        "\n",
        "# number of user we'd like to consider\n",
        "K = 25\n",
        "\n",
        "# number of common movies to consider\n",
        "limit = 5\n",
        "\n",
        "# store neighbors\n",
        "neighbors = []\n",
        "\n",
        "# each user's average rating for later use\n",
        "averages = []\n",
        "\n",
        "# each user's deviation for later use\n",
        "deviations = []\n",
        "\n",
        "for i in range(N):\n",
        "    # user : [m1, m2, ...]\n",
        "    movies_i = user_movie[i]\n",
        "    movies_i_set = set(movies_i) # unique movieid for each user\n",
        "    \n",
        "    ratings_i = {movie:user_movie_rating[(i, movie)] for movie in movies_i} # (user, movie) : rating dict -> movie : rating\n",
        "    avg_i = np.mean(list(ratings_i.values())) # mean of ratings of all the movies\n",
        "    dev_i = {movie:(rating - avg_i) for movie, rating in ratings_i.items()} # movie : rating(calculate between rating and mean rating = deviation)\n",
        "    dev_i_values = np.array(list(dev_i.values())) # array of deviation values\n",
        "    sigma_i = np.sqrt(dev_i_values.dot(dev_i_values)) # square root of the sum of squares of deviations : denominator in the pearson correlation\n",
        "\n",
        "    averages.append(avg_i)\n",
        "    deviations.append(dev_i)\n",
        "\n",
        "    sl = SortedList()\n",
        "\n",
        "    for j in range(N):\n",
        "        if j != i:\n",
        "            movies_j = user_movie[j]\n",
        "            movies_j_set = set(movies_j)\n",
        "            common_movies = (movies_j_set & movies_i_set)\n",
        "\n",
        "            if len(common_movies) > limit:\n",
        "                # user_movie_rating -> user_movie_rating[(user, movie)] rating\n",
        "                ratings_j = {movie : user_movie_rating[(j, movie)] for movie in movies_j}\n",
        "\n",
        "                # average of ratings\n",
        "                avg_j = np.mean(list(ratings_j.values()))\n",
        "                \n",
        "                # deviation of each of rating and average of ratings\n",
        "                dev_j = {movie : (rating - avg_j) for movie, rating in ratings_j.items()}\n",
        "                \n",
        "                dev_j_values = np.array(list(dev_j.values()))\n",
        "                sigma_j = np.sqrt(dev_j_values.dot(dev_j_values))\n",
        "\n",
        "                # calculate correlation coefficient\n",
        "                numerator = sum(dev_i[m] * dev_j[m] for m in common_movies)\n",
        "                w_ij = numerator / (sigma_i * sigma_j)\n",
        "\n",
        "                sl.add((-w_ij, j)) \n",
        "                if len(sl) > K:\n",
        "                    del sl[-1]\n",
        "\n",
        "    neighbors.append(sl) # neighbors = [(correlation, user)]"
      ],
      "metadata": {
        "id": "7jFLAZGs2iJA",
        "colab": {
          "base_uri": "https://localhost:8080/",
          "height": 365
        },
        "outputId": "38a24c82-74e5-48c4-96c5-02e7cba5ab6f"
      },
      "execution_count": 55,
      "outputs": [
        {
          "output_type": "error",
          "ename": "KeyboardInterrupt",
          "evalue": "ignored",
          "traceback": [
            "\u001b[0;31m---------------------------------------------------------------------------\u001b[0m",
            "\u001b[0;31mKeyboardInterrupt\u001b[0m                         Traceback (most recent call last)",
            "\u001b[0;32m<ipython-input-55-dcaf1d233005>\u001b[0m in \u001b[0;36m<module>\u001b[0;34m\u001b[0m\n\u001b[1;32m     41\u001b[0m             \u001b[0;32mif\u001b[0m \u001b[0mlen\u001b[0m\u001b[0;34m(\u001b[0m\u001b[0mcommon_movies\u001b[0m\u001b[0;34m)\u001b[0m \u001b[0;34m>\u001b[0m \u001b[0mlimit\u001b[0m\u001b[0;34m:\u001b[0m\u001b[0;34m\u001b[0m\u001b[0;34m\u001b[0m\u001b[0m\n\u001b[1;32m     42\u001b[0m                 \u001b[0;31m# user_movie_rating -> user_movie_rating[(user, movie)] rating\u001b[0m\u001b[0;34m\u001b[0m\u001b[0;34m\u001b[0m\u001b[0m\n\u001b[0;32m---> 43\u001b[0;31m                 \u001b[0mratings_j\u001b[0m \u001b[0;34m=\u001b[0m \u001b[0;34m{\u001b[0m\u001b[0mmovie\u001b[0m \u001b[0;34m:\u001b[0m \u001b[0muser_movie_rating\u001b[0m\u001b[0;34m[\u001b[0m\u001b[0;34m(\u001b[0m\u001b[0mj\u001b[0m\u001b[0;34m,\u001b[0m \u001b[0mmovie\u001b[0m\u001b[0;34m)\u001b[0m\u001b[0;34m]\u001b[0m \u001b[0;32mfor\u001b[0m \u001b[0mmovie\u001b[0m \u001b[0;32min\u001b[0m \u001b[0mmovies_j\u001b[0m\u001b[0;34m}\u001b[0m\u001b[0;34m\u001b[0m\u001b[0;34m\u001b[0m\u001b[0m\n\u001b[0m\u001b[1;32m     44\u001b[0m \u001b[0;34m\u001b[0m\u001b[0m\n\u001b[1;32m     45\u001b[0m                 \u001b[0;31m# average of ratings\u001b[0m\u001b[0;34m\u001b[0m\u001b[0;34m\u001b[0m\u001b[0m\n",
            "\u001b[0;32m<ipython-input-55-dcaf1d233005>\u001b[0m in \u001b[0;36m<dictcomp>\u001b[0;34m(.0)\u001b[0m\n\u001b[1;32m     41\u001b[0m             \u001b[0;32mif\u001b[0m \u001b[0mlen\u001b[0m\u001b[0;34m(\u001b[0m\u001b[0mcommon_movies\u001b[0m\u001b[0;34m)\u001b[0m \u001b[0;34m>\u001b[0m \u001b[0mlimit\u001b[0m\u001b[0;34m:\u001b[0m\u001b[0;34m\u001b[0m\u001b[0;34m\u001b[0m\u001b[0m\n\u001b[1;32m     42\u001b[0m                 \u001b[0;31m# user_movie_rating -> user_movie_rating[(user, movie)] rating\u001b[0m\u001b[0;34m\u001b[0m\u001b[0;34m\u001b[0m\u001b[0m\n\u001b[0;32m---> 43\u001b[0;31m                 \u001b[0mratings_j\u001b[0m \u001b[0;34m=\u001b[0m \u001b[0;34m{\u001b[0m\u001b[0mmovie\u001b[0m \u001b[0;34m:\u001b[0m \u001b[0muser_movie_rating\u001b[0m\u001b[0;34m[\u001b[0m\u001b[0;34m(\u001b[0m\u001b[0mj\u001b[0m\u001b[0;34m,\u001b[0m \u001b[0mmovie\u001b[0m\u001b[0;34m)\u001b[0m\u001b[0;34m]\u001b[0m \u001b[0;32mfor\u001b[0m \u001b[0mmovie\u001b[0m \u001b[0;32min\u001b[0m \u001b[0mmovies_j\u001b[0m\u001b[0;34m}\u001b[0m\u001b[0;34m\u001b[0m\u001b[0;34m\u001b[0m\u001b[0m\n\u001b[0m\u001b[1;32m     44\u001b[0m \u001b[0;34m\u001b[0m\u001b[0m\n\u001b[1;32m     45\u001b[0m                 \u001b[0;31m# average of ratings\u001b[0m\u001b[0;34m\u001b[0m\u001b[0;34m\u001b[0m\u001b[0m\n",
            "\u001b[0;31mKeyboardInterrupt\u001b[0m: "
          ]
        }
      ]
    },
    {
      "cell_type": "code",
      "source": [
        "def predict(i, m):\n",
        "    numerator = 0\n",
        "    denominator = 0\n",
        "\n",
        "    for neg_w, j in neighbors[i]:\n",
        "        try:\n",
        "            numerator += -neg_w * deviations[j][m]\n",
        "            denominator += abs(neg_w)\n",
        "        except KeyError:\n",
        "            pass\n",
        "    \n",
        "    if denominator == 0:\n",
        "        prediction = averages[i]\n",
        "    else:\n",
        "        prediction = numerator / denominator + averages[i]\n",
        "    prediction = min(5, prediction)\n",
        "    prediction = max(0.5, prediction)\n",
        "    return prediction        "
      ],
      "metadata": {
        "id": "xjLo2KtdCwSB"
      },
      "execution_count": 25,
      "outputs": []
    },
    {
      "cell_type": "code",
      "source": [
        "for (i, m), target in user_movie_rating.items():\n",
        "    print((i, m), target)\n",
        "    break"
      ],
      "metadata": {
        "colab": {
          "base_uri": "https://localhost:8080/"
        },
        "id": "SiajmhkrF2bh",
        "outputId": "d8983915-758f-4daf-9708-ae20884b6a12"
      },
      "execution_count": 34,
      "outputs": [
        {
          "output_type": "stream",
          "name": "stdout",
          "text": [
            "(5, 0) 4.5\n"
          ]
        }
      ]
    }
  ]
}