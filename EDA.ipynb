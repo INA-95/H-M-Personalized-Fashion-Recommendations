{
 "cells": [
  {
   "cell_type": "code",
   "execution_count": 1,
   "id": "cc8e8770",
   "metadata": {
    "execution": {
     "iopub.execute_input": "2022-11-16T12:43:22.022086Z",
     "iopub.status.busy": "2022-11-16T12:43:22.021613Z",
     "iopub.status.idle": "2022-11-16T12:43:22.032671Z",
     "shell.execute_reply": "2022-11-16T12:43:22.031778Z"
    },
    "papermill": {
     "duration": 0.020206,
     "end_time": "2022-11-16T12:43:22.035001",
     "exception": false,
     "start_time": "2022-11-16T12:43:22.014795",
     "status": "completed"
    },
    "tags": []
   },
   "outputs": [],
   "source": [
    "# import dataset\n",
    "\n",
    "import numpy as np\n",
    "import pandas as pd\n",
    "\n",
    "# image = \"../input/h-and-m-personalized-fashion-recommendations/images\"\n",
    "train = \"../input/h-and-m-personalized-fashion-recommendations/transactions_train.csv\"\n",
    "articles = \"../input/h-and-m-personalized-fashion-recommendations/articles.csv\"\n",
    "customers = \"../input/h-and-m-personalized-fashion-recommendations/customers.csv\"\n",
    "transactions = \"../input/h-and-m-personalized-fashion-recommendations/transactions_train.csv\"\n",
    "submission = \"../input/h-and-m-personalized-fashion-recommendations/sample_submission.csv\""
   ]
  },
  {
   "cell_type": "code",
   "execution_count": 2,
   "id": "f92c8f8c",
   "metadata": {
    "execution": {
     "iopub.execute_input": "2022-11-16T12:43:22.044989Z",
     "iopub.status.busy": "2022-11-16T12:43:22.043911Z",
     "iopub.status.idle": "2022-11-16T12:43:22.049859Z",
     "shell.execute_reply": "2022-11-16T12:43:22.048868Z"
    },
    "papermill": {
     "duration": 0.013258,
     "end_time": "2022-11-16T12:43:22.052307",
     "exception": false,
     "start_time": "2022-11-16T12:43:22.039049",
     "status": "completed"
    },
    "tags": []
   },
   "outputs": [],
   "source": [
    "def create_df(url:str) -> pd.DataFrame:\n",
    "    df = pd.read_csv(url)\n",
    "    return df\n",
    "\n",
    "def get_article_id(df:pd.DataFrame, ids:pd.Series) -> pd.DataFrame:\n",
    "    df['article_id'] = [\"0\" + str(id) for id in ids]\n",
    "    return df"
   ]
  },
  {
   "cell_type": "code",
   "execution_count": 3,
   "id": "988523c7",
   "metadata": {
    "execution": {
     "iopub.execute_input": "2022-11-16T12:43:22.062013Z",
     "iopub.status.busy": "2022-11-16T12:43:22.061241Z",
     "iopub.status.idle": "2022-11-16T12:43:23.266214Z",
     "shell.execute_reply": "2022-11-16T12:43:23.264903Z"
    },
    "papermill": {
     "duration": 1.213167,
     "end_time": "2022-11-16T12:43:23.269498",
     "exception": false,
     "start_time": "2022-11-16T12:43:22.056331",
     "status": "completed"
    },
    "tags": []
   },
   "outputs": [
    {
     "data": {
      "text/html": [
       "<div>\n",
       "<style scoped>\n",
       "    .dataframe tbody tr th:only-of-type {\n",
       "        vertical-align: middle;\n",
       "    }\n",
       "\n",
       "    .dataframe tbody tr th {\n",
       "        vertical-align: top;\n",
       "    }\n",
       "\n",
       "    .dataframe thead th {\n",
       "        text-align: right;\n",
       "    }\n",
       "</style>\n",
       "<table border=\"1\" class=\"dataframe\">\n",
       "  <thead>\n",
       "    <tr style=\"text-align: right;\">\n",
       "      <th></th>\n",
       "      <th>article_id</th>\n",
       "      <th>product_code</th>\n",
       "      <th>prod_name</th>\n",
       "      <th>product_type_no</th>\n",
       "      <th>product_type_name</th>\n",
       "      <th>product_group_name</th>\n",
       "      <th>graphical_appearance_no</th>\n",
       "      <th>graphical_appearance_name</th>\n",
       "      <th>colour_group_code</th>\n",
       "      <th>colour_group_name</th>\n",
       "      <th>...</th>\n",
       "      <th>department_name</th>\n",
       "      <th>index_code</th>\n",
       "      <th>index_name</th>\n",
       "      <th>index_group_no</th>\n",
       "      <th>index_group_name</th>\n",
       "      <th>section_no</th>\n",
       "      <th>section_name</th>\n",
       "      <th>garment_group_no</th>\n",
       "      <th>garment_group_name</th>\n",
       "      <th>detail_desc</th>\n",
       "    </tr>\n",
       "  </thead>\n",
       "  <tbody>\n",
       "    <tr>\n",
       "      <th>0</th>\n",
       "      <td>0108775015</td>\n",
       "      <td>108775</td>\n",
       "      <td>Strap top</td>\n",
       "      <td>253</td>\n",
       "      <td>Vest top</td>\n",
       "      <td>Garment Upper body</td>\n",
       "      <td>1010016</td>\n",
       "      <td>Solid</td>\n",
       "      <td>9</td>\n",
       "      <td>Black</td>\n",
       "      <td>...</td>\n",
       "      <td>Jersey Basic</td>\n",
       "      <td>A</td>\n",
       "      <td>Ladieswear</td>\n",
       "      <td>1</td>\n",
       "      <td>Ladieswear</td>\n",
       "      <td>16</td>\n",
       "      <td>Womens Everyday Basics</td>\n",
       "      <td>1002</td>\n",
       "      <td>Jersey Basic</td>\n",
       "      <td>Jersey top with narrow shoulder straps.</td>\n",
       "    </tr>\n",
       "    <tr>\n",
       "      <th>1</th>\n",
       "      <td>0108775044</td>\n",
       "      <td>108775</td>\n",
       "      <td>Strap top</td>\n",
       "      <td>253</td>\n",
       "      <td>Vest top</td>\n",
       "      <td>Garment Upper body</td>\n",
       "      <td>1010016</td>\n",
       "      <td>Solid</td>\n",
       "      <td>10</td>\n",
       "      <td>White</td>\n",
       "      <td>...</td>\n",
       "      <td>Jersey Basic</td>\n",
       "      <td>A</td>\n",
       "      <td>Ladieswear</td>\n",
       "      <td>1</td>\n",
       "      <td>Ladieswear</td>\n",
       "      <td>16</td>\n",
       "      <td>Womens Everyday Basics</td>\n",
       "      <td>1002</td>\n",
       "      <td>Jersey Basic</td>\n",
       "      <td>Jersey top with narrow shoulder straps.</td>\n",
       "    </tr>\n",
       "    <tr>\n",
       "      <th>2</th>\n",
       "      <td>0108775051</td>\n",
       "      <td>108775</td>\n",
       "      <td>Strap top (1)</td>\n",
       "      <td>253</td>\n",
       "      <td>Vest top</td>\n",
       "      <td>Garment Upper body</td>\n",
       "      <td>1010017</td>\n",
       "      <td>Stripe</td>\n",
       "      <td>11</td>\n",
       "      <td>Off White</td>\n",
       "      <td>...</td>\n",
       "      <td>Jersey Basic</td>\n",
       "      <td>A</td>\n",
       "      <td>Ladieswear</td>\n",
       "      <td>1</td>\n",
       "      <td>Ladieswear</td>\n",
       "      <td>16</td>\n",
       "      <td>Womens Everyday Basics</td>\n",
       "      <td>1002</td>\n",
       "      <td>Jersey Basic</td>\n",
       "      <td>Jersey top with narrow shoulder straps.</td>\n",
       "    </tr>\n",
       "    <tr>\n",
       "      <th>3</th>\n",
       "      <td>0110065001</td>\n",
       "      <td>110065</td>\n",
       "      <td>OP T-shirt (Idro)</td>\n",
       "      <td>306</td>\n",
       "      <td>Bra</td>\n",
       "      <td>Underwear</td>\n",
       "      <td>1010016</td>\n",
       "      <td>Solid</td>\n",
       "      <td>9</td>\n",
       "      <td>Black</td>\n",
       "      <td>...</td>\n",
       "      <td>Clean Lingerie</td>\n",
       "      <td>B</td>\n",
       "      <td>Lingeries/Tights</td>\n",
       "      <td>1</td>\n",
       "      <td>Ladieswear</td>\n",
       "      <td>61</td>\n",
       "      <td>Womens Lingerie</td>\n",
       "      <td>1017</td>\n",
       "      <td>Under-, Nightwear</td>\n",
       "      <td>Microfibre T-shirt bra with underwired, moulde...</td>\n",
       "    </tr>\n",
       "    <tr>\n",
       "      <th>4</th>\n",
       "      <td>0110065002</td>\n",
       "      <td>110065</td>\n",
       "      <td>OP T-shirt (Idro)</td>\n",
       "      <td>306</td>\n",
       "      <td>Bra</td>\n",
       "      <td>Underwear</td>\n",
       "      <td>1010016</td>\n",
       "      <td>Solid</td>\n",
       "      <td>10</td>\n",
       "      <td>White</td>\n",
       "      <td>...</td>\n",
       "      <td>Clean Lingerie</td>\n",
       "      <td>B</td>\n",
       "      <td>Lingeries/Tights</td>\n",
       "      <td>1</td>\n",
       "      <td>Ladieswear</td>\n",
       "      <td>61</td>\n",
       "      <td>Womens Lingerie</td>\n",
       "      <td>1017</td>\n",
       "      <td>Under-, Nightwear</td>\n",
       "      <td>Microfibre T-shirt bra with underwired, moulde...</td>\n",
       "    </tr>\n",
       "  </tbody>\n",
       "</table>\n",
       "<p>5 rows × 25 columns</p>\n",
       "</div>"
      ],
      "text/plain": [
       "   article_id  product_code          prod_name  product_type_no  \\\n",
       "0  0108775015        108775          Strap top              253   \n",
       "1  0108775044        108775          Strap top              253   \n",
       "2  0108775051        108775      Strap top (1)              253   \n",
       "3  0110065001        110065  OP T-shirt (Idro)              306   \n",
       "4  0110065002        110065  OP T-shirt (Idro)              306   \n",
       "\n",
       "  product_type_name  product_group_name  graphical_appearance_no  \\\n",
       "0          Vest top  Garment Upper body                  1010016   \n",
       "1          Vest top  Garment Upper body                  1010016   \n",
       "2          Vest top  Garment Upper body                  1010017   \n",
       "3               Bra           Underwear                  1010016   \n",
       "4               Bra           Underwear                  1010016   \n",
       "\n",
       "  graphical_appearance_name  colour_group_code colour_group_name  ...  \\\n",
       "0                     Solid                  9             Black  ...   \n",
       "1                     Solid                 10             White  ...   \n",
       "2                    Stripe                 11         Off White  ...   \n",
       "3                     Solid                  9             Black  ...   \n",
       "4                     Solid                 10             White  ...   \n",
       "\n",
       "   department_name index_code        index_name index_group_no  \\\n",
       "0     Jersey Basic          A        Ladieswear              1   \n",
       "1     Jersey Basic          A        Ladieswear              1   \n",
       "2     Jersey Basic          A        Ladieswear              1   \n",
       "3   Clean Lingerie          B  Lingeries/Tights              1   \n",
       "4   Clean Lingerie          B  Lingeries/Tights              1   \n",
       "\n",
       "   index_group_name section_no            section_name garment_group_no  \\\n",
       "0        Ladieswear         16  Womens Everyday Basics             1002   \n",
       "1        Ladieswear         16  Womens Everyday Basics             1002   \n",
       "2        Ladieswear         16  Womens Everyday Basics             1002   \n",
       "3        Ladieswear         61         Womens Lingerie             1017   \n",
       "4        Ladieswear         61         Womens Lingerie             1017   \n",
       "\n",
       "   garment_group_name                                        detail_desc  \n",
       "0        Jersey Basic            Jersey top with narrow shoulder straps.  \n",
       "1        Jersey Basic            Jersey top with narrow shoulder straps.  \n",
       "2        Jersey Basic            Jersey top with narrow shoulder straps.  \n",
       "3   Under-, Nightwear  Microfibre T-shirt bra with underwired, moulde...  \n",
       "4   Under-, Nightwear  Microfibre T-shirt bra with underwired, moulde...  \n",
       "\n",
       "[5 rows x 25 columns]"
      ]
     },
     "execution_count": 3,
     "metadata": {},
     "output_type": "execute_result"
    }
   ],
   "source": [
    "# articles\n",
    "\n",
    "articles = create_df(articles)\n",
    "ids = articles['article_id']\n",
    "articles = get_article_id(articles, ids)\n",
    "articles.head()"
   ]
  },
  {
   "cell_type": "code",
   "execution_count": 4,
   "id": "eb8684a0",
   "metadata": {
    "execution": {
     "iopub.execute_input": "2022-11-16T12:43:23.282215Z",
     "iopub.status.busy": "2022-11-16T12:43:23.281787Z",
     "iopub.status.idle": "2022-11-16T12:43:24.242377Z",
     "shell.execute_reply": "2022-11-16T12:43:24.241398Z"
    },
    "papermill": {
     "duration": 0.970103,
     "end_time": "2022-11-16T12:43:24.245254",
     "exception": false,
     "start_time": "2022-11-16T12:43:23.275151",
     "status": "completed"
    },
    "tags": []
   },
   "outputs": [],
   "source": [
    "# EDA : articles\n",
    "\n",
    "# What product do they have the most : Top N\n",
    "\n",
    "import seaborn as sns\n",
    "import matplotlib.pyplot as plt\n",
    "\n",
    "def val_cnt(df:pd.DataFrame, col:str, top_n:int):\n",
    "    sns.set(style = 'whitegrid')\n",
    "    _order = df[col].value_counts()[:top_n].index\n",
    "    viz = sns.countplot(x = col, data = df,\n",
    "                        order = _order)\n",
    "    plt.xticks(rotation = 45)\n",
    "    plt.show()\n",
    "    \n",
    "# What index account for the most? : Pie chart\n",
    "\n",
    "def pie_chart(df:pd.DataFrame, col:str):\n",
    "    _cnt_of_col = df[col].value_counts()\n",
    "    _name_cnt = [tuple((x, y)) for x, y in cnt_of_col.items()]\n",
    "    _vals = [val[1] for val in name_cnt]\n",
    "    _label = [val[0] for val in name_cnt]\n",
    "    plt.pie(vals, labels = label,\n",
    "            radius = 2, autopct = \"%0.2f%%\")\n",
    "    plt.show()\n",
    "    \n",
    "# What's the portion of index_group_name for each garment_group\n",
    "\n",
    "def portion(df:pd.DataFrame, y:str, hue:str):\n",
    "    _f, _ax = plt.subplots(figsize = (10, 10))\n",
    "    _ax = sns.histplot(data=df, y=y, hue=hue, multiple=\"stack\")\n",
    "    plt.show()\n",
    "    \n",
    "# data structure : index_name, index_group_name\n",
    "\n",
    "def hierarchy(df:pd.DataFrame, cols:list) -> pd.Series:\n",
    "    _res = df.groupby(cols).count()['article_id']\n",
    "    return _res"
   ]
  },
  {
   "cell_type": "code",
   "execution_count": 5,
   "id": "c755333b",
   "metadata": {
    "execution": {
     "iopub.execute_input": "2022-11-16T12:43:24.256267Z",
     "iopub.status.busy": "2022-11-16T12:43:24.255889Z",
     "iopub.status.idle": "2022-11-16T12:43:30.527897Z",
     "shell.execute_reply": "2022-11-16T12:43:30.526756Z"
    },
    "papermill": {
     "duration": 6.280386,
     "end_time": "2022-11-16T12:43:30.530283",
     "exception": false,
     "start_time": "2022-11-16T12:43:24.249897",
     "status": "completed"
    },
    "tags": []
   },
   "outputs": [
    {
     "data": {
      "text/html": [
       "<div>\n",
       "<style scoped>\n",
       "    .dataframe tbody tr th:only-of-type {\n",
       "        vertical-align: middle;\n",
       "    }\n",
       "\n",
       "    .dataframe tbody tr th {\n",
       "        vertical-align: top;\n",
       "    }\n",
       "\n",
       "    .dataframe thead th {\n",
       "        text-align: right;\n",
       "    }\n",
       "</style>\n",
       "<table border=\"1\" class=\"dataframe\">\n",
       "  <thead>\n",
       "    <tr style=\"text-align: right;\">\n",
       "      <th></th>\n",
       "      <th>customer_id</th>\n",
       "      <th>FN</th>\n",
       "      <th>Active</th>\n",
       "      <th>club_member_status</th>\n",
       "      <th>fashion_news_frequency</th>\n",
       "      <th>age</th>\n",
       "      <th>postal_code</th>\n",
       "    </tr>\n",
       "  </thead>\n",
       "  <tbody>\n",
       "    <tr>\n",
       "      <th>0</th>\n",
       "      <td>00000dbacae5abe5e23885899a1fa44253a17956c6d1c3...</td>\n",
       "      <td>NaN</td>\n",
       "      <td>NaN</td>\n",
       "      <td>ACTIVE</td>\n",
       "      <td>NONE</td>\n",
       "      <td>49.0</td>\n",
       "      <td>52043ee2162cf5aa7ee79974281641c6f11a68d276429a...</td>\n",
       "    </tr>\n",
       "    <tr>\n",
       "      <th>1</th>\n",
       "      <td>0000423b00ade91418cceaf3b26c6af3dd342b51fd051e...</td>\n",
       "      <td>NaN</td>\n",
       "      <td>NaN</td>\n",
       "      <td>ACTIVE</td>\n",
       "      <td>NONE</td>\n",
       "      <td>25.0</td>\n",
       "      <td>2973abc54daa8a5f8ccfe9362140c63247c5eee03f1d93...</td>\n",
       "    </tr>\n",
       "    <tr>\n",
       "      <th>2</th>\n",
       "      <td>000058a12d5b43e67d225668fa1f8d618c13dc232df0ca...</td>\n",
       "      <td>NaN</td>\n",
       "      <td>NaN</td>\n",
       "      <td>ACTIVE</td>\n",
       "      <td>NONE</td>\n",
       "      <td>24.0</td>\n",
       "      <td>64f17e6a330a85798e4998f62d0930d14db8db1c054af6...</td>\n",
       "    </tr>\n",
       "    <tr>\n",
       "      <th>3</th>\n",
       "      <td>00005ca1c9ed5f5146b52ac8639a40ca9d57aeff4d1bd2...</td>\n",
       "      <td>NaN</td>\n",
       "      <td>NaN</td>\n",
       "      <td>ACTIVE</td>\n",
       "      <td>NONE</td>\n",
       "      <td>54.0</td>\n",
       "      <td>5d36574f52495e81f019b680c843c443bd343d5ca5b1c2...</td>\n",
       "    </tr>\n",
       "    <tr>\n",
       "      <th>4</th>\n",
       "      <td>00006413d8573cd20ed7128e53b7b13819fe5cfc2d801f...</td>\n",
       "      <td>1.0</td>\n",
       "      <td>1.0</td>\n",
       "      <td>ACTIVE</td>\n",
       "      <td>Regularly</td>\n",
       "      <td>52.0</td>\n",
       "      <td>25fa5ddee9aac01b35208d01736e57942317d756b32ddd...</td>\n",
       "    </tr>\n",
       "  </tbody>\n",
       "</table>\n",
       "</div>"
      ],
      "text/plain": [
       "                                         customer_id   FN  Active  \\\n",
       "0  00000dbacae5abe5e23885899a1fa44253a17956c6d1c3...  NaN     NaN   \n",
       "1  0000423b00ade91418cceaf3b26c6af3dd342b51fd051e...  NaN     NaN   \n",
       "2  000058a12d5b43e67d225668fa1f8d618c13dc232df0ca...  NaN     NaN   \n",
       "3  00005ca1c9ed5f5146b52ac8639a40ca9d57aeff4d1bd2...  NaN     NaN   \n",
       "4  00006413d8573cd20ed7128e53b7b13819fe5cfc2d801f...  1.0     1.0   \n",
       "\n",
       "  club_member_status fashion_news_frequency   age  \\\n",
       "0             ACTIVE                   NONE  49.0   \n",
       "1             ACTIVE                   NONE  25.0   \n",
       "2             ACTIVE                   NONE  24.0   \n",
       "3             ACTIVE                   NONE  54.0   \n",
       "4             ACTIVE              Regularly  52.0   \n",
       "\n",
       "                                         postal_code  \n",
       "0  52043ee2162cf5aa7ee79974281641c6f11a68d276429a...  \n",
       "1  2973abc54daa8a5f8ccfe9362140c63247c5eee03f1d93...  \n",
       "2  64f17e6a330a85798e4998f62d0930d14db8db1c054af6...  \n",
       "3  5d36574f52495e81f019b680c843c443bd343d5ca5b1c2...  \n",
       "4  25fa5ddee9aac01b35208d01736e57942317d756b32ddd...  "
      ]
     },
     "execution_count": 5,
     "metadata": {},
     "output_type": "execute_result"
    }
   ],
   "source": [
    "# Customer\n",
    "\n",
    "customers = create_df(customers)\n",
    "customers.head()"
   ]
  },
  {
   "cell_type": "code",
   "execution_count": 6,
   "id": "d72cad9a",
   "metadata": {
    "execution": {
     "iopub.execute_input": "2022-11-16T12:43:30.541561Z",
     "iopub.status.busy": "2022-11-16T12:43:30.540632Z",
     "iopub.status.idle": "2022-11-16T12:43:31.022191Z",
     "shell.execute_reply": "2022-11-16T12:43:31.021045Z"
    },
    "papermill": {
     "duration": 0.489573,
     "end_time": "2022-11-16T12:43:31.024616",
     "exception": false,
     "start_time": "2022-11-16T12:43:30.535043",
     "status": "completed"
    },
    "tags": []
   },
   "outputs": [
    {
     "data": {
      "text/plain": [
       "ACTIVE        457357\n",
       "PRE-CREATE      5551\n",
       "LEFT CLUB          3\n",
       "Name: club_member_status, dtype: int64"
      ]
     },
     "execution_count": 6,
     "metadata": {},
     "output_type": "execute_result"
    }
   ],
   "source": [
    "# EDA : Customer\n",
    "\n",
    "# How many Active Customers?\n",
    "# How many club member status in Avtive?\n",
    "\n",
    "def cust_ratio(df:pd.DataFrame, col:str, check_val):\n",
    "    _total = df.shape[0]\n",
    "    _target = df[df[col] == check_val].shape[0]\n",
    "    return round((_target/_total) * 100, 2)\n",
    "\n",
    "# How many people receive fashion news by frequency?\n",
    "\n",
    "customers['fashion_news_frequency'] = customers['fashion_news_frequency'].replace('None', 'NONE')\n",
    "\n",
    "def pie_chart(df:pd.DataFrame, col:str):\n",
    "    _cnt_of_col = df[col].value_counts()\n",
    "    _colname_cnt = [tuple((x, y)) for x, y in _cnt_of_col.items()]\n",
    "    \n",
    "    _cnt_no_response = df[col].isna().sum()\n",
    "    tuple_val = tuple(('No Response', _cnt_no_response))\n",
    "    _colname_cnt.append(tuple_val)\n",
    "\n",
    "    _vals = [val[1] for val in _colname_cnt]\n",
    "    _labels = [val[0] for val in _colname_cnt]\n",
    "    \n",
    "    plt.pie(_vals, labels = _labels, radius = 1.5, autopct = \"%0.2f%%\")\n",
    "    plt.show()\n",
    "    \n",
    "# How old customers overall?\n",
    "\n",
    "customers = customers.dropna(axis = 0)\n",
    "def distribution(df:pd.DataFrame, col:str):\n",
    "    df[col] = df[col].astype(int)\n",
    "    df[col].plot.hist()\n",
    "    plt.show()\n",
    "    \n",
    "# How many people active in club member?\n",
    "\n",
    "customers['club_member_status'].value_counts()"
   ]
  },
  {
   "cell_type": "code",
   "execution_count": 7,
   "id": "de1cb850",
   "metadata": {
    "execution": {
     "iopub.execute_input": "2022-11-16T12:43:31.035360Z",
     "iopub.status.busy": "2022-11-16T12:43:31.034865Z",
     "iopub.status.idle": "2022-11-16T12:43:31.280923Z",
     "shell.execute_reply": "2022-11-16T12:43:31.278883Z"
    },
    "papermill": {
     "duration": 0.254024,
     "end_time": "2022-11-16T12:43:31.283214",
     "exception": false,
     "start_time": "2022-11-16T12:43:31.029190",
     "status": "completed"
    },
    "tags": []
   },
   "outputs": [
    {
     "data": {
      "image/png": "[encoded data removed]",
      "text/plain": [
       "<Figure size 432x288 with 1 Axes>"
      ]
     },
     "metadata": {
      "needs_background": "light"
     },
     "output_type": "display_data"
    }
   ],
   "source": [
    "distribution(customers, 'age')"
   ]
  },
  {
   "cell_type": "code",
   "execution_count": 8,
   "id": "6fbad8b7",
   "metadata": {
    "execution": {
     "iopub.execute_input": "2022-11-16T12:43:31.294763Z",
     "iopub.status.busy": "2022-11-16T12:43:31.294370Z",
     "iopub.status.idle": "2022-11-16T12:44:41.351176Z",
     "shell.execute_reply": "2022-11-16T12:44:41.349956Z"
    },
    "papermill": {
     "duration": 70.069451,
     "end_time": "2022-11-16T12:44:41.357673",
     "exception": false,
     "start_time": "2022-11-16T12:43:31.288222",
     "status": "completed"
    },
    "tags": []
   },
   "outputs": [
    {
     "data": {
      "text/html": [
       "<div>\n",
       "<style scoped>\n",
       "    .dataframe tbody tr th:only-of-type {\n",
       "        vertical-align: middle;\n",
       "    }\n",
       "\n",
       "    .dataframe tbody tr th {\n",
       "        vertical-align: top;\n",
       "    }\n",
       "\n",
       "    .dataframe thead th {\n",
       "        text-align: right;\n",
       "    }\n",
       "</style>\n",
       "<table border=\"1\" class=\"dataframe\">\n",
       "  <thead>\n",
       "    <tr style=\"text-align: right;\">\n",
       "      <th></th>\n",
       "      <th>t_dat</th>\n",
       "      <th>customer_id</th>\n",
       "      <th>article_id</th>\n",
       "      <th>price</th>\n",
       "      <th>sales_channel_id</th>\n",
       "    </tr>\n",
       "  </thead>\n",
       "  <tbody>\n",
       "    <tr>\n",
       "      <th>0</th>\n",
       "      <td>2018-09-20</td>\n",
       "      <td>000058a12d5b43e67d225668fa1f8d618c13dc232df0ca...</td>\n",
       "      <td>663713001</td>\n",
       "      <td>0.050831</td>\n",
       "      <td>2</td>\n",
       "    </tr>\n",
       "    <tr>\n",
       "      <th>1</th>\n",
       "      <td>2018-09-20</td>\n",
       "      <td>000058a12d5b43e67d225668fa1f8d618c13dc232df0ca...</td>\n",
       "      <td>541518023</td>\n",
       "      <td>0.030492</td>\n",
       "      <td>2</td>\n",
       "    </tr>\n",
       "    <tr>\n",
       "      <th>2</th>\n",
       "      <td>2018-09-20</td>\n",
       "      <td>00007d2de826758b65a93dd24ce629ed66842531df6699...</td>\n",
       "      <td>505221004</td>\n",
       "      <td>0.015237</td>\n",
       "      <td>2</td>\n",
       "    </tr>\n",
       "    <tr>\n",
       "      <th>3</th>\n",
       "      <td>2018-09-20</td>\n",
       "      <td>00007d2de826758b65a93dd24ce629ed66842531df6699...</td>\n",
       "      <td>685687003</td>\n",
       "      <td>0.016932</td>\n",
       "      <td>2</td>\n",
       "    </tr>\n",
       "    <tr>\n",
       "      <th>4</th>\n",
       "      <td>2018-09-20</td>\n",
       "      <td>00007d2de826758b65a93dd24ce629ed66842531df6699...</td>\n",
       "      <td>685687004</td>\n",
       "      <td>0.016932</td>\n",
       "      <td>2</td>\n",
       "    </tr>\n",
       "  </tbody>\n",
       "</table>\n",
       "</div>"
      ],
      "text/plain": [
       "        t_dat                                        customer_id  article_id  \\\n",
       "0  2018-09-20  000058a12d5b43e67d225668fa1f8d618c13dc232df0ca...   663713001   \n",
       "1  2018-09-20  000058a12d5b43e67d225668fa1f8d618c13dc232df0ca...   541518023   \n",
       "2  2018-09-20  00007d2de826758b65a93dd24ce629ed66842531df6699...   505221004   \n",
       "3  2018-09-20  00007d2de826758b65a93dd24ce629ed66842531df6699...   685687003   \n",
       "4  2018-09-20  00007d2de826758b65a93dd24ce629ed66842531df6699...   685687004   \n",
       "\n",
       "      price  sales_channel_id  \n",
       "0  0.050831                 2  \n",
       "1  0.030492                 2  \n",
       "2  0.015237                 2  \n",
       "3  0.016932                 2  \n",
       "4  0.016932                 2  "
      ]
     },
     "execution_count": 8,
     "metadata": {},
     "output_type": "execute_result"
    }
   ],
   "source": [
    "# EDA : Transaction\n",
    "transactions = create_df(transactions)\n",
    "transactions.head()"
   ]
  },
  {
   "cell_type": "code",
   "execution_count": 9,
   "id": "23390fbe",
   "metadata": {
    "execution": {
     "iopub.execute_input": "2022-11-16T12:44:41.370460Z",
     "iopub.status.busy": "2022-11-16T12:44:41.369204Z",
     "iopub.status.idle": "2022-11-16T12:45:11.549307Z",
     "shell.execute_reply": "2022-11-16T12:45:11.548143Z"
    },
    "papermill": {
     "duration": 30.19338,
     "end_time": "2022-11-16T12:45:11.556044",
     "exception": false,
     "start_time": "2022-11-16T12:44:41.362664",
     "status": "completed"
    },
    "tags": []
   },
   "outputs": [
    {
     "name": "stderr",
     "output_type": "stream",
     "text": [
      "/opt/conda/lib/python3.7/site-packages/ipykernel_launcher.py:6: SettingWithCopyWarning: \n",
      "A value is trying to be set on a copy of a slice from a DataFrame.\n",
      "Try using .loc[row_indexer,col_indexer] = value instead\n",
      "\n",
      "See the caveats in the documentation: https://pandas.pydata.org/pandas-docs/stable/user_guide/indexing.html#returning-a-view-versus-a-copy\n",
      "  \n"
     ]
    },
    {
     "data": {
      "text/html": [
       "<div>\n",
       "<style scoped>\n",
       "    .dataframe tbody tr th:only-of-type {\n",
       "        vertical-align: middle;\n",
       "    }\n",
       "\n",
       "    .dataframe tbody tr th {\n",
       "        vertical-align: top;\n",
       "    }\n",
       "\n",
       "    .dataframe thead th {\n",
       "        text-align: right;\n",
       "    }\n",
       "</style>\n",
       "<table border=\"1\" class=\"dataframe\">\n",
       "  <thead>\n",
       "    <tr style=\"text-align: right;\">\n",
       "      <th></th>\n",
       "      <th>article_id</th>\n",
       "      <th>price</th>\n",
       "      <th>index_name</th>\n",
       "      <th>product_group_name</th>\n",
       "    </tr>\n",
       "  </thead>\n",
       "  <tbody>\n",
       "    <tr>\n",
       "      <th>0</th>\n",
       "      <td>0663713001</td>\n",
       "      <td>0.050831</td>\n",
       "      <td>Lingeries/Tights</td>\n",
       "      <td>Underwear</td>\n",
       "    </tr>\n",
       "    <tr>\n",
       "      <th>1</th>\n",
       "      <td>0663713001</td>\n",
       "      <td>0.049475</td>\n",
       "      <td>Lingeries/Tights</td>\n",
       "      <td>Underwear</td>\n",
       "    </tr>\n",
       "    <tr>\n",
       "      <th>2</th>\n",
       "      <td>0663713001</td>\n",
       "      <td>0.050831</td>\n",
       "      <td>Lingeries/Tights</td>\n",
       "      <td>Underwear</td>\n",
       "    </tr>\n",
       "    <tr>\n",
       "      <th>3</th>\n",
       "      <td>0663713001</td>\n",
       "      <td>0.050831</td>\n",
       "      <td>Lingeries/Tights</td>\n",
       "      <td>Underwear</td>\n",
       "    </tr>\n",
       "    <tr>\n",
       "      <th>4</th>\n",
       "      <td>0663713001</td>\n",
       "      <td>0.050831</td>\n",
       "      <td>Lingeries/Tights</td>\n",
       "      <td>Underwear</td>\n",
       "    </tr>\n",
       "  </tbody>\n",
       "</table>\n",
       "</div>"
      ],
      "text/plain": [
       "   article_id     price        index_name product_group_name\n",
       "0  0663713001  0.050831  Lingeries/Tights          Underwear\n",
       "1  0663713001  0.049475  Lingeries/Tights          Underwear\n",
       "2  0663713001  0.050831  Lingeries/Tights          Underwear\n",
       "3  0663713001  0.050831  Lingeries/Tights          Underwear\n",
       "4  0663713001  0.050831  Lingeries/Tights          Underwear"
      ]
     },
     "execution_count": 9,
     "metadata": {},
     "output_type": "execute_result"
    }
   ],
   "source": [
    "# How's the distribution of price\n",
    "\n",
    "def price_distribution(df:pd.DataFrame, col:str):\n",
    "    df[col].plot.hist()\n",
    "    plt.show()\n",
    "    \n",
    "# Which channel do they use the most?\n",
    "\n",
    "def channel_frequency(df:pd.DataFrame, col:str):\n",
    "    res = df[col].value_counts()\n",
    "    return res\n",
    "\n",
    "# Which customer buy products the most?(top N)\n",
    "\n",
    "def loyal_cust(df:pd.DataFrame, col:str, top_n:int):\n",
    "    top_n_cust = df[col].value_counts()[:top_n]\n",
    "    return top_n_cust\n",
    "\n",
    "# Take a look at price by sub group of product\n",
    "\n",
    "articles_df = articles[['article_id','index_name', 'product_group_name']]\n",
    "\n",
    "transactions_df = transactions[['article_id', 'price']]\n",
    "ids = transactions_df['article_id']\n",
    "transactions_df = get_article_id(transactions_df, ids)\n",
    "\n",
    "merge_df = transactions_df.merge(articles_df, on='article_id')\n",
    "merge_df.head()"
   ]
  },
  {
   "cell_type": "code",
   "execution_count": 10,
   "id": "e9835185",
   "metadata": {
    "execution": {
     "iopub.execute_input": "2022-11-16T12:45:11.568192Z",
     "iopub.status.busy": "2022-11-16T12:45:11.567773Z",
     "iopub.status.idle": "2022-11-16T12:45:11.575215Z",
     "shell.execute_reply": "2022-11-16T12:45:11.573881Z"
    },
    "papermill": {
     "duration": 0.016184,
     "end_time": "2022-11-16T12:45:11.577379",
     "exception": false,
     "start_time": "2022-11-16T12:45:11.561195",
     "status": "completed"
    },
    "tags": []
   },
   "outputs": [],
   "source": [
    "# How's the mean price for each product by index_name?\n",
    "\n",
    "def mean_price(df:pd.DataFrame, groupby_col:str):\n",
    "    \n",
    "    res = df.groupby(groupby_col)['price'].mean().reset_index()\n",
    "    res = res.sort_values(by = 'price', ascending = False)\n",
    "\n",
    "    sns.set_style('darkgrid')\n",
    "    f,ax = plt.subplots(figsize = (10, 5))\n",
    "    ax = sns.barplot(x = res.price, y = res.index_name, color = 'pink', alpha = 0.8)\n",
    "    plt.show()"
   ]
  },
  {
   "cell_type": "code",
   "execution_count": 11,
   "id": "83ed7bb9",
   "metadata": {
    "execution": {
     "iopub.execute_input": "2022-11-16T12:45:11.590392Z",
     "iopub.status.busy": "2022-11-16T12:45:11.589956Z",
     "iopub.status.idle": "2022-11-16T12:45:15.079315Z",
     "shell.execute_reply": "2022-11-16T12:45:15.078038Z"
    },
    "papermill": {
     "duration": 3.499317,
     "end_time": "2022-11-16T12:45:15.082013",
     "exception": false,
     "start_time": "2022-11-16T12:45:11.582696",
     "status": "completed"
    },
    "tags": []
   },
   "outputs": [
    {
     "data": {
      "image/png": "[encoded data removed]",
      "text/plain": [
       "<Figure size 720x360 with 1 Axes>"
      ]
     },
     "metadata": {},
     "output_type": "display_data"
    }
   ],
   "source": [
    "mean_price(merge_df, 'index_name')"
   ]
  },
  {
   "cell_type": "code",
   "execution_count": 12,
   "id": "d8dc1d73",
   "metadata": {
    "execution": {
     "iopub.execute_input": "2022-11-16T12:45:15.095793Z",
     "iopub.status.busy": "2022-11-16T12:45:15.095394Z",
     "iopub.status.idle": "2022-11-16T12:45:30.162585Z",
     "shell.execute_reply": "2022-11-16T12:45:30.161422Z"
    },
    "papermill": {
     "duration": 15.07715,
     "end_time": "2022-11-16T12:45:30.165243",
     "exception": false,
     "start_time": "2022-11-16T12:45:15.088093",
     "status": "completed"
    },
    "tags": []
   },
   "outputs": [
    {
     "data": {
      "image/png": "[encoded data removed]",
      "text/plain": [
       "<Figure size 432x288 with 1 Axes>"
      ]
     },
     "metadata": {},
     "output_type": "display_data"
    }
   ],
   "source": [
    "# EDA : image\n",
    "\n",
    "import os, sys\n",
    "import glob\n",
    "from PIL import Image\n",
    "import matplotlib.pyplot as plt\n",
    "\n",
    "path = '../input/h-and-m-personalized-fashion-recommendations/images'\n",
    "\n",
    "f_lst = []\n",
    "for filename in os.listdir(path):\n",
    "    res = os.path.join(path, filename)\n",
    "    for file in os.listdir(res):\n",
    "        f_lst.append(file)\n",
    "\n",
    "for article_id in articles['article_id']:\n",
    "    folder = article_id[:3]\n",
    "    img = f'{article_id}.jpg'\n",
    "    if img in f_lst:\n",
    "        path = f'../input/h-and-m-personalized-fashion-recommendations/images/{folder}/{img}'\n",
    "        res = Image.open(path)\n",
    "        plt.imshow(res)\n",
    "        break"
   ]
  }
 ],
 "metadata": {
  "kernelspec": {
   "display_name": "Python 3",
   "language": "python",
   "name": "python3"
  },
  "language_info": {
   "codemirror_mode": {
    "name": "ipython",
    "version": 3
   },
   "file_extension": ".py",
   "mimetype": "text/x-python",
   "name": "python",
   "nbconvert_exporter": "python",
   "pygments_lexer": "ipython3",
   "version": "3.7.12"
  },
  "papermill": {
   "default_parameters": {},
   "duration": 139.248143,
   "end_time": "2022-11-16T12:45:32.893511",
   "environment_variables": {},
   "exception": null,
   "input_path": "__notebook__.ipynb",
   "output_path": "__notebook__.ipynb",
   "parameters": {},
   "start_time": "2022-11-16T12:43:13.645368",
   "version": "2.3.4"
  }
 },
 "nbformat": 4,
 "nbformat_minor": 5
}
