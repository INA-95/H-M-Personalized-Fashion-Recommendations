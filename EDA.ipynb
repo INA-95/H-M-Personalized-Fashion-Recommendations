{
 "cells": [
  {
   "cell_type": "code",
   "execution_count": 1,
   "id": "ce826b7b",
   "metadata": {
    "execution": {
     "iopub.execute_input": "2022-12-15T12:35:23.340372Z",
     "iopub.status.busy": "2022-12-15T12:35:23.339889Z",
     "iopub.status.idle": "2022-12-15T12:35:24.530068Z",
     "shell.execute_reply": "2022-12-15T12:35:24.528042Z"
    },
    "papermill": {
     "duration": 1.208605,
     "end_time": "2022-12-15T12:35:24.533906",
     "exception": false,
     "start_time": "2022-12-15T12:35:23.325301",
     "status": "completed"
    },
    "tags": []
   },
   "outputs": [],
   "source": [
    "import numpy as np\n",
    "import pandas as pd\n",
    "import seaborn as sns\n",
    "import matplotlib.pyplot as plt"
   ]
  },
  {
   "cell_type": "markdown",
   "id": "16b153c4",
   "metadata": {
    "papermill": {
     "duration": 0.01043,
     "end_time": "2022-12-15T12:35:24.556441",
     "exception": false,
     "start_time": "2022-12-15T12:35:24.546011",
     "status": "completed"
    },
    "tags": []
   },
   "source": [
    "### **CONTENT :**\n",
    "\n",
    "1. [Read Data](#1)\n",
    "2. [Top 100 Video Games](#2)\n",
    "3. [Genre VS Platform](#3)\n",
    "4. [Genre and Region](#4)\n",
    "5. [Word Cloud with Game Names](#5)\n",
    "6. [3D Bubble Chart with Release Years, Global Sales and Publisher of Top 1000 Games](#6)"
   ]
  },
  {
   "cell_type": "markdown",
   "id": "5828b8f8",
   "metadata": {
    "papermill": {
     "duration": 0.012006,
     "end_time": "2022-12-15T12:35:24.579906",
     "exception": false,
     "start_time": "2022-12-15T12:35:24.567900",
     "status": "completed"
    },
    "tags": []
   },
   "source": [
    "<a id=\"1\"></a> <br>\n",
    "> ## **1. Read Data**"
   ]
  },
  {
   "cell_type": "code",
   "execution_count": 2,
   "id": "6f8a59d4",
   "metadata": {
    "execution": {
     "iopub.execute_input": "2022-12-15T12:35:24.603232Z",
     "iopub.status.busy": "2022-12-15T12:35:24.602683Z",
     "iopub.status.idle": "2022-12-15T12:35:24.608353Z",
     "shell.execute_reply": "2022-12-15T12:35:24.607293Z"
    },
    "papermill": {
     "duration": 0.02048,
     "end_time": "2022-12-15T12:35:24.610901",
     "exception": false,
     "start_time": "2022-12-15T12:35:24.590421",
     "status": "completed"
    },
    "tags": []
   },
   "outputs": [],
   "source": [
    "# image = \"../input/h-and-m-personalized-fashion-recommendations/images\"\n",
    "articles = \"../input/h-and-m-personalized-fashion-recommendations/articles.csv\"\n",
    "customers = \"../input/h-and-m-personalized-fashion-recommendations/customers.csv\"\n",
    "transactions = \"../input/h-and-m-personalized-fashion-recommendations/transactions_train.csv\""
   ]
  },
  {
   "cell_type": "markdown",
   "id": "2114bc4f",
   "metadata": {
    "papermill": {
     "duration": 0.010419,
     "end_time": "2022-12-15T12:35:24.632345",
     "exception": false,
     "start_time": "2022-12-15T12:35:24.621926",
     "status": "completed"
    },
    "tags": []
   },
   "source": [
    "<a id=\"1\"></a> <br>\n",
    "> ## **2. Articles**"
   ]
  },
  {
   "cell_type": "code",
   "execution_count": 3,
   "id": "65b85c95",
   "metadata": {
    "execution": {
     "iopub.execute_input": "2022-12-15T12:35:24.656082Z",
     "iopub.status.busy": "2022-12-15T12:35:24.655195Z",
     "iopub.status.idle": "2022-12-15T12:35:24.661741Z",
     "shell.execute_reply": "2022-12-15T12:35:24.660385Z"
    },
    "papermill": {
     "duration": 0.021612,
     "end_time": "2022-12-15T12:35:24.664414",
     "exception": false,
     "start_time": "2022-12-15T12:35:24.642802",
     "status": "completed"
    },
    "tags": []
   },
   "outputs": [],
   "source": [
    "def create_df(url:str) -> pd.DataFrame:\n",
    "    df = pd.read_csv(url)\n",
    "    return df\n",
    "\n",
    "def get_article_id(df:pd.DataFrame, ids:pd.Series) -> pd.DataFrame:\n",
    "    df['article_id'] = [\"0\" + str(id) for id in ids]\n",
    "    return df"
   ]
  },
  {
   "cell_type": "code",
   "execution_count": 4,
   "id": "1a6d8650",
   "metadata": {
    "execution": {
     "iopub.execute_input": "2022-12-15T12:35:24.687300Z",
     "iopub.status.busy": "2022-12-15T12:35:24.686801Z",
     "iopub.status.idle": "2022-12-15T12:35:26.130614Z",
     "shell.execute_reply": "2022-12-15T12:35:26.128822Z"
    },
    "papermill": {
     "duration": 1.45946,
     "end_time": "2022-12-15T12:35:26.134243",
     "exception": false,
     "start_time": "2022-12-15T12:35:24.674783",
     "status": "completed"
    },
    "tags": []
   },
   "outputs": [
    {
     "data": {
      "text/html": [
       "<div>\n",
       "<style scoped>\n",
       "    .dataframe tbody tr th:only-of-type {\n",
       "        vertical-align: middle;\n",
       "    }\n",
       "\n",
       "    .dataframe tbody tr th {\n",
       "        vertical-align: top;\n",
       "    }\n",
       "\n",
       "    .dataframe thead th {\n",
       "        text-align: right;\n",
       "    }\n",
       "</style>\n",
       "<table border=\"1\" class=\"dataframe\">\n",
       "  <thead>\n",
       "    <tr style=\"text-align: right;\">\n",
       "      <th></th>\n",
       "      <th>article_id</th>\n",
       "      <th>product_code</th>\n",
       "      <th>prod_name</th>\n",
       "      <th>product_type_no</th>\n",
       "      <th>product_type_name</th>\n",
       "      <th>product_group_name</th>\n",
       "      <th>graphical_appearance_no</th>\n",
       "      <th>graphical_appearance_name</th>\n",
       "      <th>colour_group_code</th>\n",
       "      <th>colour_group_name</th>\n",
       "      <th>...</th>\n",
       "      <th>department_name</th>\n",
       "      <th>index_code</th>\n",
       "      <th>index_name</th>\n",
       "      <th>index_group_no</th>\n",
       "      <th>index_group_name</th>\n",
       "      <th>section_no</th>\n",
       "      <th>section_name</th>\n",
       "      <th>garment_group_no</th>\n",
       "      <th>garment_group_name</th>\n",
       "      <th>detail_desc</th>\n",
       "    </tr>\n",
       "  </thead>\n",
       "  <tbody>\n",
       "    <tr>\n",
       "      <th>0</th>\n",
       "      <td>0108775015</td>\n",
       "      <td>108775</td>\n",
       "      <td>Strap top</td>\n",
       "      <td>253</td>\n",
       "      <td>Vest top</td>\n",
       "      <td>Garment Upper body</td>\n",
       "      <td>1010016</td>\n",
       "      <td>Solid</td>\n",
       "      <td>9</td>\n",
       "      <td>Black</td>\n",
       "      <td>...</td>\n",
       "      <td>Jersey Basic</td>\n",
       "      <td>A</td>\n",
       "      <td>Ladieswear</td>\n",
       "      <td>1</td>\n",
       "      <td>Ladieswear</td>\n",
       "      <td>16</td>\n",
       "      <td>Womens Everyday Basics</td>\n",
       "      <td>1002</td>\n",
       "      <td>Jersey Basic</td>\n",
       "      <td>Jersey top with narrow shoulder straps.</td>\n",
       "    </tr>\n",
       "    <tr>\n",
       "      <th>1</th>\n",
       "      <td>0108775044</td>\n",
       "      <td>108775</td>\n",
       "      <td>Strap top</td>\n",
       "      <td>253</td>\n",
       "      <td>Vest top</td>\n",
       "      <td>Garment Upper body</td>\n",
       "      <td>1010016</td>\n",
       "      <td>Solid</td>\n",
       "      <td>10</td>\n",
       "      <td>White</td>\n",
       "      <td>...</td>\n",
       "      <td>Jersey Basic</td>\n",
       "      <td>A</td>\n",
       "      <td>Ladieswear</td>\n",
       "      <td>1</td>\n",
       "      <td>Ladieswear</td>\n",
       "      <td>16</td>\n",
       "      <td>Womens Everyday Basics</td>\n",
       "      <td>1002</td>\n",
       "      <td>Jersey Basic</td>\n",
       "      <td>Jersey top with narrow shoulder straps.</td>\n",
       "    </tr>\n",
       "    <tr>\n",
       "      <th>2</th>\n",
       "      <td>0108775051</td>\n",
       "      <td>108775</td>\n",
       "      <td>Strap top (1)</td>\n",
       "      <td>253</td>\n",
       "      <td>Vest top</td>\n",
       "      <td>Garment Upper body</td>\n",
       "      <td>1010017</td>\n",
       "      <td>Stripe</td>\n",
       "      <td>11</td>\n",
       "      <td>Off White</td>\n",
       "      <td>...</td>\n",
       "      <td>Jersey Basic</td>\n",
       "      <td>A</td>\n",
       "      <td>Ladieswear</td>\n",
       "      <td>1</td>\n",
       "      <td>Ladieswear</td>\n",
       "      <td>16</td>\n",
       "      <td>Womens Everyday Basics</td>\n",
       "      <td>1002</td>\n",
       "      <td>Jersey Basic</td>\n",
       "      <td>Jersey top with narrow shoulder straps.</td>\n",
       "    </tr>\n",
       "    <tr>\n",
       "      <th>3</th>\n",
       "      <td>0110065001</td>\n",
       "      <td>110065</td>\n",
       "      <td>OP T-shirt (Idro)</td>\n",
       "      <td>306</td>\n",
       "      <td>Bra</td>\n",
       "      <td>Underwear</td>\n",
       "      <td>1010016</td>\n",
       "      <td>Solid</td>\n",
       "      <td>9</td>\n",
       "      <td>Black</td>\n",
       "      <td>...</td>\n",
       "      <td>Clean Lingerie</td>\n",
       "      <td>B</td>\n",
       "      <td>Lingeries/Tights</td>\n",
       "      <td>1</td>\n",
       "      <td>Ladieswear</td>\n",
       "      <td>61</td>\n",
       "      <td>Womens Lingerie</td>\n",
       "      <td>1017</td>\n",
       "      <td>Under-, Nightwear</td>\n",
       "      <td>Microfibre T-shirt bra with underwired, moulde...</td>\n",
       "    </tr>\n",
       "    <tr>\n",
       "      <th>4</th>\n",
       "      <td>0110065002</td>\n",
       "      <td>110065</td>\n",
       "      <td>OP T-shirt (Idro)</td>\n",
       "      <td>306</td>\n",
       "      <td>Bra</td>\n",
       "      <td>Underwear</td>\n",
       "      <td>1010016</td>\n",
       "      <td>Solid</td>\n",
       "      <td>10</td>\n",
       "      <td>White</td>\n",
       "      <td>...</td>\n",
       "      <td>Clean Lingerie</td>\n",
       "      <td>B</td>\n",
       "      <td>Lingeries/Tights</td>\n",
       "      <td>1</td>\n",
       "      <td>Ladieswear</td>\n",
       "      <td>61</td>\n",
       "      <td>Womens Lingerie</td>\n",
       "      <td>1017</td>\n",
       "      <td>Under-, Nightwear</td>\n",
       "      <td>Microfibre T-shirt bra with underwired, moulde...</td>\n",
       "    </tr>\n",
       "  </tbody>\n",
       "</table>\n",
       "<p>5 rows × 25 columns</p>\n",
       "</div>"
      ],
      "text/plain": [
       "   article_id  product_code          prod_name  product_type_no  \\\n",
       "0  0108775015        108775          Strap top              253   \n",
       "1  0108775044        108775          Strap top              253   \n",
       "2  0108775051        108775      Strap top (1)              253   \n",
       "3  0110065001        110065  OP T-shirt (Idro)              306   \n",
       "4  0110065002        110065  OP T-shirt (Idro)              306   \n",
       "\n",
       "  product_type_name  product_group_name  graphical_appearance_no  \\\n",
       "0          Vest top  Garment Upper body                  1010016   \n",
       "1          Vest top  Garment Upper body                  1010016   \n",
       "2          Vest top  Garment Upper body                  1010017   \n",
       "3               Bra           Underwear                  1010016   \n",
       "4               Bra           Underwear                  1010016   \n",
       "\n",
       "  graphical_appearance_name  colour_group_code colour_group_name  ...  \\\n",
       "0                     Solid                  9             Black  ...   \n",
       "1                     Solid                 10             White  ...   \n",
       "2                    Stripe                 11         Off White  ...   \n",
       "3                     Solid                  9             Black  ...   \n",
       "4                     Solid                 10             White  ...   \n",
       "\n",
       "   department_name index_code        index_name index_group_no  \\\n",
       "0     Jersey Basic          A        Ladieswear              1   \n",
       "1     Jersey Basic          A        Ladieswear              1   \n",
       "2     Jersey Basic          A        Ladieswear              1   \n",
       "3   Clean Lingerie          B  Lingeries/Tights              1   \n",
       "4   Clean Lingerie          B  Lingeries/Tights              1   \n",
       "\n",
       "   index_group_name section_no            section_name garment_group_no  \\\n",
       "0        Ladieswear         16  Womens Everyday Basics             1002   \n",
       "1        Ladieswear         16  Womens Everyday Basics             1002   \n",
       "2        Ladieswear         16  Womens Everyday Basics             1002   \n",
       "3        Ladieswear         61         Womens Lingerie             1017   \n",
       "4        Ladieswear         61         Womens Lingerie             1017   \n",
       "\n",
       "   garment_group_name                                        detail_desc  \n",
       "0        Jersey Basic            Jersey top with narrow shoulder straps.  \n",
       "1        Jersey Basic            Jersey top with narrow shoulder straps.  \n",
       "2        Jersey Basic            Jersey top with narrow shoulder straps.  \n",
       "3   Under-, Nightwear  Microfibre T-shirt bra with underwired, moulde...  \n",
       "4   Under-, Nightwear  Microfibre T-shirt bra with underwired, moulde...  \n",
       "\n",
       "[5 rows x 25 columns]"
      ]
     },
     "execution_count": 4,
     "metadata": {},
     "output_type": "execute_result"
    }
   ],
   "source": [
    "articles = create_df(articles)\n",
    "ids = articles['article_id']\n",
    "articles = get_article_id(articles, ids)\n",
    "articles.head()"
   ]
  },
  {
   "cell_type": "markdown",
   "id": "082e78cd",
   "metadata": {
    "papermill": {
     "duration": 0.011205,
     "end_time": "2022-12-15T12:35:26.157334",
     "exception": false,
     "start_time": "2022-12-15T12:35:26.146129",
     "status": "completed"
    },
    "tags": []
   },
   "source": [
    "<a id=\"2\"></a> <br>\n",
    "> ##  **2.1 What product do they have the most?**"
   ]
  },
  {
   "cell_type": "code",
   "execution_count": 5,
   "id": "08cc5b39",
   "metadata": {
    "execution": {
     "iopub.execute_input": "2022-12-15T12:35:26.182549Z",
     "iopub.status.busy": "2022-12-15T12:35:26.182074Z",
     "iopub.status.idle": "2022-12-15T12:35:26.190580Z",
     "shell.execute_reply": "2022-12-15T12:35:26.189209Z"
    },
    "papermill": {
     "duration": 0.024308,
     "end_time": "2022-12-15T12:35:26.193217",
     "exception": false,
     "start_time": "2022-12-15T12:35:26.168909",
     "status": "completed"
    },
    "tags": []
   },
   "outputs": [],
   "source": [
    "import seaborn as sns\n",
    "import matplotlib.pyplot as plt\n",
    "\n",
    "def val_cnt(df:pd.DataFrame, col:str, top_n:int):\n",
    "    plt.figure(figsize = (8, 6))\n",
    "    sns.set(style = 'whitegrid')\n",
    "    _order = df[col].value_counts()[:top_n].index\n",
    "    viz = sns.countplot(x = col, data = df,\n",
    "                        order = _order)\n",
    "    plt.xticks(rotation = 45)\n",
    "    plt.show()"
   ]
  },
  {
   "cell_type": "code",
   "execution_count": 6,
   "id": "05724bce",
   "metadata": {
    "execution": {
     "iopub.execute_input": "2022-12-15T12:35:26.218065Z",
     "iopub.status.busy": "2022-12-15T12:35:26.217581Z",
     "iopub.status.idle": "2022-12-15T12:35:26.792194Z",
     "shell.execute_reply": "2022-12-15T12:35:26.790759Z"
    },
    "papermill": {
     "duration": 0.590745,
     "end_time": "2022-12-15T12:35:26.795383",
     "exception": false,
     "start_time": "2022-12-15T12:35:26.204638",
     "status": "completed"
    },
    "tags": []
   },
   "outputs": [
    {
     "data": {
      "image/png": "[encoded data removed]",
      "text/plain": [
       "<Figure size 576x432 with 1 Axes>"
      ]
     },
     "metadata": {
      "needs_background": "light"
     },
     "output_type": "display_data"
    }
   ],
   "source": [
    "val_cnt(articles, 'prod_name', 10)"
   ]
  },
  {
   "cell_type": "markdown",
   "id": "e737c91a",
   "metadata": {
    "papermill": {
     "duration": 0.011701,
     "end_time": "2022-12-15T12:35:26.819349",
     "exception": false,
     "start_time": "2022-12-15T12:35:26.807648",
     "status": "completed"
    },
    "tags": []
   },
   "source": [
    "<a id=\"2\"></a> <br>\n",
    "> ##  **2.2 What type of index that is accounted for the most?**"
   ]
  },
  {
   "cell_type": "code",
   "execution_count": 7,
   "id": "cab9dcbd",
   "metadata": {
    "execution": {
     "iopub.execute_input": "2022-12-15T12:35:26.845700Z",
     "iopub.status.busy": "2022-12-15T12:35:26.845218Z",
     "iopub.status.idle": "2022-12-15T12:35:26.853655Z",
     "shell.execute_reply": "2022-12-15T12:35:26.852119Z"
    },
    "papermill": {
     "duration": 0.024943,
     "end_time": "2022-12-15T12:35:26.856433",
     "exception": false,
     "start_time": "2022-12-15T12:35:26.831490",
     "status": "completed"
    },
    "tags": []
   },
   "outputs": [],
   "source": [
    "def pie_chart(df:pd.DataFrame, col:str):\n",
    "    _cnt_of_col = df[col].value_counts()\n",
    "    _name_cnt = [tuple((x, y)) for x, y in _cnt_of_col.items()]\n",
    "    _vals = [val[1] for val in _name_cnt]\n",
    "    _label = [val[0] for val in _name_cnt]\n",
    "    plt.pie(_vals, labels = _label,\n",
    "            radius = 1.5, autopct = \"%0.2f%%\")\n",
    "    plt.show()"
   ]
  },
  {
   "cell_type": "code",
   "execution_count": 8,
   "id": "ca30bdca",
   "metadata": {
    "execution": {
     "iopub.execute_input": "2022-12-15T12:35:26.883328Z",
     "iopub.status.busy": "2022-12-15T12:35:26.882790Z",
     "iopub.status.idle": "2022-12-15T12:35:27.123666Z",
     "shell.execute_reply": "2022-12-15T12:35:27.121813Z"
    },
    "papermill": {
     "duration": 0.259903,
     "end_time": "2022-12-15T12:35:27.128484",
     "exception": false,
     "start_time": "2022-12-15T12:35:26.868581",
     "status": "completed"
    },
    "tags": []
   },
   "outputs": [
    {
     "data": {
      "image/png": "[encoded data removed]",
      "text/plain": [
       "<Figure size 432x288 with 1 Axes>"
      ]
     },
     "metadata": {},
     "output_type": "display_data"
    }
   ],
   "source": [
    "pie_chart(articles, 'index_name')"
   ]
  },
  {
   "cell_type": "markdown",
   "id": "676ae75b",
   "metadata": {
    "papermill": {
     "duration": 0.012605,
     "end_time": "2022-12-15T12:35:27.156392",
     "exception": false,
     "start_time": "2022-12-15T12:35:27.143787",
     "status": "completed"
    },
    "tags": []
   },
   "source": [
    "<a id=\"2\"></a> <br>\n",
    "> ##  **2.3 what's the portion of index group name for each garment group?**"
   ]
  },
  {
   "cell_type": "code",
   "execution_count": 9,
   "id": "e86c7979",
   "metadata": {
    "execution": {
     "iopub.execute_input": "2022-12-15T12:35:27.185313Z",
     "iopub.status.busy": "2022-12-15T12:35:27.184261Z",
     "iopub.status.idle": "2022-12-15T12:35:27.190741Z",
     "shell.execute_reply": "2022-12-15T12:35:27.189733Z"
    },
    "papermill": {
     "duration": 0.024241,
     "end_time": "2022-12-15T12:35:27.193793",
     "exception": false,
     "start_time": "2022-12-15T12:35:27.169552",
     "status": "completed"
    },
    "tags": []
   },
   "outputs": [],
   "source": [
    "def portion(df:pd.DataFrame, y:str, hue:str):\n",
    "    _f, _ax = plt.subplots(figsize = (10, 10))\n",
    "    _ax = sns.histplot(data=df, y=y, hue=hue, multiple=\"stack\")\n",
    "    plt.show()"
   ]
  },
  {
   "cell_type": "code",
   "execution_count": 10,
   "id": "174c8178",
   "metadata": {
    "execution": {
     "iopub.execute_input": "2022-12-15T12:35:27.223212Z",
     "iopub.status.busy": "2022-12-15T12:35:27.222657Z",
     "iopub.status.idle": "2022-12-15T12:35:28.173822Z",
     "shell.execute_reply": "2022-12-15T12:35:28.172356Z"
    },
    "papermill": {
     "duration": 0.970532,
     "end_time": "2022-12-15T12:35:28.178229",
     "exception": false,
     "start_time": "2022-12-15T12:35:27.207697",
     "status": "completed"
    },
    "tags": []
   },
   "outputs": [
    {
     "data": {
      "image/png": "[encoded data removed]",
      "text/plain": [
       "<Figure size 720x720 with 1 Axes>"
      ]
     },
     "metadata": {},
     "output_type": "display_data"
    }
   ],
   "source": [
    "portion(articles, 'garment_group_name', 'index_group_name')"
   ]
  },
  {
   "cell_type": "markdown",
   "id": "9cb839b5",
   "metadata": {
    "papermill": {
     "duration": 0.014036,
     "end_time": "2022-12-15T12:35:28.214098",
     "exception": false,
     "start_time": "2022-12-15T12:35:28.200062",
     "status": "completed"
    },
    "tags": []
   },
   "source": [
    "<a id=\"1\"></a> <br>\n",
    "> ## **3. Customers**"
   ]
  },
  {
   "cell_type": "code",
   "execution_count": 11,
   "id": "73193d7b",
   "metadata": {
    "execution": {
     "iopub.execute_input": "2022-12-15T12:35:28.247574Z",
     "iopub.status.busy": "2022-12-15T12:35:28.246349Z",
     "iopub.status.idle": "2022-12-15T12:35:35.650182Z",
     "shell.execute_reply": "2022-12-15T12:35:35.648665Z"
    },
    "papermill": {
     "duration": 7.424293,
     "end_time": "2022-12-15T12:35:35.653144",
     "exception": false,
     "start_time": "2022-12-15T12:35:28.228851",
     "status": "completed"
    },
    "tags": []
   },
   "outputs": [
    {
     "data": {
      "text/html": [
       "<div>\n",
       "<style scoped>\n",
       "    .dataframe tbody tr th:only-of-type {\n",
       "        vertical-align: middle;\n",
       "    }\n",
       "\n",
       "    .dataframe tbody tr th {\n",
       "        vertical-align: top;\n",
       "    }\n",
       "\n",
       "    .dataframe thead th {\n",
       "        text-align: right;\n",
       "    }\n",
       "</style>\n",
       "<table border=\"1\" class=\"dataframe\">\n",
       "  <thead>\n",
       "    <tr style=\"text-align: right;\">\n",
       "      <th></th>\n",
       "      <th>customer_id</th>\n",
       "      <th>FN</th>\n",
       "      <th>Active</th>\n",
       "      <th>club_member_status</th>\n",
       "      <th>fashion_news_frequency</th>\n",
       "      <th>age</th>\n",
       "      <th>postal_code</th>\n",
       "    </tr>\n",
       "  </thead>\n",
       "  <tbody>\n",
       "    <tr>\n",
       "      <th>0</th>\n",
       "      <td>00000dbacae5abe5e23885899a1fa44253a17956c6d1c3...</td>\n",
       "      <td>NaN</td>\n",
       "      <td>NaN</td>\n",
       "      <td>ACTIVE</td>\n",
       "      <td>NONE</td>\n",
       "      <td>49.0</td>\n",
       "      <td>52043ee2162cf5aa7ee79974281641c6f11a68d276429a...</td>\n",
       "    </tr>\n",
       "    <tr>\n",
       "      <th>1</th>\n",
       "      <td>0000423b00ade91418cceaf3b26c6af3dd342b51fd051e...</td>\n",
       "      <td>NaN</td>\n",
       "      <td>NaN</td>\n",
       "      <td>ACTIVE</td>\n",
       "      <td>NONE</td>\n",
       "      <td>25.0</td>\n",
       "      <td>2973abc54daa8a5f8ccfe9362140c63247c5eee03f1d93...</td>\n",
       "    </tr>\n",
       "    <tr>\n",
       "      <th>2</th>\n",
       "      <td>000058a12d5b43e67d225668fa1f8d618c13dc232df0ca...</td>\n",
       "      <td>NaN</td>\n",
       "      <td>NaN</td>\n",
       "      <td>ACTIVE</td>\n",
       "      <td>NONE</td>\n",
       "      <td>24.0</td>\n",
       "      <td>64f17e6a330a85798e4998f62d0930d14db8db1c054af6...</td>\n",
       "    </tr>\n",
       "    <tr>\n",
       "      <th>3</th>\n",
       "      <td>00005ca1c9ed5f5146b52ac8639a40ca9d57aeff4d1bd2...</td>\n",
       "      <td>NaN</td>\n",
       "      <td>NaN</td>\n",
       "      <td>ACTIVE</td>\n",
       "      <td>NONE</td>\n",
       "      <td>54.0</td>\n",
       "      <td>5d36574f52495e81f019b680c843c443bd343d5ca5b1c2...</td>\n",
       "    </tr>\n",
       "    <tr>\n",
       "      <th>4</th>\n",
       "      <td>00006413d8573cd20ed7128e53b7b13819fe5cfc2d801f...</td>\n",
       "      <td>1.0</td>\n",
       "      <td>1.0</td>\n",
       "      <td>ACTIVE</td>\n",
       "      <td>Regularly</td>\n",
       "      <td>52.0</td>\n",
       "      <td>25fa5ddee9aac01b35208d01736e57942317d756b32ddd...</td>\n",
       "    </tr>\n",
       "  </tbody>\n",
       "</table>\n",
       "</div>"
      ],
      "text/plain": [
       "                                         customer_id   FN  Active  \\\n",
       "0  00000dbacae5abe5e23885899a1fa44253a17956c6d1c3...  NaN     NaN   \n",
       "1  0000423b00ade91418cceaf3b26c6af3dd342b51fd051e...  NaN     NaN   \n",
       "2  000058a12d5b43e67d225668fa1f8d618c13dc232df0ca...  NaN     NaN   \n",
       "3  00005ca1c9ed5f5146b52ac8639a40ca9d57aeff4d1bd2...  NaN     NaN   \n",
       "4  00006413d8573cd20ed7128e53b7b13819fe5cfc2d801f...  1.0     1.0   \n",
       "\n",
       "  club_member_status fashion_news_frequency   age  \\\n",
       "0             ACTIVE                   NONE  49.0   \n",
       "1             ACTIVE                   NONE  25.0   \n",
       "2             ACTIVE                   NONE  24.0   \n",
       "3             ACTIVE                   NONE  54.0   \n",
       "4             ACTIVE              Regularly  52.0   \n",
       "\n",
       "                                         postal_code  \n",
       "0  52043ee2162cf5aa7ee79974281641c6f11a68d276429a...  \n",
       "1  2973abc54daa8a5f8ccfe9362140c63247c5eee03f1d93...  \n",
       "2  64f17e6a330a85798e4998f62d0930d14db8db1c054af6...  \n",
       "3  5d36574f52495e81f019b680c843c443bd343d5ca5b1c2...  \n",
       "4  25fa5ddee9aac01b35208d01736e57942317d756b32ddd...  "
      ]
     },
     "execution_count": 11,
     "metadata": {},
     "output_type": "execute_result"
    }
   ],
   "source": [
    "customers = create_df(customers)\n",
    "customers.head()"
   ]
  },
  {
   "cell_type": "markdown",
   "id": "652799b3",
   "metadata": {
    "papermill": {
     "duration": 0.014206,
     "end_time": "2022-12-15T12:35:35.682372",
     "exception": false,
     "start_time": "2022-12-15T12:35:35.668166",
     "status": "completed"
    },
    "tags": []
   },
   "source": [
    "<a id=\"2\"></a> <br>\n",
    "> ##  **3.1 How many Customers for each of club member status?**"
   ]
  },
  {
   "cell_type": "code",
   "execution_count": 12,
   "id": "61be8a8f",
   "metadata": {
    "execution": {
     "iopub.execute_input": "2022-12-15T12:35:35.715723Z",
     "iopub.status.busy": "2022-12-15T12:35:35.714205Z",
     "iopub.status.idle": "2022-12-15T12:35:35.722337Z",
     "shell.execute_reply": "2022-12-15T12:35:35.721049Z"
    },
    "papermill": {
     "duration": 0.027799,
     "end_time": "2022-12-15T12:35:35.725090",
     "exception": false,
     "start_time": "2022-12-15T12:35:35.697291",
     "status": "completed"
    },
    "tags": []
   },
   "outputs": [],
   "source": [
    "def cust_ratio(df:pd.DataFrame, col:str, check_val:str) -> float: \n",
    "    _total = df.shape[0]\n",
    "    _target = df[df[col] == check_val].shape[0]\n",
    "    return round((_target/_total) * 100, 2)"
   ]
  },
  {
   "cell_type": "code",
   "execution_count": 13,
   "id": "261c77f0",
   "metadata": {
    "execution": {
     "iopub.execute_input": "2022-12-15T12:35:35.758137Z",
     "iopub.status.busy": "2022-12-15T12:35:35.757353Z",
     "iopub.status.idle": "2022-12-15T12:35:36.112695Z",
     "shell.execute_reply": "2022-12-15T12:35:36.111378Z"
    },
    "papermill": {
     "duration": 0.37549,
     "end_time": "2022-12-15T12:35:36.115661",
     "exception": false,
     "start_time": "2022-12-15T12:35:35.740171",
     "status": "completed"
    },
    "tags": []
   },
   "outputs": [
    {
     "data": {
      "text/plain": [
       "92.75"
      ]
     },
     "execution_count": 13,
     "metadata": {},
     "output_type": "execute_result"
    }
   ],
   "source": [
    "cust_ratio(customers, 'club_member_status', 'ACTIVE')"
   ]
  },
  {
   "cell_type": "markdown",
   "id": "f171bde9",
   "metadata": {
    "papermill": {
     "duration": 0.014605,
     "end_time": "2022-12-15T12:35:36.145725",
     "exception": false,
     "start_time": "2022-12-15T12:35:36.131120",
     "status": "completed"
    },
    "tags": []
   },
   "source": [
    "<a id=\"2\"></a> <br>\n",
    "> ##  **3.2 How many customers receive the fashion news by frequency?**"
   ]
  },
  {
   "cell_type": "code",
   "execution_count": 14,
   "id": "3518d4eb",
   "metadata": {
    "execution": {
     "iopub.execute_input": "2022-12-15T12:35:36.178383Z",
     "iopub.status.busy": "2022-12-15T12:35:36.177596Z",
     "iopub.status.idle": "2022-12-15T12:35:36.274197Z",
     "shell.execute_reply": "2022-12-15T12:35:36.272501Z"
    },
    "papermill": {
     "duration": 0.117291,
     "end_time": "2022-12-15T12:35:36.277800",
     "exception": false,
     "start_time": "2022-12-15T12:35:36.160509",
     "status": "completed"
    },
    "tags": []
   },
   "outputs": [],
   "source": [
    "customers['fashion_news_frequency'] = customers['fashion_news_frequency'].replace('None', 'NONE')"
   ]
  },
  {
   "cell_type": "code",
   "execution_count": 15,
   "id": "f4f59586",
   "metadata": {
    "execution": {
     "iopub.execute_input": "2022-12-15T12:35:36.310796Z",
     "iopub.status.busy": "2022-12-15T12:35:36.310285Z",
     "iopub.status.idle": "2022-12-15T12:35:36.320075Z",
     "shell.execute_reply": "2022-12-15T12:35:36.318475Z"
    },
    "papermill": {
     "duration": 0.030672,
     "end_time": "2022-12-15T12:35:36.323689",
     "exception": false,
     "start_time": "2022-12-15T12:35:36.293017",
     "status": "completed"
    },
    "tags": []
   },
   "outputs": [],
   "source": [
    "def pie_chart(df:pd.DataFrame, col:str):\n",
    "    _cnt_of_col = df[col].value_counts()\n",
    "    _colname_cnt = [tuple((x, y)) for x, y in _cnt_of_col.items()]\n",
    "    \n",
    "    _cnt_no_response = df[col].isna().sum()\n",
    "    tuple_val = tuple(('No Response', _cnt_no_response))\n",
    "    _colname_cnt.append(tuple_val)\n",
    "\n",
    "    _vals = [val[1] for val in _colname_cnt]\n",
    "    _labels = [val[0] for val in _colname_cnt]\n",
    "    \n",
    "    plt.pie(_vals, labels = _labels, radius = 1.5, autopct = \"%0.2f%%\")\n",
    "    plt.show()"
   ]
  },
  {
   "cell_type": "code",
   "execution_count": 16,
   "id": "470123b0",
   "metadata": {
    "execution": {
     "iopub.execute_input": "2022-12-15T12:35:36.357445Z",
     "iopub.status.busy": "2022-12-15T12:35:36.356050Z",
     "iopub.status.idle": "2022-12-15T12:35:36.637573Z",
     "shell.execute_reply": "2022-12-15T12:35:36.635841Z"
    },
    "papermill": {
     "duration": 0.302596,
     "end_time": "2022-12-15T12:35:36.641587",
     "exception": false,
     "start_time": "2022-12-15T12:35:36.338991",
     "status": "completed"
    },
    "tags": []
   },
   "outputs": [
    {
     "data": {
      "image/png": "[encoded data removed]",
      "text/plain": [
       "<Figure size 432x288 with 1 Axes>"
      ]
     },
     "metadata": {},
     "output_type": "display_data"
    }
   ],
   "source": [
    "pie_chart(customers, 'fashion_news_frequency')"
   ]
  },
  {
   "cell_type": "markdown",
   "id": "a0ef25ba",
   "metadata": {
    "papermill": {
     "duration": 0.026705,
     "end_time": "2022-12-15T12:35:36.704996",
     "exception": false,
     "start_time": "2022-12-15T12:35:36.678291",
     "status": "completed"
    },
    "tags": []
   },
   "source": [
    "<a id=\"2\"></a> <br>\n",
    "> ##  **3.3 How old customers overall?**"
   ]
  },
  {
   "cell_type": "code",
   "execution_count": 17,
   "id": "751934ba",
   "metadata": {
    "execution": {
     "iopub.execute_input": "2022-12-15T12:35:36.736992Z",
     "iopub.status.busy": "2022-12-15T12:35:36.736471Z",
     "iopub.status.idle": "2022-12-15T12:35:37.173186Z",
     "shell.execute_reply": "2022-12-15T12:35:37.171782Z"
    },
    "papermill": {
     "duration": 0.456488,
     "end_time": "2022-12-15T12:35:37.176317",
     "exception": false,
     "start_time": "2022-12-15T12:35:36.719829",
     "status": "completed"
    },
    "tags": []
   },
   "outputs": [],
   "source": [
    "customers = customers.dropna(axis = 0)"
   ]
  },
  {
   "cell_type": "code",
   "execution_count": 18,
   "id": "fc162bbc",
   "metadata": {
    "execution": {
     "iopub.execute_input": "2022-12-15T12:35:37.209788Z",
     "iopub.status.busy": "2022-12-15T12:35:37.208745Z",
     "iopub.status.idle": "2022-12-15T12:35:37.216642Z",
     "shell.execute_reply": "2022-12-15T12:35:37.215195Z"
    },
    "papermill": {
     "duration": 0.028219,
     "end_time": "2022-12-15T12:35:37.219453",
     "exception": false,
     "start_time": "2022-12-15T12:35:37.191234",
     "status": "completed"
    },
    "tags": []
   },
   "outputs": [],
   "source": [
    "def distribution(df:pd.DataFrame, col:str):\n",
    "    df[col] = df[col].astype(int)\n",
    "    df[col].plot.hist()\n",
    "    plt.show()"
   ]
  },
  {
   "cell_type": "code",
   "execution_count": 19,
   "id": "5657ef55",
   "metadata": {
    "execution": {
     "iopub.execute_input": "2022-12-15T12:35:37.253305Z",
     "iopub.status.busy": "2022-12-15T12:35:37.252636Z",
     "iopub.status.idle": "2022-12-15T12:35:37.607414Z",
     "shell.execute_reply": "2022-12-15T12:35:37.605985Z"
    },
    "papermill": {
     "duration": 0.375405,
     "end_time": "2022-12-15T12:35:37.610452",
     "exception": false,
     "start_time": "2022-12-15T12:35:37.235047",
     "status": "completed"
    },
    "tags": []
   },
   "outputs": [
    {
     "data": {
      "image/png": "[encoded data removed]",
      "text/plain": [
       "<Figure size 432x288 with 1 Axes>"
      ]
     },
     "metadata": {},
     "output_type": "display_data"
    }
   ],
   "source": [
    "distribution(customers, 'age')"
   ]
  },
  {
   "cell_type": "code",
   "execution_count": 20,
   "id": "cf450de3",
   "metadata": {
    "execution": {
     "iopub.execute_input": "2022-12-15T12:35:37.642886Z",
     "iopub.status.busy": "2022-12-15T12:35:37.642414Z",
     "iopub.status.idle": "2022-12-15T12:35:37.763325Z",
     "shell.execute_reply": "2022-12-15T12:35:37.762097Z"
    },
    "papermill": {
     "duration": 0.140844,
     "end_time": "2022-12-15T12:35:37.766508",
     "exception": false,
     "start_time": "2022-12-15T12:35:37.625664",
     "status": "completed"
    },
    "tags": []
   },
   "outputs": [
    {
     "data": {
      "text/html": [
       "<div>\n",
       "<style scoped>\n",
       "    .dataframe tbody tr th:only-of-type {\n",
       "        vertical-align: middle;\n",
       "    }\n",
       "\n",
       "    .dataframe tbody tr th {\n",
       "        vertical-align: top;\n",
       "    }\n",
       "\n",
       "    .dataframe thead th {\n",
       "        text-align: right;\n",
       "    }\n",
       "</style>\n",
       "<table border=\"1\" class=\"dataframe\">\n",
       "  <thead>\n",
       "    <tr style=\"text-align: right;\">\n",
       "      <th></th>\n",
       "      <th>club_member_status</th>\n",
       "      <th>age</th>\n",
       "      <th>number of status</th>\n",
       "    </tr>\n",
       "  </thead>\n",
       "  <tbody>\n",
       "    <tr>\n",
       "      <th>0</th>\n",
       "      <td>ACTIVE</td>\n",
       "      <td>21</td>\n",
       "      <td>25546</td>\n",
       "    </tr>\n",
       "    <tr>\n",
       "      <th>1</th>\n",
       "      <td>ACTIVE</td>\n",
       "      <td>20</td>\n",
       "      <td>21043</td>\n",
       "    </tr>\n",
       "    <tr>\n",
       "      <th>2</th>\n",
       "      <td>ACTIVE</td>\n",
       "      <td>22</td>\n",
       "      <td>19176</td>\n",
       "    </tr>\n",
       "    <tr>\n",
       "      <th>3</th>\n",
       "      <td>ACTIVE</td>\n",
       "      <td>23</td>\n",
       "      <td>18817</td>\n",
       "    </tr>\n",
       "    <tr>\n",
       "      <th>4</th>\n",
       "      <td>ACTIVE</td>\n",
       "      <td>24</td>\n",
       "      <td>17724</td>\n",
       "    </tr>\n",
       "  </tbody>\n",
       "</table>\n",
       "</div>"
      ],
      "text/plain": [
       "  club_member_status  age  number of status\n",
       "0             ACTIVE   21             25546\n",
       "1             ACTIVE   20             21043\n",
       "2             ACTIVE   22             19176\n",
       "3             ACTIVE   23             18817\n",
       "4             ACTIVE   24             17724"
      ]
     },
     "execution_count": 20,
     "metadata": {},
     "output_type": "execute_result"
    }
   ],
   "source": [
    "# relationship with age & club_member_status\n",
    "# hypothesis : As you get older, you're not likely active in club member\n",
    "\n",
    "# number of club_member_status by age\n",
    "\n",
    "num_status_by_age = customers.groupby(['club_member_status'])['age'].value_counts().reset_index(name = 'number of status')\n",
    "num_status_by_age.head()"
   ]
  },
  {
   "cell_type": "code",
   "execution_count": 21,
   "id": "62d0e4c5",
   "metadata": {
    "execution": {
     "iopub.execute_input": "2022-12-15T12:35:37.803318Z",
     "iopub.status.busy": "2022-12-15T12:35:37.802473Z",
     "iopub.status.idle": "2022-12-15T12:35:37.819718Z",
     "shell.execute_reply": "2022-12-15T12:35:37.818492Z"
    },
    "papermill": {
     "duration": 0.038614,
     "end_time": "2022-12-15T12:35:37.822479",
     "exception": false,
     "start_time": "2022-12-15T12:35:37.783865",
     "status": "completed"
    },
    "tags": []
   },
   "outputs": [
    {
     "data": {
      "text/html": [
       "<div>\n",
       "<style scoped>\n",
       "    .dataframe tbody tr th:only-of-type {\n",
       "        vertical-align: middle;\n",
       "    }\n",
       "\n",
       "    .dataframe tbody tr th {\n",
       "        vertical-align: top;\n",
       "    }\n",
       "\n",
       "    .dataframe thead th {\n",
       "        text-align: right;\n",
       "    }\n",
       "</style>\n",
       "<table border=\"1\" class=\"dataframe\">\n",
       "  <thead>\n",
       "    <tr style=\"text-align: right;\">\n",
       "      <th></th>\n",
       "      <th>club_member_status</th>\n",
       "      <th>age</th>\n",
       "      <th>number of status</th>\n",
       "    </tr>\n",
       "  </thead>\n",
       "  <tbody>\n",
       "    <tr>\n",
       "      <th>0</th>\n",
       "      <td>ACTIVE</td>\n",
       "      <td>21</td>\n",
       "      <td>25546</td>\n",
       "    </tr>\n",
       "    <tr>\n",
       "      <th>1</th>\n",
       "      <td>ACTIVE</td>\n",
       "      <td>20</td>\n",
       "      <td>21043</td>\n",
       "    </tr>\n",
       "    <tr>\n",
       "      <th>2</th>\n",
       "      <td>ACTIVE</td>\n",
       "      <td>22</td>\n",
       "      <td>19176</td>\n",
       "    </tr>\n",
       "    <tr>\n",
       "      <th>3</th>\n",
       "      <td>ACTIVE</td>\n",
       "      <td>23</td>\n",
       "      <td>18817</td>\n",
       "    </tr>\n",
       "    <tr>\n",
       "      <th>4</th>\n",
       "      <td>ACTIVE</td>\n",
       "      <td>24</td>\n",
       "      <td>17724</td>\n",
       "    </tr>\n",
       "    <tr>\n",
       "      <th>...</th>\n",
       "      <td>...</td>\n",
       "      <td>...</td>\n",
       "      <td>...</td>\n",
       "    </tr>\n",
       "    <tr>\n",
       "      <th>76</th>\n",
       "      <td>ACTIVE</td>\n",
       "      <td>90</td>\n",
       "      <td>4</td>\n",
       "    </tr>\n",
       "    <tr>\n",
       "      <th>77</th>\n",
       "      <td>ACTIVE</td>\n",
       "      <td>91</td>\n",
       "      <td>2</td>\n",
       "    </tr>\n",
       "    <tr>\n",
       "      <th>78</th>\n",
       "      <td>ACTIVE</td>\n",
       "      <td>95</td>\n",
       "      <td>2</td>\n",
       "    </tr>\n",
       "    <tr>\n",
       "      <th>79</th>\n",
       "      <td>ACTIVE</td>\n",
       "      <td>94</td>\n",
       "      <td>1</td>\n",
       "    </tr>\n",
       "    <tr>\n",
       "      <th>80</th>\n",
       "      <td>ACTIVE</td>\n",
       "      <td>98</td>\n",
       "      <td>1</td>\n",
       "    </tr>\n",
       "  </tbody>\n",
       "</table>\n",
       "<p>81 rows × 3 columns</p>\n",
       "</div>"
      ],
      "text/plain": [
       "   club_member_status  age  number of status\n",
       "0              ACTIVE   21             25546\n",
       "1              ACTIVE   20             21043\n",
       "2              ACTIVE   22             19176\n",
       "3              ACTIVE   23             18817\n",
       "4              ACTIVE   24             17724\n",
       "..                ...  ...               ...\n",
       "76             ACTIVE   90                 4\n",
       "77             ACTIVE   91                 2\n",
       "78             ACTIVE   95                 2\n",
       "79             ACTIVE   94                 1\n",
       "80             ACTIVE   98                 1\n",
       "\n",
       "[81 rows x 3 columns]"
      ]
     },
     "execution_count": 21,
     "metadata": {},
     "output_type": "execute_result"
    }
   ],
   "source": [
    "active = num_status_by_age[num_status_by_age['club_member_status'] == 'ACTIVE']\n",
    "active"
   ]
  },
  {
   "cell_type": "code",
   "execution_count": 22,
   "id": "495e0f2c",
   "metadata": {
    "execution": {
     "iopub.execute_input": "2022-12-15T12:35:37.859557Z",
     "iopub.status.busy": "2022-12-15T12:35:37.858560Z",
     "iopub.status.idle": "2022-12-15T12:35:37.870356Z",
     "shell.execute_reply": "2022-12-15T12:35:37.868725Z"
    },
    "papermill": {
     "duration": 0.033622,
     "end_time": "2022-12-15T12:35:37.873606",
     "exception": false,
     "start_time": "2022-12-15T12:35:37.839984",
     "status": "completed"
    },
    "tags": []
   },
   "outputs": [
    {
     "data": {
      "text/plain": [
       "-0.7928249676306093"
      ]
     },
     "execution_count": 22,
     "metadata": {},
     "output_type": "execute_result"
    }
   ],
   "source": [
    "import scipy.stats as stats\n",
    "\n",
    "age = active['age'].tolist()\n",
    "num_of_cust = active['number of status'].tolist()\n",
    "\n",
    "corr, _ = stats.pearsonr (age, num_of_cust)\n",
    "corr"
   ]
  },
  {
   "cell_type": "code",
   "execution_count": 23,
   "id": "91009a18",
   "metadata": {
    "execution": {
     "iopub.execute_input": "2022-12-15T12:35:37.909427Z",
     "iopub.status.busy": "2022-12-15T12:35:37.908816Z",
     "iopub.status.idle": "2022-12-15T12:35:37.923391Z",
     "shell.execute_reply": "2022-12-15T12:35:37.921969Z"
    },
    "papermill": {
     "duration": 0.036038,
     "end_time": "2022-12-15T12:35:37.926203",
     "exception": false,
     "start_time": "2022-12-15T12:35:37.890165",
     "status": "completed"
    },
    "tags": []
   },
   "outputs": [
    {
     "data": {
      "text/html": [
       "<div>\n",
       "<style scoped>\n",
       "    .dataframe tbody tr th:only-of-type {\n",
       "        vertical-align: middle;\n",
       "    }\n",
       "\n",
       "    .dataframe tbody tr th {\n",
       "        vertical-align: top;\n",
       "    }\n",
       "\n",
       "    .dataframe thead th {\n",
       "        text-align: right;\n",
       "    }\n",
       "</style>\n",
       "<table border=\"1\" class=\"dataframe\">\n",
       "  <thead>\n",
       "    <tr style=\"text-align: right;\">\n",
       "      <th></th>\n",
       "      <th>age</th>\n",
       "      <th>number of status</th>\n",
       "    </tr>\n",
       "  </thead>\n",
       "  <tbody>\n",
       "    <tr>\n",
       "      <th>age</th>\n",
       "      <td>1.000000</td>\n",
       "      <td>-0.792825</td>\n",
       "    </tr>\n",
       "    <tr>\n",
       "      <th>number of status</th>\n",
       "      <td>-0.792825</td>\n",
       "      <td>1.000000</td>\n",
       "    </tr>\n",
       "  </tbody>\n",
       "</table>\n",
       "</div>"
      ],
      "text/plain": [
       "                       age  number of status\n",
       "age               1.000000         -0.792825\n",
       "number of status -0.792825          1.000000"
      ]
     },
     "execution_count": 23,
     "metadata": {},
     "output_type": "execute_result"
    }
   ],
   "source": [
    "active.corr()"
   ]
  },
  {
   "cell_type": "code",
   "execution_count": 24,
   "id": "b6a56122",
   "metadata": {
    "execution": {
     "iopub.execute_input": "2022-12-15T12:35:37.960185Z",
     "iopub.status.busy": "2022-12-15T12:35:37.959260Z",
     "iopub.status.idle": "2022-12-15T12:35:37.965249Z",
     "shell.execute_reply": "2022-12-15T12:35:37.964177Z"
    },
    "papermill": {
     "duration": 0.026071,
     "end_time": "2022-12-15T12:35:37.967891",
     "exception": false,
     "start_time": "2022-12-15T12:35:37.941820",
     "status": "completed"
    },
    "tags": []
   },
   "outputs": [],
   "source": [
    "import matplotlib.pyplot as plt\n",
    "import seaborn as sns"
   ]
  },
  {
   "cell_type": "code",
   "execution_count": 25,
   "id": "c469e9db",
   "metadata": {
    "execution": {
     "iopub.execute_input": "2022-12-15T12:35:38.002226Z",
     "iopub.status.busy": "2022-12-15T12:35:38.001446Z",
     "iopub.status.idle": "2022-12-15T12:35:38.277538Z",
     "shell.execute_reply": "2022-12-15T12:35:38.276120Z"
    },
    "papermill": {
     "duration": 0.297,
     "end_time": "2022-12-15T12:35:38.280565",
     "exception": false,
     "start_time": "2022-12-15T12:35:37.983565",
     "status": "completed"
    },
    "tags": []
   },
   "outputs": [
    {
     "data": {
      "image/png": "[encoded data removed]",
      "text/plain": [
       "<Figure size 432x288 with 2 Axes>"
      ]
     },
     "metadata": {},
     "output_type": "display_data"
    }
   ],
   "source": [
    "sns.heatmap(active.corr(), vmin = -1, vmax = 1, annot = True, cmap = \"rocket_r\")\n",
    "plt.show()"
   ]
  },
  {
   "cell_type": "code",
   "execution_count": 26,
   "id": "c3bf52e2",
   "metadata": {
    "execution": {
     "iopub.execute_input": "2022-12-15T12:35:38.314670Z",
     "iopub.status.busy": "2022-12-15T12:35:38.314198Z",
     "iopub.status.idle": "2022-12-15T12:35:38.335723Z",
     "shell.execute_reply": "2022-12-15T12:35:38.334174Z"
    },
    "papermill": {
     "duration": 0.041922,
     "end_time": "2022-12-15T12:35:38.338629",
     "exception": false,
     "start_time": "2022-12-15T12:35:38.296707",
     "status": "completed"
    },
    "tags": []
   },
   "outputs": [
    {
     "data": {
      "text/html": [
       "<div>\n",
       "<style scoped>\n",
       "    .dataframe tbody tr th:only-of-type {\n",
       "        vertical-align: middle;\n",
       "    }\n",
       "\n",
       "    .dataframe tbody tr th {\n",
       "        vertical-align: top;\n",
       "    }\n",
       "\n",
       "    .dataframe thead th {\n",
       "        text-align: right;\n",
       "    }\n",
       "</style>\n",
       "<table border=\"1\" class=\"dataframe\">\n",
       "  <thead>\n",
       "    <tr style=\"text-align: right;\">\n",
       "      <th></th>\n",
       "      <th>age</th>\n",
       "      <th>fashion_news_frequency</th>\n",
       "    </tr>\n",
       "  </thead>\n",
       "  <tbody>\n",
       "    <tr>\n",
       "      <th>4</th>\n",
       "      <td>52</td>\n",
       "      <td>Regularly</td>\n",
       "    </tr>\n",
       "    <tr>\n",
       "      <th>7</th>\n",
       "      <td>32</td>\n",
       "      <td>Regularly</td>\n",
       "    </tr>\n",
       "    <tr>\n",
       "      <th>13</th>\n",
       "      <td>56</td>\n",
       "      <td>Regularly</td>\n",
       "    </tr>\n",
       "    <tr>\n",
       "      <th>14</th>\n",
       "      <td>29</td>\n",
       "      <td>Regularly</td>\n",
       "    </tr>\n",
       "    <tr>\n",
       "      <th>15</th>\n",
       "      <td>54</td>\n",
       "      <td>Regularly</td>\n",
       "    </tr>\n",
       "  </tbody>\n",
       "</table>\n",
       "</div>"
      ],
      "text/plain": [
       "    age fashion_news_frequency\n",
       "4    52              Regularly\n",
       "7    32              Regularly\n",
       "13   56              Regularly\n",
       "14   29              Regularly\n",
       "15   54              Regularly"
      ]
     },
     "execution_count": 26,
     "metadata": {},
     "output_type": "execute_result"
    }
   ],
   "source": [
    "# relationship with age & fashion_news_frequency\n",
    "\n",
    "age_and_frequency = customers[['age', 'fashion_news_frequency']]\n",
    "age_and_frequency.head()"
   ]
  },
  {
   "cell_type": "code",
   "execution_count": 27,
   "id": "47fbc6cf",
   "metadata": {
    "execution": {
     "iopub.execute_input": "2022-12-15T12:35:38.373058Z",
     "iopub.status.busy": "2022-12-15T12:35:38.372559Z",
     "iopub.status.idle": "2022-12-15T12:35:38.409682Z",
     "shell.execute_reply": "2022-12-15T12:35:38.407099Z"
    },
    "papermill": {
     "duration": 0.058739,
     "end_time": "2022-12-15T12:35:38.413240",
     "exception": false,
     "start_time": "2022-12-15T12:35:38.354501",
     "status": "completed"
    },
    "tags": []
   },
   "outputs": [
    {
     "name": "stderr",
     "output_type": "stream",
     "text": [
      "/opt/conda/lib/python3.7/site-packages/pandas/util/_decorators.py:311: SettingWithCopyWarning: \n",
      "A value is trying to be set on a copy of a slice from a DataFrame\n",
      "\n",
      "See the caveats in the documentation: https://pandas.pydata.org/pandas-docs/stable/user_guide/indexing.html#returning-a-view-versus-a-copy\n",
      "  return func(*args, **kwargs)\n"
     ]
    }
   ],
   "source": [
    "age_and_frequency.dropna(axis = 0, subset = ['age'], inplace = True)\n",
    "\n",
    "# nan -> no response\n",
    "# 'NONE' -> 'None'\n"
   ]
  },
  {
   "cell_type": "code",
   "execution_count": 28,
   "id": "77a3d883",
   "metadata": {
    "execution": {
     "iopub.execute_input": "2022-12-15T12:35:38.450028Z",
     "iopub.status.busy": "2022-12-15T12:35:38.449474Z",
     "iopub.status.idle": "2022-12-15T12:35:38.487028Z",
     "shell.execute_reply": "2022-12-15T12:35:38.484376Z"
    },
    "papermill": {
     "duration": 0.058563,
     "end_time": "2022-12-15T12:35:38.490202",
     "exception": false,
     "start_time": "2022-12-15T12:35:38.431639",
     "status": "completed"
    },
    "tags": []
   },
   "outputs": [
    {
     "name": "stderr",
     "output_type": "stream",
     "text": [
      "/opt/conda/lib/python3.7/site-packages/pandas/core/frame.py:5182: SettingWithCopyWarning: \n",
      "A value is trying to be set on a copy of a slice from a DataFrame\n",
      "\n",
      "See the caveats in the documentation: https://pandas.pydata.org/pandas-docs/stable/user_guide/indexing.html#returning-a-view-versus-a-copy\n",
      "  downcast=downcast,\n"
     ]
    }
   ],
   "source": [
    "age_and_frequency.fillna('No Response', inplace = True)"
   ]
  },
  {
   "cell_type": "code",
   "execution_count": 29,
   "id": "27e89b70",
   "metadata": {
    "execution": {
     "iopub.execute_input": "2022-12-15T12:35:38.526107Z",
     "iopub.status.busy": "2022-12-15T12:35:38.525045Z",
     "iopub.status.idle": "2022-12-15T12:35:38.556042Z",
     "shell.execute_reply": "2022-12-15T12:35:38.554091Z"
    },
    "papermill": {
     "duration": 0.052247,
     "end_time": "2022-12-15T12:35:38.559294",
     "exception": false,
     "start_time": "2022-12-15T12:35:38.507047",
     "status": "completed"
    },
    "tags": []
   },
   "outputs": [
    {
     "name": "stderr",
     "output_type": "stream",
     "text": [
      "/opt/conda/lib/python3.7/site-packages/ipykernel_launcher.py:2: SettingWithCopyWarning: \n",
      "A value is trying to be set on a copy of a slice from a DataFrame.\n",
      "Try using .loc[row_indexer,col_indexer] = value instead\n",
      "\n",
      "See the caveats in the documentation: https://pandas.pydata.org/pandas-docs/stable/user_guide/indexing.html#returning-a-view-versus-a-copy\n",
      "  \n"
     ]
    }
   ],
   "source": [
    "# number\n",
    "age_and_frequency['fashion_news_frequency'] = age_and_frequency['fashion_news_frequency'].replace('NONE', 'None')"
   ]
  },
  {
   "cell_type": "code",
   "execution_count": 30,
   "id": "d7505420",
   "metadata": {
    "execution": {
     "iopub.execute_input": "2022-12-15T12:35:38.599060Z",
     "iopub.status.busy": "2022-12-15T12:35:38.598470Z",
     "iopub.status.idle": "2022-12-15T12:35:38.722714Z",
     "shell.execute_reply": "2022-12-15T12:35:38.721234Z"
    },
    "papermill": {
     "duration": 0.148611,
     "end_time": "2022-12-15T12:35:38.725853",
     "exception": false,
     "start_time": "2022-12-15T12:35:38.577242",
     "status": "completed"
    },
    "tags": []
   },
   "outputs": [],
   "source": [
    "age_and_frequency = age_and_frequency.groupby(['age'])['fashion_news_frequency'].value_counts().reset_index(name = 'frequency_status')"
   ]
  },
  {
   "cell_type": "code",
   "execution_count": 31,
   "id": "712a4e40",
   "metadata": {
    "execution": {
     "iopub.execute_input": "2022-12-15T12:35:38.760162Z",
     "iopub.status.busy": "2022-12-15T12:35:38.759741Z",
     "iopub.status.idle": "2022-12-15T12:35:38.775955Z",
     "shell.execute_reply": "2022-12-15T12:35:38.774458Z"
    },
    "papermill": {
     "duration": 0.036511,
     "end_time": "2022-12-15T12:35:38.778832",
     "exception": false,
     "start_time": "2022-12-15T12:35:38.742321",
     "status": "completed"
    },
    "tags": []
   },
   "outputs": [
    {
     "data": {
      "text/html": [
       "<div>\n",
       "<style scoped>\n",
       "    .dataframe tbody tr th:only-of-type {\n",
       "        vertical-align: middle;\n",
       "    }\n",
       "\n",
       "    .dataframe tbody tr th {\n",
       "        vertical-align: top;\n",
       "    }\n",
       "\n",
       "    .dataframe thead th {\n",
       "        text-align: right;\n",
       "    }\n",
       "</style>\n",
       "<table border=\"1\" class=\"dataframe\">\n",
       "  <thead>\n",
       "    <tr style=\"text-align: right;\">\n",
       "      <th></th>\n",
       "      <th>age</th>\n",
       "      <th>frequency_status</th>\n",
       "    </tr>\n",
       "  </thead>\n",
       "  <tbody>\n",
       "    <tr>\n",
       "      <th>age</th>\n",
       "      <td>1.000000</td>\n",
       "      <td>-0.795244</td>\n",
       "    </tr>\n",
       "    <tr>\n",
       "      <th>frequency_status</th>\n",
       "      <td>-0.795244</td>\n",
       "      <td>1.000000</td>\n",
       "    </tr>\n",
       "  </tbody>\n",
       "</table>\n",
       "</div>"
      ],
      "text/plain": [
       "                       age  frequency_status\n",
       "age               1.000000         -0.795244\n",
       "frequency_status -0.795244          1.000000"
      ]
     },
     "execution_count": 31,
     "metadata": {},
     "output_type": "execute_result"
    }
   ],
   "source": [
    "# Hypothesis : As you get older, you're not likely to have regular frequency_status\n",
    "age_and_frequency[age_and_frequency['fashion_news_frequency'] == 'Regularly'].corr()"
   ]
  },
  {
   "cell_type": "code",
   "execution_count": null,
   "id": "a1192471",
   "metadata": {
    "papermill": {
     "duration": 0.016282,
     "end_time": "2022-12-15T12:35:38.812930",
     "exception": false,
     "start_time": "2022-12-15T12:35:38.796648",
     "status": "completed"
    },
    "tags": []
   },
   "outputs": [],
   "source": []
  },
  {
   "cell_type": "code",
   "execution_count": 32,
   "id": "0780865f",
   "metadata": {
    "execution": {
     "iopub.execute_input": "2022-12-15T12:35:38.848672Z",
     "iopub.status.busy": "2022-12-15T12:35:38.848165Z",
     "iopub.status.idle": "2022-12-15T12:36:57.976860Z",
     "shell.execute_reply": "2022-12-15T12:36:57.975318Z"
    },
    "papermill": {
     "duration": 79.167918,
     "end_time": "2022-12-15T12:36:57.997468",
     "exception": false,
     "start_time": "2022-12-15T12:35:38.829550",
     "status": "completed"
    },
    "tags": []
   },
   "outputs": [
    {
     "data": {
      "text/html": [
       "<div>\n",
       "<style scoped>\n",
       "    .dataframe tbody tr th:only-of-type {\n",
       "        vertical-align: middle;\n",
       "    }\n",
       "\n",
       "    .dataframe tbody tr th {\n",
       "        vertical-align: top;\n",
       "    }\n",
       "\n",
       "    .dataframe thead th {\n",
       "        text-align: right;\n",
       "    }\n",
       "</style>\n",
       "<table border=\"1\" class=\"dataframe\">\n",
       "  <thead>\n",
       "    <tr style=\"text-align: right;\">\n",
       "      <th></th>\n",
       "      <th>t_dat</th>\n",
       "      <th>customer_id</th>\n",
       "      <th>article_id</th>\n",
       "      <th>price</th>\n",
       "      <th>sales_channel_id</th>\n",
       "    </tr>\n",
       "  </thead>\n",
       "  <tbody>\n",
       "    <tr>\n",
       "      <th>0</th>\n",
       "      <td>2018-09-20</td>\n",
       "      <td>000058a12d5b43e67d225668fa1f8d618c13dc232df0ca...</td>\n",
       "      <td>663713001</td>\n",
       "      <td>0.050831</td>\n",
       "      <td>2</td>\n",
       "    </tr>\n",
       "    <tr>\n",
       "      <th>1</th>\n",
       "      <td>2018-09-20</td>\n",
       "      <td>000058a12d5b43e67d225668fa1f8d618c13dc232df0ca...</td>\n",
       "      <td>541518023</td>\n",
       "      <td>0.030492</td>\n",
       "      <td>2</td>\n",
       "    </tr>\n",
       "    <tr>\n",
       "      <th>2</th>\n",
       "      <td>2018-09-20</td>\n",
       "      <td>00007d2de826758b65a93dd24ce629ed66842531df6699...</td>\n",
       "      <td>505221004</td>\n",
       "      <td>0.015237</td>\n",
       "      <td>2</td>\n",
       "    </tr>\n",
       "    <tr>\n",
       "      <th>3</th>\n",
       "      <td>2018-09-20</td>\n",
       "      <td>00007d2de826758b65a93dd24ce629ed66842531df6699...</td>\n",
       "      <td>685687003</td>\n",
       "      <td>0.016932</td>\n",
       "      <td>2</td>\n",
       "    </tr>\n",
       "    <tr>\n",
       "      <th>4</th>\n",
       "      <td>2018-09-20</td>\n",
       "      <td>00007d2de826758b65a93dd24ce629ed66842531df6699...</td>\n",
       "      <td>685687004</td>\n",
       "      <td>0.016932</td>\n",
       "      <td>2</td>\n",
       "    </tr>\n",
       "  </tbody>\n",
       "</table>\n",
       "</div>"
      ],
      "text/plain": [
       "        t_dat                                        customer_id  article_id  \\\n",
       "0  2018-09-20  000058a12d5b43e67d225668fa1f8d618c13dc232df0ca...   663713001   \n",
       "1  2018-09-20  000058a12d5b43e67d225668fa1f8d618c13dc232df0ca...   541518023   \n",
       "2  2018-09-20  00007d2de826758b65a93dd24ce629ed66842531df6699...   505221004   \n",
       "3  2018-09-20  00007d2de826758b65a93dd24ce629ed66842531df6699...   685687003   \n",
       "4  2018-09-20  00007d2de826758b65a93dd24ce629ed66842531df6699...   685687004   \n",
       "\n",
       "      price  sales_channel_id  \n",
       "0  0.050831                 2  \n",
       "1  0.030492                 2  \n",
       "2  0.015237                 2  \n",
       "3  0.016932                 2  \n",
       "4  0.016932                 2  "
      ]
     },
     "execution_count": 32,
     "metadata": {},
     "output_type": "execute_result"
    }
   ],
   "source": [
    "# EDA : Transaction\n",
    "transactions = create_df(transactions)\n",
    "transactions.head()"
   ]
  },
  {
   "cell_type": "code",
   "execution_count": null,
   "id": "45a39e10",
   "metadata": {
    "papermill": {
     "duration": 0.016227,
     "end_time": "2022-12-15T12:36:58.030376",
     "exception": false,
     "start_time": "2022-12-15T12:36:58.014149",
     "status": "completed"
    },
    "tags": []
   },
   "outputs": [],
   "source": []
  },
  {
   "cell_type": "code",
   "execution_count": 33,
   "id": "d88e0802",
   "metadata": {
    "execution": {
     "iopub.execute_input": "2022-12-15T12:36:58.065322Z",
     "iopub.status.busy": "2022-12-15T12:36:58.064883Z",
     "iopub.status.idle": "2022-12-15T12:37:55.993065Z",
     "shell.execute_reply": "2022-12-15T12:37:55.990691Z"
    },
    "papermill": {
     "duration": 57.949536,
     "end_time": "2022-12-15T12:37:55.996613",
     "exception": false,
     "start_time": "2022-12-15T12:36:58.047077",
     "status": "completed"
    },
    "tags": []
   },
   "outputs": [
    {
     "name": "stderr",
     "output_type": "stream",
     "text": [
      "/opt/conda/lib/python3.7/site-packages/ipykernel_launcher.py:6: SettingWithCopyWarning: \n",
      "A value is trying to be set on a copy of a slice from a DataFrame.\n",
      "Try using .loc[row_indexer,col_indexer] = value instead\n",
      "\n",
      "See the caveats in the documentation: https://pandas.pydata.org/pandas-docs/stable/user_guide/indexing.html#returning-a-view-versus-a-copy\n",
      "  \n"
     ]
    },
    {
     "data": {
      "text/html": [
       "<div>\n",
       "<style scoped>\n",
       "    .dataframe tbody tr th:only-of-type {\n",
       "        vertical-align: middle;\n",
       "    }\n",
       "\n",
       "    .dataframe tbody tr th {\n",
       "        vertical-align: top;\n",
       "    }\n",
       "\n",
       "    .dataframe thead th {\n",
       "        text-align: right;\n",
       "    }\n",
       "</style>\n",
       "<table border=\"1\" class=\"dataframe\">\n",
       "  <thead>\n",
       "    <tr style=\"text-align: right;\">\n",
       "      <th></th>\n",
       "      <th>article_id</th>\n",
       "      <th>price</th>\n",
       "      <th>index_name</th>\n",
       "      <th>product_group_name</th>\n",
       "    </tr>\n",
       "  </thead>\n",
       "  <tbody>\n",
       "    <tr>\n",
       "      <th>0</th>\n",
       "      <td>0663713001</td>\n",
       "      <td>0.050831</td>\n",
       "      <td>Lingeries/Tights</td>\n",
       "      <td>Underwear</td>\n",
       "    </tr>\n",
       "    <tr>\n",
       "      <th>1</th>\n",
       "      <td>0663713001</td>\n",
       "      <td>0.049475</td>\n",
       "      <td>Lingeries/Tights</td>\n",
       "      <td>Underwear</td>\n",
       "    </tr>\n",
       "    <tr>\n",
       "      <th>2</th>\n",
       "      <td>0663713001</td>\n",
       "      <td>0.050831</td>\n",
       "      <td>Lingeries/Tights</td>\n",
       "      <td>Underwear</td>\n",
       "    </tr>\n",
       "    <tr>\n",
       "      <th>3</th>\n",
       "      <td>0663713001</td>\n",
       "      <td>0.050831</td>\n",
       "      <td>Lingeries/Tights</td>\n",
       "      <td>Underwear</td>\n",
       "    </tr>\n",
       "    <tr>\n",
       "      <th>4</th>\n",
       "      <td>0663713001</td>\n",
       "      <td>0.050831</td>\n",
       "      <td>Lingeries/Tights</td>\n",
       "      <td>Underwear</td>\n",
       "    </tr>\n",
       "  </tbody>\n",
       "</table>\n",
       "</div>"
      ],
      "text/plain": [
       "   article_id     price        index_name product_group_name\n",
       "0  0663713001  0.050831  Lingeries/Tights          Underwear\n",
       "1  0663713001  0.049475  Lingeries/Tights          Underwear\n",
       "2  0663713001  0.050831  Lingeries/Tights          Underwear\n",
       "3  0663713001  0.050831  Lingeries/Tights          Underwear\n",
       "4  0663713001  0.050831  Lingeries/Tights          Underwear"
      ]
     },
     "execution_count": 33,
     "metadata": {},
     "output_type": "execute_result"
    }
   ],
   "source": [
    "# How's the distribution of price\n",
    "\n",
    "def price_distribution(df:pd.DataFrame, col:str):\n",
    "    df[col].plot.hist()\n",
    "    plt.show()\n",
    "    \n",
    "# Which channel do they use the most?\n",
    "\n",
    "def channel_frequency(df:pd.DataFrame, col:str):\n",
    "    res = df[col].value_counts()\n",
    "    return res\n",
    "\n",
    "# Which products do they buy the most?(top N)\n",
    "\n",
    "def loyal_cust(df:pd.DataFrame, col:str, top_n:int):\n",
    "    top_n_cust = df[col].value_counts()[:top_n]\n",
    "    return top_n_cust\n",
    "\n",
    "# Take a look at price by sub group of product\n",
    "\n",
    "articles_df = articles[['article_id','index_name', 'product_group_name']]\n",
    "\n",
    "transactions_df = transactions[['article_id', 'price']]\n",
    "ids = transactions_df['article_id']\n",
    "transactions_df = get_article_id(transactions_df, ids)\n",
    "\n",
    "merge_df = transactions_df.merge(articles_df, on='article_id')\n",
    "merge_df.head()"
   ]
  },
  {
   "cell_type": "code",
   "execution_count": 34,
   "id": "1a58a085",
   "metadata": {
    "execution": {
     "iopub.execute_input": "2022-12-15T12:37:56.034783Z",
     "iopub.status.busy": "2022-12-15T12:37:56.034199Z",
     "iopub.status.idle": "2022-12-15T12:37:58.854429Z",
     "shell.execute_reply": "2022-12-15T12:37:58.852903Z"
    },
    "papermill": {
     "duration": 2.84316,
     "end_time": "2022-12-15T12:37:58.857595",
     "exception": false,
     "start_time": "2022-12-15T12:37:56.014435",
     "status": "completed"
    },
    "tags": []
   },
   "outputs": [
    {
     "data": {
      "text/plain": [
       "706016001    50287\n",
       "706016002    35043\n",
       "372860001    31718\n",
       "610776002    30199\n",
       "759871002    26329\n",
       "464297007    25025\n",
       "372860002    24458\n",
       "610776001    22451\n",
       "399223001    22236\n",
       "706016003    21241\n",
       "Name: article_id, dtype: int64"
      ]
     },
     "execution_count": 34,
     "metadata": {},
     "output_type": "execute_result"
    }
   ],
   "source": [
    "loyal_cust(transactions, 'article_id', 10)"
   ]
  },
  {
   "cell_type": "code",
   "execution_count": 35,
   "id": "e5cb5210",
   "metadata": {
    "execution": {
     "iopub.execute_input": "2022-12-15T12:37:58.894240Z",
     "iopub.status.busy": "2022-12-15T12:37:58.893829Z",
     "iopub.status.idle": "2022-12-15T12:37:58.902305Z",
     "shell.execute_reply": "2022-12-15T12:37:58.900473Z"
    },
    "papermill": {
     "duration": 0.03006,
     "end_time": "2022-12-15T12:37:58.905161",
     "exception": false,
     "start_time": "2022-12-15T12:37:58.875101",
     "status": "completed"
    },
    "tags": []
   },
   "outputs": [],
   "source": [
    "# How's the mean price for each product by index_name?\n",
    "\n",
    "def mean_price(df:pd.DataFrame, groupby_col:str):\n",
    "    \n",
    "    res = df.groupby(groupby_col)['price'].mean().reset_index()\n",
    "    res = res.sort_values(by = 'price', ascending = False)\n",
    "\n",
    "    sns.set_style('darkgrid')\n",
    "    f,ax = plt.subplots(figsize = (10, 5))\n",
    "    ax = sns.barplot(x = res.price, y = res.index_name, color = 'pink', alpha = 0.8)\n",
    "    plt.show()"
   ]
  },
  {
   "cell_type": "code",
   "execution_count": 36,
   "id": "709f12dc",
   "metadata": {
    "execution": {
     "iopub.execute_input": "2022-12-15T12:37:58.941066Z",
     "iopub.status.busy": "2022-12-15T12:37:58.940578Z",
     "iopub.status.idle": "2022-12-15T12:38:02.676462Z",
     "shell.execute_reply": "2022-12-15T12:38:02.674972Z"
    },
    "papermill": {
     "duration": 3.757973,
     "end_time": "2022-12-15T12:38:02.679855",
     "exception": false,
     "start_time": "2022-12-15T12:37:58.921882",
     "status": "completed"
    },
    "tags": []
   },
   "outputs": [
    {
     "data": {
      "image/png": "[encoded data removed]",
      "text/plain": [
       "<Figure size 720x360 with 1 Axes>"
      ]
     },
     "metadata": {},
     "output_type": "display_data"
    }
   ],
   "source": [
    "mean_price(merge_df, 'index_name')"
   ]
  },
  {
   "cell_type": "code",
   "execution_count": 37,
   "id": "236f54ab",
   "metadata": {
    "execution": {
     "iopub.execute_input": "2022-12-15T12:38:02.717381Z",
     "iopub.status.busy": "2022-12-15T12:38:02.716922Z",
     "iopub.status.idle": "2022-12-15T12:38:35.825660Z",
     "shell.execute_reply": "2022-12-15T12:38:35.824120Z"
    },
    "papermill": {
     "duration": 33.149225,
     "end_time": "2022-12-15T12:38:35.846908",
     "exception": false,
     "start_time": "2022-12-15T12:38:02.697683",
     "status": "completed"
    },
    "tags": []
   },
   "outputs": [
    {
     "data": {
      "image/png": "[encoded data removed]",
      "text/plain": [
       "<Figure size 432x288 with 1 Axes>"
      ]
     },
     "metadata": {},
     "output_type": "display_data"
    }
   ],
   "source": [
    "# EDA : image\n",
    "\n",
    "import os, sys\n",
    "import glob\n",
    "from PIL import Image\n",
    "import matplotlib.pyplot as plt\n",
    "\n",
    "path = '../input/h-and-m-personalized-fashion-recommendations/images'\n",
    "\n",
    "f_lst = []\n",
    "for filename in os.listdir(path):\n",
    "    res = os.path.join(path, filename)\n",
    "    for file in os.listdir(res):\n",
    "        f_lst.append(file)\n",
    "\n",
    "for article_id in articles['article_id']:\n",
    "    folder = article_id[:3]\n",
    "    img = f'{article_id}.jpg'\n",
    "    if img in f_lst:\n",
    "        path = f'../input/h-and-m-personalized-fashion-recommendations/images/{folder}/{img}'\n",
    "        res = Image.open(path)\n",
    "        plt.imshow(res)\n",
    "        break"
   ]
  }
 ],
 "metadata": {
  "kernelspec": {
   "display_name": "Python 3",
   "language": "python",
   "name": "python3"
  },
  "language_info": {
   "codemirror_mode": {
    "name": "ipython",
    "version": 3
   },
   "file_extension": ".py",
   "mimetype": "text/x-python",
   "name": "python",
   "nbconvert_exporter": "python",
   "pygments_lexer": "ipython3",
   "version": "3.7.12"
  },
  "papermill": {
   "default_parameters": {},
   "duration": 206.286081,
   "end_time": "2022-12-15T12:38:38.690497",
   "environment_variables": {},
   "exception": null,
   "input_path": "__notebook__.ipynb",
   "output_path": "__notebook__.ipynb",
   "parameters": {},
   "start_time": "2022-12-15T12:35:12.404416",
   "version": "2.3.4"
  }
 },
 "nbformat": 4,
 "nbformat_minor": 5
}
